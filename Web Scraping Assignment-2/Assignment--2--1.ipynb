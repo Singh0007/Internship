{
 "cells": [
  {
   "cell_type": "code",
   "execution_count": 28,
   "id": "01560b15",
   "metadata": {},
   "outputs": [],
   "source": [
    "import pandas as pd\n",
    "import selenium\n",
    "from selenium import webdriver\n",
    "import warnings\n",
    "warnings.filterwarnings(\"ignore\")\n",
    "from selenium.webdriver.common.keys import Keys\n",
    "from selenium.common.exceptions import StaleElementReferenceException,NoSuchElementException\n",
    "from selenium.webdriver.common.by import By\n",
    "import time\n",
    "from bs4 import BeautifulSoup\n",
    "import requests \n",
    "import re"
   ]
  },
  {
   "cell_type": "code",
   "execution_count": 29,
   "id": "dea7822e",
   "metadata": {},
   "outputs": [],
   "source": [
    "driver=webdriver.Chrome(r\"C:\\Users\\GauRav SingH\\Desktop\\Internship\\Selenium\\chromedriver.exe\")"
   ]
  },
  {
   "cell_type": "markdown",
   "id": "11e2dcfd",
   "metadata": {},
   "source": [
    "### Q1: Write a python program to scrape data for “Data Analyst” Job position in “Bangalore” location. You\n",
    "have to scrape the \n",
    "job-title, job-location, company_name, experience_required. You have to scrape first 10\n",
    "jobs data."
   ]
  },
  {
   "cell_type": "code",
   "execution_count": 17,
   "id": "cf07ba20",
   "metadata": {},
   "outputs": [],
   "source": [
    "driver.get(\"https://www.naukri.com/\")"
   ]
  },
  {
   "cell_type": "code",
   "execution_count": 18,
   "id": "e83b4b95",
   "metadata": {},
   "outputs": [],
   "source": [
    "designation=driver.find_element(By.CLASS_NAME,\"suggestor-input\")"
   ]
  },
  {
   "cell_type": "code",
   "execution_count": 19,
   "id": "ba5325bd",
   "metadata": {},
   "outputs": [],
   "source": [
    "designation.send_keys(\"Data Analyst\")"
   ]
  },
  {
   "cell_type": "code",
   "execution_count": 20,
   "id": "96581b17",
   "metadata": {},
   "outputs": [],
   "source": [
    "location=driver.find_element(By.XPATH,\"/html/body/div[1]/div[6]/div/div/div[5]/div/div/div/input\")"
   ]
  },
  {
   "cell_type": "code",
   "execution_count": 21,
   "id": "b8ca930b",
   "metadata": {},
   "outputs": [],
   "source": [
    "location.send_keys(\"Bangalore\")"
   ]
  },
  {
   "cell_type": "code",
   "execution_count": 22,
   "id": "6749590d",
   "metadata": {},
   "outputs": [],
   "source": [
    "search=driver.find_element(By.CLASS_NAME,\"qsbSubmit\")\n",
    "search.click()"
   ]
  },
  {
   "cell_type": "code",
   "execution_count": 23,
   "id": "5dccbb30",
   "metadata": {},
   "outputs": [],
   "source": [
    "job_location=[]\n",
    "company_name=[]\n",
    "experience_required=[]"
   ]
  },
  {
   "cell_type": "code",
   "execution_count": 24,
   "id": "60579e48",
   "metadata": {},
   "outputs": [],
   "source": [
    "job_title=[]\n",
    "title_tags=driver.find_elements(By.XPATH,'//a[@class=\"title ellipsis\"]')\n",
    "for i in title_tags[0:10]:\n",
    "    title=i.text\n",
    "    job_title.append(title)\n",
    "\n",
    "job_tags=driver.find_elements(By.XPATH,'//span[@class=\"ellipsis fleft locWdth\"]')\n",
    "for i in job_tags[0:10]:\n",
    "    job=i.text\n",
    "    job_location.append(job)\n",
    "\n",
    "company_n=driver.find_elements(By.XPATH,'//a[@class=\"subTitle ellipsis fleft\"]')\n",
    "for i in company_n[0:10]:\n",
    "    cmp=i.text\n",
    "    company_name.append(cmp)\n",
    "\n",
    "    \n",
    "experienced=driver.find_elements(By.XPATH,'//span[@class=\"ellipsis fleft expwdth\"]')\n",
    "for i in experienced[0:10]:\n",
    "    exp=i.text\n",
    "    experience_required.append(exp)"
   ]
  },
  {
   "cell_type": "code",
   "execution_count": 25,
   "id": "2be235d5",
   "metadata": {},
   "outputs": [
    {
     "name": "stdout",
     "output_type": "stream",
     "text": [
      "10\n"
     ]
    }
   ],
   "source": [
    "print(len(company_name))"
   ]
  },
  {
   "cell_type": "code",
   "execution_count": 26,
   "id": "a0417af0",
   "metadata": {},
   "outputs": [],
   "source": [
    "df=pd.DataFrame({\"Title\":job_title,\"Location\":job_location,\"Company_Name\":company_name,\"Experience\":experience_required})"
   ]
  },
  {
   "cell_type": "code",
   "execution_count": 27,
   "id": "54ac3147",
   "metadata": {},
   "outputs": [
    {
     "data": {
      "text/html": [
       "<div>\n",
       "<style scoped>\n",
       "    .dataframe tbody tr th:only-of-type {\n",
       "        vertical-align: middle;\n",
       "    }\n",
       "\n",
       "    .dataframe tbody tr th {\n",
       "        vertical-align: top;\n",
       "    }\n",
       "\n",
       "    .dataframe thead th {\n",
       "        text-align: right;\n",
       "    }\n",
       "</style>\n",
       "<table border=\"1\" class=\"dataframe\">\n",
       "  <thead>\n",
       "    <tr style=\"text-align: right;\">\n",
       "      <th></th>\n",
       "      <th>Title</th>\n",
       "      <th>Location</th>\n",
       "      <th>Company_Name</th>\n",
       "      <th>Experience</th>\n",
       "    </tr>\n",
       "  </thead>\n",
       "  <tbody>\n",
       "    <tr>\n",
       "      <th>0</th>\n",
       "      <td>Graduate Data Analyst</td>\n",
       "      <td>Hybrid - Bangalore/Bengaluru</td>\n",
       "      <td>Kwalee India</td>\n",
       "      <td>0-2 Yrs</td>\n",
       "    </tr>\n",
       "    <tr>\n",
       "      <th>1</th>\n",
       "      <td>Data Analyst</td>\n",
       "      <td>Permanent Remote</td>\n",
       "      <td>Novitas Infotech</td>\n",
       "      <td>3-8 Yrs</td>\n",
       "    </tr>\n",
       "    <tr>\n",
       "      <th>2</th>\n",
       "      <td>Data Analyst</td>\n",
       "      <td>Bangalore/Bengaluru</td>\n",
       "      <td>Truecaller</td>\n",
       "      <td>3-5 Yrs</td>\n",
       "    </tr>\n",
       "    <tr>\n",
       "      <th>3</th>\n",
       "      <td>Data Analyst</td>\n",
       "      <td>Hybrid - Bangalore/Bengaluru, Chennai</td>\n",
       "      <td>Virtusa</td>\n",
       "      <td>6-11 Yrs</td>\n",
       "    </tr>\n",
       "    <tr>\n",
       "      <th>4</th>\n",
       "      <td>Urgent Hiring | Data Analyst with GCP experience</td>\n",
       "      <td>Temp. WFH - Bangalore/Bengaluru, Noida, Pune, ...</td>\n",
       "      <td>Infogain</td>\n",
       "      <td>2-7 Yrs</td>\n",
       "    </tr>\n",
       "    <tr>\n",
       "      <th>5</th>\n",
       "      <td>Data Analyst</td>\n",
       "      <td>Hybrid - Bangalore/Bengaluru, Hyderabad/Secund...</td>\n",
       "      <td>People De Code Solutions</td>\n",
       "      <td>4-9 Yrs</td>\n",
       "    </tr>\n",
       "    <tr>\n",
       "      <th>6</th>\n",
       "      <td>Hiring For Data Analyst</td>\n",
       "      <td>Hybrid - Bangalore/Bengaluru</td>\n",
       "      <td>Absolutdata</td>\n",
       "      <td>4-6 Yrs</td>\n",
       "    </tr>\n",
       "    <tr>\n",
       "      <th>7</th>\n",
       "      <td>Data Analyst</td>\n",
       "      <td>Hybrid - Bangalore/Bengaluru</td>\n",
       "      <td>Spire Technology</td>\n",
       "      <td>0-0 Yrs</td>\n",
       "    </tr>\n",
       "    <tr>\n",
       "      <th>8</th>\n",
       "      <td>Data Analyst- Yulu Energy</td>\n",
       "      <td>Bangalore/Bengaluru</td>\n",
       "      <td>Yulu Bikes</td>\n",
       "      <td>0-1 Yrs</td>\n",
       "    </tr>\n",
       "    <tr>\n",
       "      <th>9</th>\n",
       "      <td>Data Analyst</td>\n",
       "      <td>Bangalore/Bengaluru</td>\n",
       "      <td>Entrupy</td>\n",
       "      <td>1-3 Yrs</td>\n",
       "    </tr>\n",
       "  </tbody>\n",
       "</table>\n",
       "</div>"
      ],
      "text/plain": [
       "                                              Title  \\\n",
       "0                             Graduate Data Analyst   \n",
       "1                                      Data Analyst   \n",
       "2                                      Data Analyst   \n",
       "3                                      Data Analyst   \n",
       "4  Urgent Hiring | Data Analyst with GCP experience   \n",
       "5                                      Data Analyst   \n",
       "6                           Hiring For Data Analyst   \n",
       "7                                      Data Analyst   \n",
       "8                         Data Analyst- Yulu Energy   \n",
       "9                                      Data Analyst   \n",
       "\n",
       "                                            Location  \\\n",
       "0                       Hybrid - Bangalore/Bengaluru   \n",
       "1                                   Permanent Remote   \n",
       "2                                Bangalore/Bengaluru   \n",
       "3              Hybrid - Bangalore/Bengaluru, Chennai   \n",
       "4  Temp. WFH - Bangalore/Bengaluru, Noida, Pune, ...   \n",
       "5  Hybrid - Bangalore/Bengaluru, Hyderabad/Secund...   \n",
       "6                       Hybrid - Bangalore/Bengaluru   \n",
       "7                       Hybrid - Bangalore/Bengaluru   \n",
       "8                                Bangalore/Bengaluru   \n",
       "9                                Bangalore/Bengaluru   \n",
       "\n",
       "               Company_Name Experience  \n",
       "0              Kwalee India    0-2 Yrs  \n",
       "1          Novitas Infotech    3-8 Yrs  \n",
       "2                Truecaller    3-5 Yrs  \n",
       "3                   Virtusa   6-11 Yrs  \n",
       "4                  Infogain    2-7 Yrs  \n",
       "5  People De Code Solutions    4-9 Yrs  \n",
       "6               Absolutdata    4-6 Yrs  \n",
       "7          Spire Technology    0-0 Yrs  \n",
       "8                Yulu Bikes    0-1 Yrs  \n",
       "9                   Entrupy    1-3 Yrs  "
      ]
     },
     "execution_count": 27,
     "metadata": {},
     "output_type": "execute_result"
    }
   ],
   "source": [
    "df"
   ]
  },
  {
   "cell_type": "code",
   "execution_count": 28,
   "id": "f2628877",
   "metadata": {},
   "outputs": [],
   "source": [
    "url=driver.find_elements(By.XPATH,'//a[@class=\"title ellipsis\"]')"
   ]
  },
  {
   "cell_type": "code",
   "execution_count": 29,
   "id": "479cb6f9",
   "metadata": {},
   "outputs": [],
   "source": [
    "job_url=[]\n",
    "for i in url[0:10]:\n",
    "    job_url.append(i.get_attribute(\"href\"))"
   ]
  },
  {
   "cell_type": "code",
   "execution_count": 30,
   "id": "06113b19",
   "metadata": {},
   "outputs": [
    {
     "data": {
      "text/plain": [
       "['https://www.naukri.com/job-listings-graduate-data-analyst-kwalee-india-bangalore-bengaluru-0-to-2-years-220223004388',\n",
       " 'https://www.naukri.com/job-listings-data-analyst-novitas-infotech-bangalore-bengaluru-3-to-8-years-210223009488',\n",
       " 'https://www.naukri.com/job-listings-data-analyst-true-caller-bangalore-bengaluru-3-to-5-years-220223500535',\n",
       " 'https://www.naukri.com/job-listings-data-analyst-virtusa-chennai-bangalore-bengaluru-6-to-11-years-220223010865',\n",
       " 'https://www.naukri.com/job-listings-urgent-hiring-data-analyst-with-gcp-experience-infogain-noida-pune-bangalore-bengaluru-mumbai-all-areas-2-to-7-years-220223010141',\n",
       " 'https://www.naukri.com/job-listings-data-analyst-people-de-code-solutions-hyderabad-secunderabad-chennai-bangalore-bengaluru-4-to-9-years-230223004852',\n",
       " 'https://www.naukri.com/job-listings-hiring-for-data-analyst-absolutdata-bangalore-bengaluru-4-to-6-years-210223010216',\n",
       " 'https://www.naukri.com/job-listings-data-analyst-spire-technology-bangalore-bengaluru-0-to-0-years-200223000925',\n",
       " 'https://www.naukri.com/job-listings-data-analyst-yulu-energy-yulu-bike-bangalore-bengaluru-0-to-1-years-160223502171',\n",
       " 'https://www.naukri.com/job-listings-data-analyst-entrupy-bangalore-bengaluru-1-to-3-years-100223501402']"
      ]
     },
     "execution_count": 30,
     "metadata": {},
     "output_type": "execute_result"
    }
   ],
   "source": [
    " job_url"
   ]
  },
  {
   "cell_type": "markdown",
   "id": "d6e6d04f",
   "metadata": {},
   "source": [
    "## Q2:Write a python program to scrape data for “Data Scientist” Job position in “Bangalore” location. You\n",
    "have to scrape the job-title, job-location, company_name. You have to scrape first 10 jobs data.\n",
    "This task will be done in following steps:\n",
    "1. First get the webpage https://www.naukri.com/\n",
    "2. Enter “Data Scientist” in “Skill, Designations, Companies” field and enter “Bangalore” in “enter the\n",
    "location” field.\n",
    "3. Then click the searchbutton.\n",
    "4. Then scrape the data for the first 10 jobs results youget.\n",
    "5. Finally create a dataframe of the scraped data."
   ]
  },
  {
   "cell_type": "code",
   "execution_count": 98,
   "id": "72ddfc8c",
   "metadata": {},
   "outputs": [],
   "source": [
    "driver.get(\"https://www.naukri.com/\")"
   ]
  },
  {
   "cell_type": "code",
   "execution_count": 99,
   "id": "e4191c44",
   "metadata": {},
   "outputs": [],
   "source": [
    "designation_2=driver.find_element(By.CLASS_NAME,\"suggestor-input\")\n",
    "designation_2.send_keys(\"Data Scientist\")\n",
    "\n",
    "location_2=driver.find_element(By.XPATH,\"/html/body/div[1]/div[6]/div/div/div[5]/div/div/div/input\")\n",
    "location_2.send_keys(\"Bangalore\")\n",
    "\n",
    "search=driver.find_element(By.CLASS_NAME,\"qsbSubmit\")\n",
    "search.click()"
   ]
  },
  {
   "cell_type": "code",
   "execution_count": 100,
   "id": "d315769c",
   "metadata": {},
   "outputs": [],
   "source": [
    "job_title=[]\n",
    "job_location=[]\n",
    "company_name=[]\n",
    "experience_required=[]"
   ]
  },
  {
   "cell_type": "code",
   "execution_count": 101,
   "id": "710ba25b",
   "metadata": {},
   "outputs": [],
   "source": [
    "j_title=driver.find_elements(By.XPATH,'//a[@class=\"title ellipsis\"]')\n",
    "for i in j_title[0:10]:\n",
    "    job_title.append(i.text)\n",
    "\n",
    "    \n",
    "j_loc=driver.find_elements(By.XPATH,'//span[@class=\"ellipsis fleft locWdth\"]')\n",
    "for i in j_loc[0:10]:\n",
    "    job_location.append(i.text)\n",
    "\n",
    "    \n",
    "c_name=driver.find_elements(By.XPATH,'//a[@class=\"subTitle ellipsis fleft\"]')\n",
    "for i in c_name[0:10]:\n",
    "    company_name.append(i.text)\n",
    "    \n",
    "    \n",
    "exe_req=driver.find_elements(By.XPATH,'//span[@class=\"ellipsis fleft expwdth\"]')\n",
    "for i in exe_req[0:10]:\n",
    "    experience_required.append(i.text)"
   ]
  },
  {
   "cell_type": "code",
   "execution_count": 102,
   "id": "541ab842",
   "metadata": {},
   "outputs": [
    {
     "data": {
      "text/plain": [
       "['Bangalore/Bengaluru, Kolkata, Mumbai, Hyderabad/Secunderabad, Pune, Chennai',\n",
       " 'Bangalore/Bengaluru, Kolkata, Mumbai, Hyderabad/Secunderabad, Pune, Chennai',\n",
       " 'Hybrid - Bangalore/Bengaluru, Kolkata, Hyderabad/Secunderabad, Pune, Chennai, Delhi / NCR, Mumbai (All Areas)',\n",
       " 'Bangalore/Bengaluru, Mumbai',\n",
       " 'Bangalore/Bengaluru, Hyderabad/Secunderabad, Mumbai (All Areas)',\n",
       " 'Bangalore/Bengaluru',\n",
       " 'Bangalore/Bengaluru, Mumbai',\n",
       " 'Bangalore/Bengaluru',\n",
       " 'Bangalore/Bengaluru',\n",
       " 'Temp. WFH - Bangalore/Bengaluru, Hyderabad/Secunderabad']"
      ]
     },
     "execution_count": 102,
     "metadata": {},
     "output_type": "execute_result"
    }
   ],
   "source": [
    "job_location"
   ]
  },
  {
   "cell_type": "code",
   "execution_count": 103,
   "id": "bbf63900",
   "metadata": {},
   "outputs": [
    {
     "data": {
      "text/html": [
       "<div>\n",
       "<style scoped>\n",
       "    .dataframe tbody tr th:only-of-type {\n",
       "        vertical-align: middle;\n",
       "    }\n",
       "\n",
       "    .dataframe tbody tr th {\n",
       "        vertical-align: top;\n",
       "    }\n",
       "\n",
       "    .dataframe thead th {\n",
       "        text-align: right;\n",
       "    }\n",
       "</style>\n",
       "<table border=\"1\" class=\"dataframe\">\n",
       "  <thead>\n",
       "    <tr style=\"text-align: right;\">\n",
       "      <th></th>\n",
       "      <th>Title</th>\n",
       "      <th>Location</th>\n",
       "      <th>Company_Name</th>\n",
       "      <th>Experience</th>\n",
       "    </tr>\n",
       "  </thead>\n",
       "  <tbody>\n",
       "    <tr>\n",
       "      <th>0</th>\n",
       "      <td>Data Science Specialist</td>\n",
       "      <td>Bangalore/Bengaluru, Kolkata, Mumbai, Hyderaba...</td>\n",
       "      <td>Accenture</td>\n",
       "      <td>2-4 Yrs</td>\n",
       "    </tr>\n",
       "    <tr>\n",
       "      <th>1</th>\n",
       "      <td>Analystics &amp; Modeling Specialist</td>\n",
       "      <td>Bangalore/Bengaluru, Kolkata, Mumbai, Hyderaba...</td>\n",
       "      <td>Accenture</td>\n",
       "      <td>6-8 Yrs</td>\n",
       "    </tr>\n",
       "    <tr>\n",
       "      <th>2</th>\n",
       "      <td>Data Scientist</td>\n",
       "      <td>Hybrid - Bangalore/Bengaluru, Kolkata, Hyderab...</td>\n",
       "      <td>Cognizant</td>\n",
       "      <td>8-10 Yrs</td>\n",
       "    </tr>\n",
       "    <tr>\n",
       "      <th>3</th>\n",
       "      <td>Staff Data Scientist</td>\n",
       "      <td>Bangalore/Bengaluru, Mumbai</td>\n",
       "      <td>Baker Hughes</td>\n",
       "      <td>10-12 Yrs</td>\n",
       "    </tr>\n",
       "    <tr>\n",
       "      <th>4</th>\n",
       "      <td>Sr. Data scientist</td>\n",
       "      <td>Bangalore/Bengaluru, Hyderabad/Secunderabad, M...</td>\n",
       "      <td>Tata Consultancy Services (TCS)</td>\n",
       "      <td>7-12 Yrs</td>\n",
       "    </tr>\n",
       "    <tr>\n",
       "      <th>5</th>\n",
       "      <td>Physicist / Scientist</td>\n",
       "      <td>Bangalore/Bengaluru</td>\n",
       "      <td>Applied Materials</td>\n",
       "      <td>4-7 Yrs</td>\n",
       "    </tr>\n",
       "    <tr>\n",
       "      <th>6</th>\n",
       "      <td>Expert Data Scientist</td>\n",
       "      <td>Bangalore/Bengaluru, Mumbai</td>\n",
       "      <td>UPL Limited</td>\n",
       "      <td>8-10 Yrs</td>\n",
       "    </tr>\n",
       "    <tr>\n",
       "      <th>7</th>\n",
       "      <td>SR. SPECIALIST, DATA ANALYTICS</td>\n",
       "      <td>Bangalore/Bengaluru</td>\n",
       "      <td>AT and T Global Business Services India P. Ltd.</td>\n",
       "      <td>5-10 Yrs</td>\n",
       "    </tr>\n",
       "    <tr>\n",
       "      <th>8</th>\n",
       "      <td>Senior Data Scientist</td>\n",
       "      <td>Bangalore/Bengaluru</td>\n",
       "      <td>AT and T Global Business Services India P. Ltd.</td>\n",
       "      <td>5-8 Yrs</td>\n",
       "    </tr>\n",
       "    <tr>\n",
       "      <th>9</th>\n",
       "      <td>Data Scientist Architect</td>\n",
       "      <td>Temp. WFH - Bangalore/Bengaluru, Hyderabad/Sec...</td>\n",
       "      <td>Brace Infotech</td>\n",
       "      <td>11-20 Yrs</td>\n",
       "    </tr>\n",
       "  </tbody>\n",
       "</table>\n",
       "</div>"
      ],
      "text/plain": [
       "                              Title  \\\n",
       "0           Data Science Specialist   \n",
       "1  Analystics & Modeling Specialist   \n",
       "2                    Data Scientist   \n",
       "3              Staff Data Scientist   \n",
       "4                Sr. Data scientist   \n",
       "5             Physicist / Scientist   \n",
       "6             Expert Data Scientist   \n",
       "7    SR. SPECIALIST, DATA ANALYTICS   \n",
       "8             Senior Data Scientist   \n",
       "9          Data Scientist Architect   \n",
       "\n",
       "                                            Location  \\\n",
       "0  Bangalore/Bengaluru, Kolkata, Mumbai, Hyderaba...   \n",
       "1  Bangalore/Bengaluru, Kolkata, Mumbai, Hyderaba...   \n",
       "2  Hybrid - Bangalore/Bengaluru, Kolkata, Hyderab...   \n",
       "3                        Bangalore/Bengaluru, Mumbai   \n",
       "4  Bangalore/Bengaluru, Hyderabad/Secunderabad, M...   \n",
       "5                                Bangalore/Bengaluru   \n",
       "6                        Bangalore/Bengaluru, Mumbai   \n",
       "7                                Bangalore/Bengaluru   \n",
       "8                                Bangalore/Bengaluru   \n",
       "9  Temp. WFH - Bangalore/Bengaluru, Hyderabad/Sec...   \n",
       "\n",
       "                                      Company_Name Experience  \n",
       "0                                        Accenture    2-4 Yrs  \n",
       "1                                        Accenture    6-8 Yrs  \n",
       "2                                        Cognizant   8-10 Yrs  \n",
       "3                                     Baker Hughes  10-12 Yrs  \n",
       "4                  Tata Consultancy Services (TCS)   7-12 Yrs  \n",
       "5                                Applied Materials    4-7 Yrs  \n",
       "6                                      UPL Limited   8-10 Yrs  \n",
       "7  AT and T Global Business Services India P. Ltd.   5-10 Yrs  \n",
       "8  AT and T Global Business Services India P. Ltd.    5-8 Yrs  \n",
       "9                                   Brace Infotech  11-20 Yrs  "
      ]
     },
     "execution_count": 103,
     "metadata": {},
     "output_type": "execute_result"
    }
   ],
   "source": [
    "df=pd.DataFrame({\"Title\":job_title,\"Location\":job_location,\"Company_Name\":company_name,\"Experience\":experience_required})\n",
    "df"
   ]
  },
  {
   "cell_type": "markdown",
   "id": "794bb884",
   "metadata": {},
   "source": [
    "### Q3: In this question you have to scrape data using the filters available on the webpage as shown below:\n",
    "\n",
    "The task will be done as shown in the below steps:\n",
    "1. first get thewebpage https://www.naukri.com/\n",
    "2. Enter “Data Scientist” in “Skill, Designations, and Companies” field.\n",
    "3. Then click the searchbutton.\n",
    "4. Then apply the location filter and salary filter by checking the respective boxes\n",
    "5. Then scrape the data for the first 10 jobs results youget.\n",
    "6. Finally create a dataframe of the scraped data."
   ]
  },
  {
   "cell_type": "markdown",
   "id": "134bc009",
   "metadata": {},
   "source": [
    "### Q4: Scrape data of first 100 sunglasses listings on flipkart.com. You have to scrape four attributes:\n",
    "1. Brand\n",
    "2. ProductDescription\n",
    "3. Price\n",
    "4. discount price"
   ]
  },
  {
   "cell_type": "code",
   "execution_count": 295,
   "id": "199815e0",
   "metadata": {},
   "outputs": [],
   "source": [
    "driver.get(\"https://www.flipkart.com/\")\n",
    "brand=driver.find_element(By.CLASS_NAME,\"_3704LK\")\n",
    "brand.send_keys(\"sunglasses\")\n",
    "search=driver.find_element(By.CLASS_NAME,\"L0Z3Pu\")\n",
    "search.click()"
   ]
  },
  {
   "cell_type": "code",
   "execution_count": 296,
   "id": "51b968d5",
   "metadata": {},
   "outputs": [],
   "source": [
    "Brand=[]\n",
    "productDescription=[]\n",
    "Price=[]\n",
    "Discount_percnt=[]\n",
    "#name=driver.find_elements(By.XPATH,'//div[@class=\"_2WkVRV\"]')\n",
    "#for i in name[0:40]:\n",
    "#    brand_name.append(i.text)"
   ]
  },
  {
   "cell_type": "code",
   "execution_count": 297,
   "id": "9e05c596",
   "metadata": {},
   "outputs": [],
   "source": [
    "start=0\n",
    "end=3\n",
    "for page in range(start,end):\n",
    "    name=driver.find_elements(By.XPATH,'//div[@class=\"_2WkVRV\"]')\n",
    "    desc=driver.find_elements(By.XPATH,'//a[@class=\"IRpwTa\"]')\n",
    "    price=driver.find_elements(By.XPATH,'//div[@class=\"_30jeq3\"]')\n",
    "    percent_off=driver.find_elements(By.XPATH,'//div[@class=\"_3Ay6Sb\"]')\n",
    "    \n",
    "            \n",
    "    \n",
    "    for i in name[0:33]:\n",
    "        Brand.append(i.text)\n",
    "    for i in desc[0:33]:\n",
    "        productDescription.append(i.text.strip().split('(')[0])\n",
    "    for i in price[0:33]:\n",
    "        Price.append(i.text)\n",
    "    for i in percent_off[0:33]:\n",
    "        Discount_percnt.append(i.text)\n",
    "    \n",
    "    \n",
    "    next_btn=driver.find_element(By.XPATH,'//a[@class=\"_1LKTO3\"]')\n",
    "    next_btn.click()\n",
    "    time.sleep(3)\n",
    "    "
   ]
  },
  {
   "cell_type": "code",
   "execution_count": 298,
   "id": "541618ac",
   "metadata": {},
   "outputs": [
    {
     "name": "stdout",
     "output_type": "stream",
     "text": [
      "99\n"
     ]
    }
   ],
   "source": [
    "print(len(Discount_percnt))"
   ]
  },
  {
   "cell_type": "code",
   "execution_count": 299,
   "id": "3473a8f7",
   "metadata": {},
   "outputs": [],
   "source": [
    "df_4=pd.DataFrame({\"Brand\":Brand,\"Product_Desc\":productDescription,\"Price\":Price,\"Discount_percent\":Discount_percnt})"
   ]
  },
  {
   "cell_type": "code",
   "execution_count": 300,
   "id": "4fe10374",
   "metadata": {},
   "outputs": [
    {
     "data": {
      "text/html": [
       "<div>\n",
       "<style scoped>\n",
       "    .dataframe tbody tr th:only-of-type {\n",
       "        vertical-align: middle;\n",
       "    }\n",
       "\n",
       "    .dataframe tbody tr th {\n",
       "        vertical-align: top;\n",
       "    }\n",
       "\n",
       "    .dataframe thead th {\n",
       "        text-align: right;\n",
       "    }\n",
       "</style>\n",
       "<table border=\"1\" class=\"dataframe\">\n",
       "  <thead>\n",
       "    <tr style=\"text-align: right;\">\n",
       "      <th></th>\n",
       "      <th>Brand</th>\n",
       "      <th>Product_Desc</th>\n",
       "      <th>Price</th>\n",
       "      <th>Discount_percent</th>\n",
       "    </tr>\n",
       "  </thead>\n",
       "  <tbody>\n",
       "    <tr>\n",
       "      <th>0</th>\n",
       "      <td>ROZZETTA CRAFT</td>\n",
       "      <td>UV Protection, Gradient Rectangular Sunglasses</td>\n",
       "      <td>₹423</td>\n",
       "      <td>78% off</td>\n",
       "    </tr>\n",
       "    <tr>\n",
       "      <th>1</th>\n",
       "      <td>OAKLEY</td>\n",
       "      <td>Shield Sunglass</td>\n",
       "      <td>₹6,149</td>\n",
       "      <td>30% off</td>\n",
       "    </tr>\n",
       "    <tr>\n",
       "      <th>2</th>\n",
       "      <td>Elligator</td>\n",
       "      <td>UV Protection Cat-eye, Retro Square, Oval, Rou...</td>\n",
       "      <td>₹219</td>\n",
       "      <td>63% off</td>\n",
       "    </tr>\n",
       "    <tr>\n",
       "      <th>3</th>\n",
       "      <td>Fastrack</td>\n",
       "      <td>UV Protection Aviator Sunglasses</td>\n",
       "      <td>₹579</td>\n",
       "      <td>35% off</td>\n",
       "    </tr>\n",
       "    <tr>\n",
       "      <th>4</th>\n",
       "      <td>Fastrack</td>\n",
       "      <td>UV Protection Rectangular Sunglasses</td>\n",
       "      <td>₹519</td>\n",
       "      <td>35% off</td>\n",
       "    </tr>\n",
       "    <tr>\n",
       "      <th>...</th>\n",
       "      <td>...</td>\n",
       "      <td>...</td>\n",
       "      <td>...</td>\n",
       "      <td>...</td>\n",
       "    </tr>\n",
       "    <tr>\n",
       "      <th>94</th>\n",
       "      <td>PIRASO</td>\n",
       "      <td>UV Protection Rectangular Sunglasses</td>\n",
       "      <td>₹254</td>\n",
       "      <td>84% off</td>\n",
       "    </tr>\n",
       "    <tr>\n",
       "      <th>95</th>\n",
       "      <td>NuVew</td>\n",
       "      <td>UV Protection, Mirrored Aviator Sunglasses</td>\n",
       "      <td>₹129</td>\n",
       "      <td>82% off</td>\n",
       "    </tr>\n",
       "    <tr>\n",
       "      <th>96</th>\n",
       "      <td>NuVew</td>\n",
       "      <td>UV Protection Aviator Sunglasses</td>\n",
       "      <td>₹125</td>\n",
       "      <td>83% off</td>\n",
       "    </tr>\n",
       "    <tr>\n",
       "      <th>97</th>\n",
       "      <td>IZAAN MART</td>\n",
       "      <td>UV Protection Cat-eye Sunglasses</td>\n",
       "      <td>₹225</td>\n",
       "      <td>77% off</td>\n",
       "    </tr>\n",
       "    <tr>\n",
       "      <th>98</th>\n",
       "      <td>VINCENT CHASE</td>\n",
       "      <td>Polarized, UV Protection Round Sunglasses</td>\n",
       "      <td>₹799</td>\n",
       "      <td>60% off</td>\n",
       "    </tr>\n",
       "  </tbody>\n",
       "</table>\n",
       "<p>99 rows × 4 columns</p>\n",
       "</div>"
      ],
      "text/plain": [
       "             Brand                                       Product_Desc   Price  \\\n",
       "0   ROZZETTA CRAFT    UV Protection, Gradient Rectangular Sunglasses     ₹423   \n",
       "1           OAKLEY                                    Shield Sunglass  ₹6,149   \n",
       "2        Elligator  UV Protection Cat-eye, Retro Square, Oval, Rou...    ₹219   \n",
       "3         Fastrack                  UV Protection Aviator Sunglasses     ₹579   \n",
       "4         Fastrack              UV Protection Rectangular Sunglasses     ₹519   \n",
       "..             ...                                                ...     ...   \n",
       "94          PIRASO              UV Protection Rectangular Sunglasses     ₹254   \n",
       "95           NuVew        UV Protection, Mirrored Aviator Sunglasses     ₹129   \n",
       "96           NuVew                  UV Protection Aviator Sunglasses     ₹125   \n",
       "97      IZAAN MART                  UV Protection Cat-eye Sunglasses     ₹225   \n",
       "98   VINCENT CHASE         Polarized, UV Protection Round Sunglasses     ₹799   \n",
       "\n",
       "   Discount_percent  \n",
       "0           78% off  \n",
       "1           30% off  \n",
       "2           63% off  \n",
       "3           35% off  \n",
       "4           35% off  \n",
       "..              ...  \n",
       "94          84% off  \n",
       "95          82% off  \n",
       "96          83% off  \n",
       "97          77% off  \n",
       "98          60% off  \n",
       "\n",
       "[99 rows x 4 columns]"
      ]
     },
     "execution_count": 300,
     "metadata": {},
     "output_type": "execute_result"
    }
   ],
   "source": [
    "df_4"
   ]
  },
  {
   "cell_type": "markdown",
   "id": "1294ecb8",
   "metadata": {},
   "source": [
    "### Q5: Scrape 100 reviews data from flipkart.com for iphone11 phone.\n",
    "\n",
    "1. Rating\n",
    "2. Review summary\n",
    "3. Full review\n",
    "4. You have to scrape this data for first 100reviews"
   ]
  },
  {
   "cell_type": "code",
   "execution_count": 33,
   "id": "de526cbb",
   "metadata": {},
   "outputs": [],
   "source": [
    "url_5=\"https://www.flipkart.com/apple-iphone-11-black-64-gb/product-reviews/itm4e5041ba101fd?pid=MOBFWQ6BXGJCEYNY&lid=LSTMOBFWQ6BXGJCEYNYZXSHRJ&market\"\n",
    "driver.get(url_5)"
   ]
  },
  {
   "cell_type": "code",
   "execution_count": 34,
   "id": "bcb59efe",
   "metadata": {},
   "outputs": [],
   "source": [
    "Rating=[]\n",
    "Review_summary=[]\n",
    "Full_review=[]"
   ]
  },
  {
   "cell_type": "code",
   "execution_count": 35,
   "id": "44a44865",
   "metadata": {},
   "outputs": [],
   "source": [
    "start=0\n",
    "end=10\n",
    "for page in range(start,end):\n",
    "    rating=driver.find_elements(By.XPATH,'//div[@class=\"_3LWZlK _1BLPMq\"]')\n",
    "    Review_summ=driver.find_elements(By.XPATH,'//p[@class=\"_2-N8zT\"]')\n",
    "    Full_rev=driver.find_elements(By.XPATH,'//div[@class=\"t-ZTKy\"]')\n",
    "                   \n",
    "       \n",
    "    for i in rating[0:10]:\n",
    "        Rating.append(i.text)\n",
    "        \n",
    "    for i in Review_summ[0:10]:\n",
    "        Review_summary.append(i.text) \n",
    "        \n",
    "    for i in Full_rev[0:10]:\n",
    "        Full_review.append(i.text)\n",
    "        \n",
    "        \n",
    "    next_btn=driver.find_element(By.XPATH,'//a[@class=\"_1LKTO3\"]')\n",
    "    next_btn.click()\n",
    "    time.sleep(3)\n",
    "    "
   ]
  },
  {
   "cell_type": "code",
   "execution_count": 39,
   "id": "f3e50920",
   "metadata": {},
   "outputs": [
    {
     "name": "stdout",
     "output_type": "stream",
     "text": [
      "100\n",
      "100\n",
      "100\n"
     ]
    },
    {
     "data": {
      "text/plain": [
       "(None, None, None)"
      ]
     },
     "execution_count": 39,
     "metadata": {},
     "output_type": "execute_result"
    }
   ],
   "source": [
    "print(len(Rating)),print(len(Review_summary)),print(len(Full_review))"
   ]
  },
  {
   "cell_type": "code",
   "execution_count": 40,
   "id": "48c40d2c",
   "metadata": {},
   "outputs": [],
   "source": [
    "df_5=pd.DataFrame({\"Rating\":Rating,\"Review_summary\":Review_summary,\"Full_review\":Full_review})"
   ]
  },
  {
   "cell_type": "code",
   "execution_count": 41,
   "id": "e74f2b25",
   "metadata": {},
   "outputs": [
    {
     "data": {
      "text/html": [
       "<div>\n",
       "<style scoped>\n",
       "    .dataframe tbody tr th:only-of-type {\n",
       "        vertical-align: middle;\n",
       "    }\n",
       "\n",
       "    .dataframe tbody tr th {\n",
       "        vertical-align: top;\n",
       "    }\n",
       "\n",
       "    .dataframe thead th {\n",
       "        text-align: right;\n",
       "    }\n",
       "</style>\n",
       "<table border=\"1\" class=\"dataframe\">\n",
       "  <thead>\n",
       "    <tr style=\"text-align: right;\">\n",
       "      <th></th>\n",
       "      <th>Rating</th>\n",
       "      <th>Review_summary</th>\n",
       "      <th>Full_review</th>\n",
       "    </tr>\n",
       "  </thead>\n",
       "  <tbody>\n",
       "    <tr>\n",
       "      <th>0</th>\n",
       "      <td>5</td>\n",
       "      <td>Simply awesome</td>\n",
       "      <td>Really satisfied with the Product I received.....</td>\n",
       "    </tr>\n",
       "    <tr>\n",
       "      <th>1</th>\n",
       "      <td>5</td>\n",
       "      <td>Perfect product!</td>\n",
       "      <td>Amazing phone with great cameras and better ba...</td>\n",
       "    </tr>\n",
       "    <tr>\n",
       "      <th>2</th>\n",
       "      <td>5</td>\n",
       "      <td>Best in the market!</td>\n",
       "      <td>Great iPhone very snappy experience as apple k...</td>\n",
       "    </tr>\n",
       "    <tr>\n",
       "      <th>3</th>\n",
       "      <td>4</td>\n",
       "      <td>Value-for-money</td>\n",
       "      <td>I'm Really happy with the product\\nDelivery wa...</td>\n",
       "    </tr>\n",
       "    <tr>\n",
       "      <th>4</th>\n",
       "      <td>5</td>\n",
       "      <td>Highly recommended</td>\n",
       "      <td>It's my first time to use iOS phone and I am l...</td>\n",
       "    </tr>\n",
       "    <tr>\n",
       "      <th>...</th>\n",
       "      <td>...</td>\n",
       "      <td>...</td>\n",
       "      <td>...</td>\n",
       "    </tr>\n",
       "    <tr>\n",
       "      <th>95</th>\n",
       "      <td>4</td>\n",
       "      <td>Value-for-money</td>\n",
       "      <td>Just got this iphone 11\\nAnd it is most powerf...</td>\n",
       "    </tr>\n",
       "    <tr>\n",
       "      <th>96</th>\n",
       "      <td>5</td>\n",
       "      <td>Perfect product!</td>\n",
       "      <td>Value for money❤️❤️\\nIts awesome mobile phone ...</td>\n",
       "    </tr>\n",
       "    <tr>\n",
       "      <th>97</th>\n",
       "      <td>5</td>\n",
       "      <td>Highly recommended</td>\n",
       "      <td>iphone 11 is a very good phone to buy only if ...</td>\n",
       "    </tr>\n",
       "    <tr>\n",
       "      <th>98</th>\n",
       "      <td>5</td>\n",
       "      <td>Highly recommended</td>\n",
       "      <td>Amazing camera quality as expected, battery al...</td>\n",
       "    </tr>\n",
       "    <tr>\n",
       "      <th>99</th>\n",
       "      <td>5</td>\n",
       "      <td>Perfect product!</td>\n",
       "      <td>It is just awesome mobile for this price from ...</td>\n",
       "    </tr>\n",
       "  </tbody>\n",
       "</table>\n",
       "<p>100 rows × 3 columns</p>\n",
       "</div>"
      ],
      "text/plain": [
       "   Rating       Review_summary  \\\n",
       "0       5       Simply awesome   \n",
       "1       5     Perfect product!   \n",
       "2       5  Best in the market!   \n",
       "3       4      Value-for-money   \n",
       "4       5   Highly recommended   \n",
       "..    ...                  ...   \n",
       "95      4      Value-for-money   \n",
       "96      5     Perfect product!   \n",
       "97      5   Highly recommended   \n",
       "98      5   Highly recommended   \n",
       "99      5     Perfect product!   \n",
       "\n",
       "                                          Full_review  \n",
       "0   Really satisfied with the Product I received.....  \n",
       "1   Amazing phone with great cameras and better ba...  \n",
       "2   Great iPhone very snappy experience as apple k...  \n",
       "3   I'm Really happy with the product\\nDelivery wa...  \n",
       "4   It's my first time to use iOS phone and I am l...  \n",
       "..                                                ...  \n",
       "95  Just got this iphone 11\\nAnd it is most powerf...  \n",
       "96  Value for money❤️❤️\\nIts awesome mobile phone ...  \n",
       "97  iphone 11 is a very good phone to buy only if ...  \n",
       "98  Amazing camera quality as expected, battery al...  \n",
       "99  It is just awesome mobile for this price from ...  \n",
       "\n",
       "[100 rows x 3 columns]"
      ]
     },
     "execution_count": 41,
     "metadata": {},
     "output_type": "execute_result"
    }
   ],
   "source": [
    "df_5"
   ]
  },
  {
   "cell_type": "markdown",
   "id": "a34f7fcd",
   "metadata": {},
   "source": [
    "### Q6: Scrape data for first 100 sneakers you find when you visit flipkart.com and search for “sneakers” in the\n",
    "search field.\n",
    "You have to scrape 3 attributes of each sneaker:\n",
    "1. Brand\n",
    "2. ProductDescription\n",
    "3. Price"
   ]
  },
  {
   "cell_type": "code",
   "execution_count": 30,
   "id": "b1f814ad",
   "metadata": {},
   "outputs": [],
   "source": [
    "#url_6=\"https://www.flipkart.com\"\n",
    "driver.get(\"https://www.flipkart.com\")"
   ]
  },
  {
   "cell_type": "code",
   "execution_count": 50,
   "id": "4987b2ec",
   "metadata": {},
   "outputs": [],
   "source": [
    "brand=driver.find_element(By.CLASS_NAME,\"_3704LK\")\n",
    "brand.send_keys(\"sneaker\")\n",
    "search=driver.find_element(By.CLASS_NAME,\"_34RNph\")\n",
    "search.click()"
   ]
  },
  {
   "cell_type": "code",
   "execution_count": 44,
   "id": "5b6dc609",
   "metadata": {},
   "outputs": [],
   "source": [
    "Brand=[]\n",
    "ProductDescription=[]\n",
    "Price=[]"
   ]
  },
  {
   "cell_type": "code",
   "execution_count": 51,
   "id": "cc7df279",
   "metadata": {},
   "outputs": [],
   "source": [
    "start=0\n",
    "end=4\n",
    "for page in range(start,end):\n",
    "    brn=driver.find_elements(By.XPATH,'//div[@class=\"_2WkVRV\"]')\n",
    "    pro_desc=driver.find_elements(By.XPATH,'//a[@class=\"IRpwTa\"]')\n",
    "    price=driver.find_elements(By.XPATH,'//div[@class=\"_30jeq3\"]')\n",
    "                   \n",
    "       \n",
    "    for i in brn[0:25]:\n",
    "        Brand.append(i.text)\n",
    "        \n",
    "    for i in pro_desc[0:25]:\n",
    "        ProductDescription.append(i.text) \n",
    "        \n",
    "    for i in price[0:25]:\n",
    "        Price.append(i.text)\n",
    "        \n",
    "        \n",
    "    next_btn=driver.find_element(By.XPATH,'//a[@class=\"_1LKTO3\"]')\n",
    "    next_btn.click()\n",
    "    time.sleep(3)"
   ]
  },
  {
   "cell_type": "code",
   "execution_count": 52,
   "id": "87cf454d",
   "metadata": {},
   "outputs": [
    {
     "name": "stdout",
     "output_type": "stream",
     "text": [
      "100\n",
      "100\n",
      "100\n"
     ]
    },
    {
     "data": {
      "text/plain": [
       "(None, None, None)"
      ]
     },
     "execution_count": 52,
     "metadata": {},
     "output_type": "execute_result"
    }
   ],
   "source": [
    "print(len(Brand)),print(len(Price)),print(len(ProductDescription))"
   ]
  },
  {
   "cell_type": "code",
   "execution_count": 53,
   "id": "e1c40d7e",
   "metadata": {},
   "outputs": [],
   "source": [
    "df_6=pd.DataFrame({\"Brand\":Brand,\"Product_Description\":ProductDescription,\"Price\":Price})"
   ]
  },
  {
   "cell_type": "code",
   "execution_count": 54,
   "id": "4af558ed",
   "metadata": {},
   "outputs": [
    {
     "data": {
      "text/html": [
       "<div>\n",
       "<style scoped>\n",
       "    .dataframe tbody tr th:only-of-type {\n",
       "        vertical-align: middle;\n",
       "    }\n",
       "\n",
       "    .dataframe tbody tr th {\n",
       "        vertical-align: top;\n",
       "    }\n",
       "\n",
       "    .dataframe thead th {\n",
       "        text-align: right;\n",
       "    }\n",
       "</style>\n",
       "<table border=\"1\" class=\"dataframe\">\n",
       "  <thead>\n",
       "    <tr style=\"text-align: right;\">\n",
       "      <th></th>\n",
       "      <th>Brand</th>\n",
       "      <th>Product_Description</th>\n",
       "      <th>Price</th>\n",
       "    </tr>\n",
       "  </thead>\n",
       "  <tbody>\n",
       "    <tr>\n",
       "      <th>0</th>\n",
       "      <td>aadi</td>\n",
       "      <td>Synthetic Leather |Lightweight|Comfort|Summer|...</td>\n",
       "      <td>₹399</td>\n",
       "    </tr>\n",
       "    <tr>\n",
       "      <th>1</th>\n",
       "      <td>RapidBox</td>\n",
       "      <td>Sneakers For Men</td>\n",
       "      <td>₹571</td>\n",
       "    </tr>\n",
       "    <tr>\n",
       "      <th>2</th>\n",
       "      <td>SFR</td>\n",
       "      <td>Sneakers For Men</td>\n",
       "      <td>₹249</td>\n",
       "    </tr>\n",
       "    <tr>\n",
       "      <th>3</th>\n",
       "      <td>aadi</td>\n",
       "      <td>Synthetic Leather |Lightweight|Comfort|Summer|...</td>\n",
       "      <td>₹299</td>\n",
       "    </tr>\n",
       "    <tr>\n",
       "      <th>4</th>\n",
       "      <td>SFR</td>\n",
       "      <td>Sneakers For Men</td>\n",
       "      <td>₹243</td>\n",
       "    </tr>\n",
       "    <tr>\n",
       "      <th>...</th>\n",
       "      <td>...</td>\n",
       "      <td>...</td>\n",
       "      <td>...</td>\n",
       "    </tr>\n",
       "    <tr>\n",
       "      <th>95</th>\n",
       "      <td>Sparx</td>\n",
       "      <td>Combo Pack of 2 Casual Shoe Sneakers For Men</td>\n",
       "      <td>₹899</td>\n",
       "    </tr>\n",
       "    <tr>\n",
       "      <th>96</th>\n",
       "      <td>BIRDE</td>\n",
       "      <td>Comfy Mid-Top Casual Chunky Streetwear Fashion...</td>\n",
       "      <td>₹499</td>\n",
       "    </tr>\n",
       "    <tr>\n",
       "      <th>97</th>\n",
       "      <td>bacca bucci</td>\n",
       "      <td>Mesh |Lightweight|Comfort|Summer|Trendy|Walkin...</td>\n",
       "      <td>₹1,599</td>\n",
       "    </tr>\n",
       "    <tr>\n",
       "      <th>98</th>\n",
       "      <td>aadi</td>\n",
       "      <td>WATERPROOF-05cFULLWHITE Sneakers For Men</td>\n",
       "      <td>₹399</td>\n",
       "    </tr>\n",
       "    <tr>\n",
       "      <th>99</th>\n",
       "      <td>asian</td>\n",
       "      <td>Mesh |Lightweight|Comfort|Summer|Trendy|Walkin...</td>\n",
       "      <td>₹649</td>\n",
       "    </tr>\n",
       "  </tbody>\n",
       "</table>\n",
       "<p>100 rows × 3 columns</p>\n",
       "</div>"
      ],
      "text/plain": [
       "          Brand                                Product_Description   Price\n",
       "0          aadi  Synthetic Leather |Lightweight|Comfort|Summer|...    ₹399\n",
       "1      RapidBox                                   Sneakers For Men    ₹571\n",
       "2           SFR                                   Sneakers For Men    ₹249\n",
       "3          aadi  Synthetic Leather |Lightweight|Comfort|Summer|...    ₹299\n",
       "4           SFR                                   Sneakers For Men    ₹243\n",
       "..          ...                                                ...     ...\n",
       "95        Sparx       Combo Pack of 2 Casual Shoe Sneakers For Men    ₹899\n",
       "96        BIRDE  Comfy Mid-Top Casual Chunky Streetwear Fashion...    ₹499\n",
       "97  bacca bucci  Mesh |Lightweight|Comfort|Summer|Trendy|Walkin...  ₹1,599\n",
       "98         aadi           WATERPROOF-05cFULLWHITE Sneakers For Men    ₹399\n",
       "99        asian  Mesh |Lightweight|Comfort|Summer|Trendy|Walkin...    ₹649\n",
       "\n",
       "[100 rows x 3 columns]"
      ]
     },
     "execution_count": 54,
     "metadata": {},
     "output_type": "execute_result"
    }
   ],
   "source": [
    "df_6"
   ]
  },
  {
   "cell_type": "markdown",
   "id": "2e7c7d8f",
   "metadata": {},
   "source": [
    "### Q7: Go to webpage https://www.amazon.in/ \n",
    "\n",
    "Enter “Laptop” in the search field and then click the search icon.Then\n",
    "\n",
    "set CPU Type filter to “Intel Core i7” as shown in the below image:\n",
    "\n",
    "After setting the filters scrape first 10 laptops data. You have to scrape 3 attributes for each laptop:\n",
    "1. Title\n",
    "2. Ratings\n",
    "3. Price\n",
    "\n"
   ]
  },
  {
   "cell_type": "code",
   "execution_count": 81,
   "id": "0d1553ae",
   "metadata": {},
   "outputs": [],
   "source": [
    "driver.get(\"https://amazon.in/\")"
   ]
  },
  {
   "cell_type": "code",
   "execution_count": 82,
   "id": "492108f6",
   "metadata": {},
   "outputs": [],
   "source": [
    "Title=[]\n",
    "Rating=[]\n",
    "Price=[]"
   ]
  },
  {
   "cell_type": "code",
   "execution_count": 83,
   "id": "0ac0b286",
   "metadata": {},
   "outputs": [],
   "source": [
    "search_tab=driver.find_element(By.XPATH,'/html/body/div[1]/header/div/div[1]/div[2]/div/form/div[2]/div[1]/input')\n",
    "search_tab.send_keys(\"Laptop\")\n",
    "search=driver.find_element(By.XPATH,'/html/body/div[1]/header/div/div[1]/div[2]/div/form/div[3]/div/span/input')\n",
    "search.click()\n",
    "press=driver.find_element(By.XPATH,'/html/body/div[1]/div[2]/div[1]/div[2]/div/div[3]/span/div[1]/div/div/div[6]/ul[7]/li[11]/span/a/div')\n",
    "press.click()"
   ]
  },
  {
   "cell_type": "code",
   "execution_count": 84,
   "id": "0270c46f",
   "metadata": {},
   "outputs": [],
   "source": [
    "lap_title=driver.find_elements(By.XPATH,'//span[@class=\"a-size-medium a-color-base a-text-normal\"]')\n",
    "lap_rating=driver.find_elements(By.XPATH,'//span[@class=\"a-size-base\"]')\n",
    "lap_price=driver.find_elements(By.XPATH,'//span[@class=\"a-price-whole\"]')\n",
    "for i in lap_title[0:10]:\n",
    "    Title.append(i.text)\n",
    "    \n",
    "for i in lap_rating[0:10]:\n",
    "    Rating.append(i.text)\n",
    "\n",
    "for i in lap_price[0:10]:\n",
    "    Price.append(i.text)"
   ]
  },
  {
   "cell_type": "code",
   "execution_count": 85,
   "id": "fdaefb10",
   "metadata": {},
   "outputs": [
    {
     "name": "stdout",
     "output_type": "stream",
     "text": [
      "10\n",
      "10\n",
      "10\n"
     ]
    },
    {
     "data": {
      "text/plain": [
       "(None, None, None)"
      ]
     },
     "execution_count": 85,
     "metadata": {},
     "output_type": "execute_result"
    }
   ],
   "source": [
    "print(len(Title)),print(len(Rating)),print(len(Price))"
   ]
  },
  {
   "cell_type": "code",
   "execution_count": 86,
   "id": "ef0e9e6b",
   "metadata": {},
   "outputs": [],
   "source": [
    "df_7=pd.DataFrame({\"Title\":Title,\"Rating\":Rating,\"Price\":Price})"
   ]
  },
  {
   "cell_type": "code",
   "execution_count": 87,
   "id": "2ee53b20",
   "metadata": {},
   "outputs": [
    {
     "data": {
      "text/html": [
       "<div>\n",
       "<style scoped>\n",
       "    .dataframe tbody tr th:only-of-type {\n",
       "        vertical-align: middle;\n",
       "    }\n",
       "\n",
       "    .dataframe tbody tr th {\n",
       "        vertical-align: top;\n",
       "    }\n",
       "\n",
       "    .dataframe thead th {\n",
       "        text-align: right;\n",
       "    }\n",
       "</style>\n",
       "<table border=\"1\" class=\"dataframe\">\n",
       "  <thead>\n",
       "    <tr style=\"text-align: right;\">\n",
       "      <th></th>\n",
       "      <th>Title</th>\n",
       "      <th>Rating</th>\n",
       "      <th>Price</th>\n",
       "    </tr>\n",
       "  </thead>\n",
       "  <tbody>\n",
       "    <tr>\n",
       "      <th>0</th>\n",
       "      <td>ASUS Vivobook 14, Intel Core i7-1165G7 11th Ge...</td>\n",
       "      <td>4.1</td>\n",
       "      <td>56,990</td>\n",
       "    </tr>\n",
       "    <tr>\n",
       "      <th>1</th>\n",
       "      <td>(Renewed) HP ProBook 430 G3 6th Gen Intel Core...</td>\n",
       "      <td>3.4</td>\n",
       "      <td>24,889</td>\n",
       "    </tr>\n",
       "    <tr>\n",
       "      <th>2</th>\n",
       "      <td>HP Pavilion Plus, 12th Gen Intel Core i7 16GB ...</td>\n",
       "      <td>4.0</td>\n",
       "      <td>95,990</td>\n",
       "    </tr>\n",
       "    <tr>\n",
       "      <th>3</th>\n",
       "      <td>HP Victus Gaming Latest 12th Gen Intel Core i7...</td>\n",
       "      <td>4.3</td>\n",
       "      <td>85,990</td>\n",
       "    </tr>\n",
       "    <tr>\n",
       "      <th>4</th>\n",
       "      <td>MSI GF75 Thin Gaming, Intel Core i7-10750H, 44...</td>\n",
       "      <td>4.4</td>\n",
       "      <td>62,990</td>\n",
       "    </tr>\n",
       "    <tr>\n",
       "      <th>5</th>\n",
       "      <td>Samsung Galaxy Book2 (NP750) Intel 12th Gen co...</td>\n",
       "      <td>4.1</td>\n",
       "      <td>79,990</td>\n",
       "    </tr>\n",
       "    <tr>\n",
       "      <th>6</th>\n",
       "      <td>Hp Pavilion 15 12Th Gen Intel Core I7 16Gb Sdr...</td>\n",
       "      <td>3.8</td>\n",
       "      <td>89,990</td>\n",
       "    </tr>\n",
       "    <tr>\n",
       "      <th>7</th>\n",
       "      <td>ASUS TUF Gaming F15 (2022), 15.6\" (39.62 cms) ...</td>\n",
       "      <td>4.1</td>\n",
       "      <td>98,400</td>\n",
       "    </tr>\n",
       "    <tr>\n",
       "      <th>8</th>\n",
       "      <td>Fujitsu UH-X 11th Gen Intel Core i7 13.3\" FHD ...</td>\n",
       "      <td>4.3</td>\n",
       "      <td>89,990</td>\n",
       "    </tr>\n",
       "    <tr>\n",
       "      <th>9</th>\n",
       "      <td>HP Victus 12th Gen Intel Core i7 15.6 inch(39....</td>\n",
       "      <td>3.4</td>\n",
       "      <td>95,490</td>\n",
       "    </tr>\n",
       "  </tbody>\n",
       "</table>\n",
       "</div>"
      ],
      "text/plain": [
       "                                               Title Rating   Price\n",
       "0  ASUS Vivobook 14, Intel Core i7-1165G7 11th Ge...    4.1  56,990\n",
       "1  (Renewed) HP ProBook 430 G3 6th Gen Intel Core...    3.4  24,889\n",
       "2  HP Pavilion Plus, 12th Gen Intel Core i7 16GB ...    4.0  95,990\n",
       "3  HP Victus Gaming Latest 12th Gen Intel Core i7...    4.3  85,990\n",
       "4  MSI GF75 Thin Gaming, Intel Core i7-10750H, 44...    4.4  62,990\n",
       "5  Samsung Galaxy Book2 (NP750) Intel 12th Gen co...    4.1  79,990\n",
       "6  Hp Pavilion 15 12Th Gen Intel Core I7 16Gb Sdr...    3.8  89,990\n",
       "7  ASUS TUF Gaming F15 (2022), 15.6\" (39.62 cms) ...    4.1  98,400\n",
       "8  Fujitsu UH-X 11th Gen Intel Core i7 13.3\" FHD ...    4.3  89,990\n",
       "9  HP Victus 12th Gen Intel Core i7 15.6 inch(39....    3.4  95,490"
      ]
     },
     "execution_count": 87,
     "metadata": {},
     "output_type": "execute_result"
    }
   ],
   "source": [
    "df_7"
   ]
  },
  {
   "cell_type": "markdown",
   "id": "151bea7e",
   "metadata": {},
   "source": [
    "### Q8: Write a python program to scrape data for Top 1000 Quotes of All Time.\n",
    "The above task will be done in following steps:\n",
    "\n",
    "1. First get the webpagehttps://www.azquotes.com/\n",
    "2. Click on TopQuotes\n",
    "3. Than scrap \n",
    "\n",
    " a) Quote\n",
    "\n",
    " b) Author \n",
    "\n",
    " c) Type Of Quotes "
   ]
  },
  {
   "cell_type": "code",
   "execution_count": 117,
   "id": "e68666e8",
   "metadata": {},
   "outputs": [],
   "source": [
    "driver.get(\"https://www.azquotes.com/\")"
   ]
  },
  {
   "cell_type": "code",
   "execution_count": 118,
   "id": "824d77be",
   "metadata": {},
   "outputs": [],
   "source": [
    "top_quote=driver.find_element(By.XPATH,'//a[@href=\"/top_quotes.html\"]')\n",
    "top_quote.click()"
   ]
  },
  {
   "cell_type": "code",
   "execution_count": 119,
   "id": "6dd49fcc",
   "metadata": {},
   "outputs": [],
   "source": [
    "quote=[]\n",
    "author=[]\n",
    "type_of_quote=[]"
   ]
  },
  {
   "cell_type": "code",
   "execution_count": 120,
   "id": "4b2b090c",
   "metadata": {},
   "outputs": [],
   "source": [
    "start=0\n",
    "end=10\n",
    "for page in range(start,end):\n",
    "    qu=driver.find_elements(By.XPATH,'//a[@class=\"title\"]')\n",
    "    auth=driver.find_elements(By.XPATH,'//div[@class=\"author\"]')\n",
    "    ty_of_qu=driver.find_elements(By.XPATH,'//div[@class=\"tags\"]')    \n",
    "    \n",
    "    for i in qu[0:100]:\n",
    "        quote.append(i.text)\n",
    "    for i in auth[0:100]:\n",
    "        author.append(i.text)\n",
    "    for i in ty_of_qu[0:100]:\n",
    "        type_of_quote.append(i.text)\n",
    "        \n",
    "    next_btn=driver.find_element(By.XPATH,'//a[@href=\"top_quotes.html?p=2\"]')\n",
    "    next_btn.click()\n",
    "    time.sleep(3)\n",
    "\n"
   ]
  },
  {
   "cell_type": "code",
   "execution_count": 121,
   "id": "02af7888",
   "metadata": {},
   "outputs": [
    {
     "name": "stdout",
     "output_type": "stream",
     "text": [
      "1000\n",
      "1000\n",
      "1000\n"
     ]
    },
    {
     "data": {
      "text/plain": [
       "(None, None, None)"
      ]
     },
     "execution_count": 121,
     "metadata": {},
     "output_type": "execute_result"
    }
   ],
   "source": [
    "print(len(quote)),print(len(author)),print(len(type_of_quote))"
   ]
  },
  {
   "cell_type": "code",
   "execution_count": 122,
   "id": "b7088427",
   "metadata": {},
   "outputs": [],
   "source": [
    "df_8=pd.DataFrame({\"Quote\":quote,\"Author\":author,\"Type_of_Quote\":type_of_quote})"
   ]
  },
  {
   "cell_type": "code",
   "execution_count": 123,
   "id": "c2613351",
   "metadata": {},
   "outputs": [
    {
     "data": {
      "text/html": [
       "<div>\n",
       "<style scoped>\n",
       "    .dataframe tbody tr th:only-of-type {\n",
       "        vertical-align: middle;\n",
       "    }\n",
       "\n",
       "    .dataframe tbody tr th {\n",
       "        vertical-align: top;\n",
       "    }\n",
       "\n",
       "    .dataframe thead th {\n",
       "        text-align: right;\n",
       "    }\n",
       "</style>\n",
       "<table border=\"1\" class=\"dataframe\">\n",
       "  <thead>\n",
       "    <tr style=\"text-align: right;\">\n",
       "      <th></th>\n",
       "      <th>Quote</th>\n",
       "      <th>Author</th>\n",
       "      <th>Type_of_Quote</th>\n",
       "    </tr>\n",
       "  </thead>\n",
       "  <tbody>\n",
       "    <tr>\n",
       "      <th>0</th>\n",
       "      <td>The essence of strategy is choosing what not t...</td>\n",
       "      <td>Michael Porter</td>\n",
       "      <td>Essence, Deep Thought, Transcendentalism</td>\n",
       "    </tr>\n",
       "    <tr>\n",
       "      <th>1</th>\n",
       "      <td>One cannot and must not try to erase the past ...</td>\n",
       "      <td>Golda Meir</td>\n",
       "      <td>Inspiration, Past, Trying</td>\n",
       "    </tr>\n",
       "    <tr>\n",
       "      <th>2</th>\n",
       "      <td>Patriotism means to stand by the country. It d...</td>\n",
       "      <td>Theodore Roosevelt</td>\n",
       "      <td>Country, Peace, War</td>\n",
       "    </tr>\n",
       "    <tr>\n",
       "      <th>3</th>\n",
       "      <td>Death is something inevitable. When a man has ...</td>\n",
       "      <td>Nelson Mandela</td>\n",
       "      <td>Inspirational, Motivational, Death</td>\n",
       "    </tr>\n",
       "    <tr>\n",
       "      <th>4</th>\n",
       "      <td>You have to love a nation that celebrates its ...</td>\n",
       "      <td>Erma Bombeck</td>\n",
       "      <td>4th Of July, Food, Patriotic</td>\n",
       "    </tr>\n",
       "    <tr>\n",
       "      <th>...</th>\n",
       "      <td>...</td>\n",
       "      <td>...</td>\n",
       "      <td>...</td>\n",
       "    </tr>\n",
       "    <tr>\n",
       "      <th>995</th>\n",
       "      <td>When one door closes, another opens; but we of...</td>\n",
       "      <td>Alexander Graham Bell</td>\n",
       "      <td>Love, Inspirational, Life</td>\n",
       "    </tr>\n",
       "    <tr>\n",
       "      <th>996</th>\n",
       "      <td>Don't find fault, find a remedy.</td>\n",
       "      <td>Henry Ford</td>\n",
       "      <td>Inspirational, Motivational, Positive</td>\n",
       "    </tr>\n",
       "    <tr>\n",
       "      <th>997</th>\n",
       "      <td>I used to think the worst thing in life was to...</td>\n",
       "      <td>Robin Williams</td>\n",
       "      <td>Love, Life, Lonely</td>\n",
       "    </tr>\n",
       "    <tr>\n",
       "      <th>998</th>\n",
       "      <td>Friends and good manners will carry you where ...</td>\n",
       "      <td>Margaret Walker</td>\n",
       "      <td>Love, Inspirational, Friendship</td>\n",
       "    </tr>\n",
       "    <tr>\n",
       "      <th>999</th>\n",
       "      <td>If you want to make a permanent change, stop f...</td>\n",
       "      <td>T. Harv Eker</td>\n",
       "      <td>Inspirational, Change, Inspiring</td>\n",
       "    </tr>\n",
       "  </tbody>\n",
       "</table>\n",
       "<p>1000 rows × 3 columns</p>\n",
       "</div>"
      ],
      "text/plain": [
       "                                                 Quote                 Author  \\\n",
       "0    The essence of strategy is choosing what not t...         Michael Porter   \n",
       "1    One cannot and must not try to erase the past ...             Golda Meir   \n",
       "2    Patriotism means to stand by the country. It d...     Theodore Roosevelt   \n",
       "3    Death is something inevitable. When a man has ...         Nelson Mandela   \n",
       "4    You have to love a nation that celebrates its ...           Erma Bombeck   \n",
       "..                                                 ...                    ...   \n",
       "995  When one door closes, another opens; but we of...  Alexander Graham Bell   \n",
       "996                   Don't find fault, find a remedy.             Henry Ford   \n",
       "997  I used to think the worst thing in life was to...         Robin Williams   \n",
       "998  Friends and good manners will carry you where ...        Margaret Walker   \n",
       "999  If you want to make a permanent change, stop f...           T. Harv Eker   \n",
       "\n",
       "                                Type_of_Quote  \n",
       "0    Essence, Deep Thought, Transcendentalism  \n",
       "1                   Inspiration, Past, Trying  \n",
       "2                         Country, Peace, War  \n",
       "3          Inspirational, Motivational, Death  \n",
       "4                4th Of July, Food, Patriotic  \n",
       "..                                        ...  \n",
       "995                 Love, Inspirational, Life  \n",
       "996     Inspirational, Motivational, Positive  \n",
       "997                        Love, Life, Lonely  \n",
       "998           Love, Inspirational, Friendship  \n",
       "999          Inspirational, Change, Inspiring  \n",
       "\n",
       "[1000 rows x 3 columns]"
      ]
     },
     "execution_count": 123,
     "metadata": {},
     "output_type": "execute_result"
    }
   ],
   "source": [
    "df_8"
   ]
  },
  {
   "cell_type": "markdown",
   "id": "9451ea9c",
   "metadata": {},
   "source": [
    "### Q9: Write a python program to display list of respected former \n",
    "Prime Ministers of India(i.e. Name, Born-Dead,Term of office, Remarks) from https://www.jagranjosh.com/.\n",
    "This task will be done in following steps:\n",
    "1. First get the webpagehttps://www.jagranjosh.com/\n",
    "2. Then You have to click on the GK option\n",
    "3. Then click on the List of all Prime Ministers of India\n",
    "4. Then scrap the mentioned data and make theDataFrame"
   ]
  },
  {
   "cell_type": "markdown",
   "id": "c4000a4d",
   "metadata": {},
   "source": [
    "# sir i try so many times but it wont work "
   ]
  },
  {
   "cell_type": "code",
   "execution_count": 3,
   "id": "b9dc1a28",
   "metadata": {},
   "outputs": [],
   "source": [
    "driver.get(\" https://www.jagranjosh.com/\")"
   ]
  },
  {
   "cell_type": "code",
   "execution_count": 4,
   "id": "c31c8230",
   "metadata": {},
   "outputs": [],
   "source": [
    "Name=[]\n",
    "Born_dead=[]\n",
    "Term_of_office=[]\n",
    "Remarks=[]"
   ]
  },
  {
   "cell_type": "code",
   "execution_count": 5,
   "id": "7a35124b",
   "metadata": {},
   "outputs": [],
   "source": [
    "gk=driver.find_element(By.XPATH,'/html/body/div/div[1]/div/div[1]/div/div[5]/div/div[1]/header/div[3]/ul/li[9]/a')\n",
    "gk.click()"
   ]
  },
  {
   "cell_type": "code",
   "execution_count": 7,
   "id": "3149df0a",
   "metadata": {},
   "outputs": [],
   "source": [
    "pm_list=driver.find_element(By.XPATH,'/html/body/div[1]/div/div/div[2]/div/div[10]/div/div/ul/li[2]/a')\n",
    "pm_list.click()\n",
    "\n"
   ]
  },
  {
   "cell_type": "code",
   "execution_count": 24,
   "id": "fc7c6e93",
   "metadata": {},
   "outputs": [],
   "source": [
    "#name=driver.find_elements(By.TAG_NAME, \"p\")\n",
    "name=driver.find_elements(By.XPATH,'/html/body/div[1]/div[2]/div/div[2]/div/div[1]/div/div/div/div[4]/span/div[2]/table/tbody/tr[3]/td[3]')"
   ]
  },
  {
   "cell_type": "code",
   "execution_count": 26,
   "id": "d324c5a7",
   "metadata": {},
   "outputs": [
    {
     "ename": "IndexError",
     "evalue": "list index out of range",
     "output_type": "error",
     "traceback": [
      "\u001b[1;31m---------------------------------------------------------------------------\u001b[0m",
      "\u001b[1;31mIndexError\u001b[0m                                Traceback (most recent call last)",
      "Input \u001b[1;32mIn [26]\u001b[0m, in \u001b[0;36m<cell line: 1>\u001b[1;34m()\u001b[0m\n\u001b[1;32m----> 1\u001b[0m \u001b[43mname\u001b[49m\u001b[43m[\u001b[49m\u001b[38;5;241;43m1\u001b[39;49m\u001b[43m]\u001b[49m\u001b[38;5;241m.\u001b[39mtext\n",
      "\u001b[1;31mIndexError\u001b[0m: list index out of range"
     ]
    }
   ],
   "source": [
    "name[].text"
   ]
  },
  {
   "cell_type": "code",
   "execution_count": 184,
   "id": "0a5a23bb",
   "metadata": {},
   "outputs": [
    {
     "ename": "NameError",
     "evalue": "name 'name' is not defined",
     "output_type": "error",
     "traceback": [
      "\u001b[1;31m---------------------------------------------------------------------------\u001b[0m",
      "\u001b[1;31mNameError\u001b[0m                                 Traceback (most recent call last)",
      "Input \u001b[1;32mIn [184]\u001b[0m, in \u001b[0;36m<cell line: 3>\u001b[1;34m()\u001b[0m\n\u001b[0;32m      1\u001b[0m start\u001b[38;5;241m=\u001b[39m\u001b[38;5;241m6\u001b[39m\n\u001b[0;32m      2\u001b[0m end\u001b[38;5;241m=\u001b[39m\u001b[38;5;241m108\u001b[39m\n\u001b[1;32m----> 3\u001b[0m \u001b[38;5;28;01mfor\u001b[39;00m i \u001b[38;5;129;01min\u001b[39;00m \u001b[43mname\u001b[49m[\u001b[38;5;241m6\u001b[39m:\u001b[38;5;241m108\u001b[39m]:\n\u001b[0;32m      4\u001b[0m     name[\u001b[38;5;241m0\u001b[39m]\u001b[38;5;241m.\u001b[39mtext\u001b[38;5;241m.\u001b[39mstrip(\u001b[38;5;124m'\u001b[39m\u001b[38;5;124m \u001b[39m\u001b[38;5;124m'\u001b[39m)\u001b[38;5;241m.\u001b[39msplit(\u001b[38;5;124m'\u001b[39m\u001b[38;5;130;01m\\n\u001b[39;00m\u001b[38;5;124m'\u001b[39m)[\u001b[38;5;241m6\u001b[39m]\n\u001b[0;32m      5\u001b[0m     i\u001b[38;5;241m+\u001b[39m\u001b[38;5;241m=\u001b[39m\u001b[38;5;241m6\u001b[39m\n",
      "\u001b[1;31mNameError\u001b[0m: name 'name' is not defined"
     ]
    }
   ],
   "source": [
    "start=6\n",
    "end=108\n",
    "for i in name[6:108]:\n",
    "    name[0].text.strip(' ').split('\\n')[6]\n",
    "    i+=6\n",
    "    Name.append(i.text.strip(' ').split('\\n'))\n",
    "    \n",
    "    "
   ]
  },
  {
   "cell_type": "code",
   "execution_count": 55,
   "id": "feb0f4f9",
   "metadata": {},
   "outputs": [
    {
     "data": {
      "text/plain": [
       "[]"
      ]
     },
     "execution_count": 55,
     "metadata": {},
     "output_type": "execute_result"
    }
   ],
   "source": [
    "Name"
   ]
  },
  {
   "cell_type": "markdown",
   "id": "755d7efb",
   "metadata": {},
   "source": [
    "### Q10: Write a python program to display list of 50 Most expensive cars in the world (i.e.\n",
    "Car name and Price) from https://www.motor1.com/\n",
    "This task will be done in following steps:\n",
    "1. First get the webpagehttps://www.motor1.com/\n",
    "2. Then You have to click on the List option from Dropdown menu on leftside.\n",
    "3. Then click on 50 most expensive carsin the world..\n",
    "4. Then scrap the mentioned data and make the dataframe."
   ]
  },
  {
   "cell_type": "code",
   "execution_count": 112,
   "id": "886bb344",
   "metadata": {},
   "outputs": [],
   "source": [
    "Price=[]"
   ]
  },
  {
   "cell_type": "code",
   "execution_count": 102,
   "id": "91f4a97d",
   "metadata": {},
   "outputs": [],
   "source": [
    "Carname=[]"
   ]
  },
  {
   "cell_type": "code",
   "execution_count": 7,
   "id": "0d895372",
   "metadata": {},
   "outputs": [],
   "source": [
    "driver.get(\"https://www.motor1.com/\")"
   ]
  },
  {
   "cell_type": "code",
   "execution_count": 8,
   "id": "01771993",
   "metadata": {},
   "outputs": [],
   "source": [
    "dropdown=driver.find_element(By.CLASS_NAME,\"m1-hamburger-button\")\n",
    "dropdown.click()"
   ]
  },
  {
   "cell_type": "code",
   "execution_count": 9,
   "id": "2c4ab383",
   "metadata": {},
   "outputs": [],
   "source": [
    "features=driver.find_element(By.XPATH,'/html/body/div[4]/div[1]/div[3]/ul/li[5]/a')\n",
    "features.click()"
   ]
  },
  {
   "cell_type": "code",
   "execution_count": 12,
   "id": "767dc3db",
   "metadata": {},
   "outputs": [],
   "source": [
    "top_50=driver.find_element(By.XPATH,'/html/body/div[3]/div[9]/div[1]/div[1]/div/div/div[5]/div/div[1]/h3/a')\n",
    "top_50.click()"
   ]
  },
  {
   "cell_type": "code",
   "execution_count": 93,
   "id": "b14ab1af",
   "metadata": {},
   "outputs": [],
   "source": [
    "car_name=driver.find_elements(By.XPATH,'//h3[@class=\"subheader\"]')\n",
    "limit=50"
   ]
  },
  {
   "cell_type": "code",
   "execution_count": 95,
   "id": "98a9d82f",
   "metadata": {},
   "outputs": [
    {
     "data": {
      "text/plain": [
       "'De Tomaso P72'"
      ]
     },
     "execution_count": 95,
     "metadata": {},
     "output_type": "execute_result"
    }
   ],
   "source": [
    "car_name[0].text"
   ]
  },
  {
   "cell_type": "code",
   "execution_count": 96,
   "id": "61558fce",
   "metadata": {},
   "outputs": [],
   "source": [
    "car_name_1=[]"
   ]
  },
  {
   "cell_type": "code",
   "execution_count": 15,
   "id": "5f268124",
   "metadata": {},
   "outputs": [
    {
     "data": {
      "text/plain": [
       "'Rolls-Royce Boat Tail*'"
      ]
     },
     "execution_count": 15,
     "metadata": {},
     "output_type": "execute_result"
    }
   ],
   "source": [
    "car_name[49].text"
   ]
  },
  {
   "cell_type": "code",
   "execution_count": 97,
   "id": "dfd34f0d",
   "metadata": {},
   "outputs": [],
   "source": [
    "for index, item in enumerate(car_name):\n",
    "    #print(item)\n",
    "    if index == limit: # There's gotta be a better way.\n",
    "        break \n",
    "    car_name_1.append(item)\n",
    "    \n",
    "#for i in range(0,car_name):\n",
    "#    Carname.append(i.tex)"
   ]
  },
  {
   "cell_type": "code",
   "execution_count": 98,
   "id": "ad90b03b",
   "metadata": {},
   "outputs": [
    {
     "data": {
      "text/plain": [
       "'Rolls-Royce Boat Tail*'"
      ]
     },
     "execution_count": 98,
     "metadata": {},
     "output_type": "execute_result"
    }
   ],
   "source": [
    "car_name_1[49].text"
   ]
  },
  {
   "cell_type": "code",
   "execution_count": 103,
   "id": "590a8ee0",
   "metadata": {},
   "outputs": [],
   "source": [
    "for i in car_name_1:\n",
    "    Carname.append(i.text)"
   ]
  },
  {
   "cell_type": "code",
   "execution_count": 105,
   "id": "8785f0c1",
   "metadata": {},
   "outputs": [
    {
     "data": {
      "text/plain": [
       "['De Tomaso P72',\n",
       " 'Ferrari LaFerrari',\n",
       " 'Pagani Huayra',\n",
       " 'McLaren Elva',\n",
       " 'Czinger 21C',\n",
       " 'Ferrari Monza',\n",
       " 'Gordon Murray T.33',\n",
       " 'Koenigsegg Gemera',\n",
       " 'Zenvo TSR-S',\n",
       " 'Hennessey Venom F5',\n",
       " 'Bentley Bacalar',\n",
       " 'Hispano Suiza Carmen Boulogne',\n",
       " 'Bentley Mulliner Batur',\n",
       " 'Deus Vayanne',\n",
       " 'SSC Tuatara',\n",
       " 'Lotus Evija',\n",
       " 'Aston Martin Vulcan',\n",
       " 'Delage D12',\n",
       " 'McLaren Speedtail',\n",
       " 'Rimac Nevera',\n",
       " 'Pagani Utopia',\n",
       " 'Pininfarina Battista',\n",
       " 'Ferrari FXX K Evo',\n",
       " 'Gordon Murray T.50',\n",
       " 'Lamborghini Countach',\n",
       " 'Mercedes-AMG Project One',\n",
       " 'Aston Martin Victor',\n",
       " 'Hennessey Venom F5 Roadster',\n",
       " 'Koenigsegg Jesko',\n",
       " 'Aston Martin Valkyrie',\n",
       " 'W Motors Lykan Hypersport',\n",
       " 'McLaren Solus',\n",
       " 'Pagani Huayra Roadster BC',\n",
       " 'Bugatti Chiron Pur Sport',\n",
       " 'Lamborghini Sian',\n",
       " 'Koenigsegg CC850',\n",
       " 'Bugatti Chiron Super Sport 300+',\n",
       " 'Lamborghini Veneno',\n",
       " 'Bugatti Bolide',\n",
       " 'Bugatti Mistral',\n",
       " 'Pagani Huayra Imola',\n",
       " 'Bugatti Divo',\n",
       " 'SP Automotive Chaos',\n",
       " 'Pagani Codalunga',\n",
       " 'Mercedes-Maybach Exelero',\n",
       " 'Bugatti Centodieci',\n",
       " 'Bugatti Chiron Profilée',\n",
       " 'Rolls-Royce Sweptail',\n",
       " 'Bugatti La Voiture Noire',\n",
       " 'Rolls-Royce Boat Tail*']"
      ]
     },
     "execution_count": 105,
     "metadata": {},
     "output_type": "execute_result"
    }
   ],
   "source": [
    "Carname"
   ]
  },
  {
   "cell_type": "code",
   "execution_count": 152,
   "id": "80dfd491",
   "metadata": {},
   "outputs": [
    {
     "data": {
      "text/plain": [
       "' $1.3 Million'"
      ]
     },
     "execution_count": 152,
     "metadata": {},
     "output_type": "execute_result"
    }
   ],
   "source": [
    "price=driver.find_elements(By.XPATH,'//strong')\n",
    "price[0].text.split(\":\")[1]"
   ]
  },
  {
   "cell_type": "code",
   "execution_count": 158,
   "id": "75269462",
   "metadata": {},
   "outputs": [],
   "source": [
    "price_1=[]"
   ]
  },
  {
   "cell_type": "code",
   "execution_count": 159,
   "id": "a7409d69",
   "metadata": {},
   "outputs": [],
   "source": [
    "for index, item in enumerate(price):\n",
    "    #print(item)\n",
    "    if index == 3: # There's gotta be a better way.\n",
    "        continue \n",
    "    price_1.append(item)\n",
    "    "
   ]
  },
  {
   "cell_type": "code",
   "execution_count": 163,
   "id": "1d982c41",
   "metadata": {},
   "outputs": [],
   "source": [
    "Price=[]"
   ]
  },
  {
   "cell_type": "code",
   "execution_count": 164,
   "id": "8c44ca86",
   "metadata": {},
   "outputs": [],
   "source": [
    "for i in price_1:\n",
    "    #price_clean=i.text\n",
    "    Price.append(i.text)"
   ]
  },
  {
   "cell_type": "code",
   "execution_count": 165,
   "id": "e3dfb6b1",
   "metadata": {},
   "outputs": [
    {
     "data": {
      "text/plain": [
       "'Price: $1.3 Million'"
      ]
     },
     "execution_count": 165,
     "metadata": {},
     "output_type": "execute_result"
    }
   ],
   "source": [
    "price_1[0].text"
   ]
  },
  {
   "cell_type": "code",
   "execution_count": 166,
   "id": "2aa67e25",
   "metadata": {},
   "outputs": [
    {
     "data": {
      "text/plain": [
       "' $1.3 Million'"
      ]
     },
     "execution_count": 166,
     "metadata": {},
     "output_type": "execute_result"
    }
   ],
   "source": [
    "Price[0].strip().split(\":\")[1]"
   ]
  },
  {
   "cell_type": "code",
   "execution_count": 167,
   "id": "79b26672",
   "metadata": {},
   "outputs": [
    {
     "data": {
      "text/plain": [
       "(50, 50)"
      ]
     },
     "execution_count": 167,
     "metadata": {},
     "output_type": "execute_result"
    }
   ],
   "source": [
    "len(Price),len(Carname)"
   ]
  },
  {
   "cell_type": "code",
   "execution_count": null,
   "id": "fc17798f",
   "metadata": {},
   "outputs": [],
   "source": []
  },
  {
   "cell_type": "code",
   "execution_count": 172,
   "id": "a765aae1",
   "metadata": {},
   "outputs": [],
   "source": [
    "top_4_cars=pd.DataFrame({\"Carname\":Carname,\"Price\":Price})"
   ]
  },
  {
   "cell_type": "code",
   "execution_count": 173,
   "id": "5a3ad736",
   "metadata": {},
   "outputs": [
    {
     "data": {
      "text/html": [
       "<div>\n",
       "<style scoped>\n",
       "    .dataframe tbody tr th:only-of-type {\n",
       "        vertical-align: middle;\n",
       "    }\n",
       "\n",
       "    .dataframe tbody tr th {\n",
       "        vertical-align: top;\n",
       "    }\n",
       "\n",
       "    .dataframe thead th {\n",
       "        text-align: right;\n",
       "    }\n",
       "</style>\n",
       "<table border=\"1\" class=\"dataframe\">\n",
       "  <thead>\n",
       "    <tr style=\"text-align: right;\">\n",
       "      <th></th>\n",
       "      <th>Carname</th>\n",
       "      <th>Price</th>\n",
       "    </tr>\n",
       "  </thead>\n",
       "  <tbody>\n",
       "    <tr>\n",
       "      <th>0</th>\n",
       "      <td>De Tomaso P72</td>\n",
       "      <td>Price: $1.3 Million</td>\n",
       "    </tr>\n",
       "    <tr>\n",
       "      <th>1</th>\n",
       "      <td>Ferrari LaFerrari</td>\n",
       "      <td>Price: $1.4 Million</td>\n",
       "    </tr>\n",
       "    <tr>\n",
       "      <th>2</th>\n",
       "      <td>Pagani Huayra</td>\n",
       "      <td>Price: $1.4 Million</td>\n",
       "    </tr>\n",
       "    <tr>\n",
       "      <th>3</th>\n",
       "      <td>McLaren Elva</td>\n",
       "      <td>Price: $1.7 Million</td>\n",
       "    </tr>\n",
       "    <tr>\n",
       "      <th>4</th>\n",
       "      <td>Czinger 21C</td>\n",
       "      <td>Price: $1.7 Million</td>\n",
       "    </tr>\n",
       "    <tr>\n",
       "      <th>5</th>\n",
       "      <td>Ferrari Monza</td>\n",
       "      <td>Price: $1.7 Million</td>\n",
       "    </tr>\n",
       "    <tr>\n",
       "      <th>6</th>\n",
       "      <td>Gordon Murray T.33</td>\n",
       "      <td>Price: $1.7 Million</td>\n",
       "    </tr>\n",
       "    <tr>\n",
       "      <th>7</th>\n",
       "      <td>Koenigsegg Gemera</td>\n",
       "      <td>Price: $1.7 Million</td>\n",
       "    </tr>\n",
       "    <tr>\n",
       "      <th>8</th>\n",
       "      <td>Zenvo TSR-S</td>\n",
       "      <td>Price: $1.7 Million</td>\n",
       "    </tr>\n",
       "    <tr>\n",
       "      <th>9</th>\n",
       "      <td>Hennessey Venom F5</td>\n",
       "      <td>Price: $1.8 Million</td>\n",
       "    </tr>\n",
       "    <tr>\n",
       "      <th>10</th>\n",
       "      <td>Bentley Bacalar</td>\n",
       "      <td>Price: $1.9 Million</td>\n",
       "    </tr>\n",
       "    <tr>\n",
       "      <th>11</th>\n",
       "      <td>Hispano Suiza Carmen Boulogne</td>\n",
       "      <td>Price: $1.9 Million</td>\n",
       "    </tr>\n",
       "    <tr>\n",
       "      <th>12</th>\n",
       "      <td>Bentley Mulliner Batur</td>\n",
       "      <td>Price: $2.0 Million</td>\n",
       "    </tr>\n",
       "    <tr>\n",
       "      <th>13</th>\n",
       "      <td>Deus Vayanne</td>\n",
       "      <td>Price: $2.0 Million</td>\n",
       "    </tr>\n",
       "    <tr>\n",
       "      <th>14</th>\n",
       "      <td>SSC Tuatara</td>\n",
       "      <td>Price: $2.0 Million*</td>\n",
       "    </tr>\n",
       "    <tr>\n",
       "      <th>15</th>\n",
       "      <td>Lotus Evija</td>\n",
       "      <td>Price: $2.1 Million</td>\n",
       "    </tr>\n",
       "    <tr>\n",
       "      <th>16</th>\n",
       "      <td>Aston Martin Vulcan</td>\n",
       "      <td>Price: $2.3 Million</td>\n",
       "    </tr>\n",
       "    <tr>\n",
       "      <th>17</th>\n",
       "      <td>Delage D12</td>\n",
       "      <td>Price: $2.3 Million</td>\n",
       "    </tr>\n",
       "    <tr>\n",
       "      <th>18</th>\n",
       "      <td>McLaren Speedtail</td>\n",
       "      <td>Price: $2.3 Million</td>\n",
       "    </tr>\n",
       "    <tr>\n",
       "      <th>19</th>\n",
       "      <td>Rimac Nevera</td>\n",
       "      <td>Price: $2.4 Million</td>\n",
       "    </tr>\n",
       "    <tr>\n",
       "      <th>20</th>\n",
       "      <td>Pagani Utopia</td>\n",
       "      <td>Price: $2.5 Million</td>\n",
       "    </tr>\n",
       "    <tr>\n",
       "      <th>21</th>\n",
       "      <td>Pininfarina Battista</td>\n",
       "      <td>Price: $2.5 Million</td>\n",
       "    </tr>\n",
       "    <tr>\n",
       "      <th>22</th>\n",
       "      <td>Ferrari FXX K Evo</td>\n",
       "      <td>Price: $2.6 Million</td>\n",
       "    </tr>\n",
       "    <tr>\n",
       "      <th>23</th>\n",
       "      <td>Gordon Murray T.50</td>\n",
       "      <td>Price: $2.6 Million</td>\n",
       "    </tr>\n",
       "    <tr>\n",
       "      <th>24</th>\n",
       "      <td>Lamborghini Countach</td>\n",
       "      <td>Price: $2.6 Million</td>\n",
       "    </tr>\n",
       "    <tr>\n",
       "      <th>25</th>\n",
       "      <td>Mercedes-AMG Project One</td>\n",
       "      <td>Price: $2.7 Million</td>\n",
       "    </tr>\n",
       "    <tr>\n",
       "      <th>26</th>\n",
       "      <td>Aston Martin Victor</td>\n",
       "      <td>Price: $3.0 Million</td>\n",
       "    </tr>\n",
       "    <tr>\n",
       "      <th>27</th>\n",
       "      <td>Hennessey Venom F5 Roadster</td>\n",
       "      <td>$3.0 Million</td>\n",
       "    </tr>\n",
       "    <tr>\n",
       "      <th>28</th>\n",
       "      <td>Koenigsegg Jesko</td>\n",
       "      <td>Price: $3.0 Million</td>\n",
       "    </tr>\n",
       "    <tr>\n",
       "      <th>29</th>\n",
       "      <td>Aston Martin Valkyrie</td>\n",
       "      <td>Price: $3.2 Million</td>\n",
       "    </tr>\n",
       "    <tr>\n",
       "      <th>30</th>\n",
       "      <td>W Motors Lykan Hypersport</td>\n",
       "      <td>Price: $3.4 Million</td>\n",
       "    </tr>\n",
       "    <tr>\n",
       "      <th>31</th>\n",
       "      <td>McLaren Solus</td>\n",
       "      <td>$3.5 Million</td>\n",
       "    </tr>\n",
       "    <tr>\n",
       "      <th>32</th>\n",
       "      <td>Pagani Huayra Roadster BC</td>\n",
       "      <td>Price: $3.5 Million</td>\n",
       "    </tr>\n",
       "    <tr>\n",
       "      <th>33</th>\n",
       "      <td>Bugatti Chiron Pur Sport</td>\n",
       "      <td>Price: $3.6 Million</td>\n",
       "    </tr>\n",
       "    <tr>\n",
       "      <th>34</th>\n",
       "      <td>Lamborghini Sian</td>\n",
       "      <td>Price: $3.6 million</td>\n",
       "    </tr>\n",
       "    <tr>\n",
       "      <th>35</th>\n",
       "      <td>Koenigsegg CC850</td>\n",
       "      <td>Price: $3.7 Million</td>\n",
       "    </tr>\n",
       "    <tr>\n",
       "      <th>36</th>\n",
       "      <td>Bugatti Chiron Super Sport 300+</td>\n",
       "      <td>Price: $3.9 Million</td>\n",
       "    </tr>\n",
       "    <tr>\n",
       "      <th>37</th>\n",
       "      <td>Lamborghini Veneno</td>\n",
       "      <td>Price: $4.5 Million</td>\n",
       "    </tr>\n",
       "    <tr>\n",
       "      <th>38</th>\n",
       "      <td>Bugatti Bolide</td>\n",
       "      <td>Price: $4.7 Million</td>\n",
       "    </tr>\n",
       "    <tr>\n",
       "      <th>39</th>\n",
       "      <td>Bugatti Mistral</td>\n",
       "      <td>Price: $5.0 Million</td>\n",
       "    </tr>\n",
       "    <tr>\n",
       "      <th>40</th>\n",
       "      <td>Pagani Huayra Imola</td>\n",
       "      <td>Price: $5.4 Million</td>\n",
       "    </tr>\n",
       "    <tr>\n",
       "      <th>41</th>\n",
       "      <td>Bugatti Divo</td>\n",
       "      <td>Price: $5.8 Million</td>\n",
       "    </tr>\n",
       "    <tr>\n",
       "      <th>42</th>\n",
       "      <td>SP Automotive Chaos</td>\n",
       "      <td>Price: $6.4 Million</td>\n",
       "    </tr>\n",
       "    <tr>\n",
       "      <th>43</th>\n",
       "      <td>Pagani Codalunga</td>\n",
       "      <td>Price: $7.4 Million</td>\n",
       "    </tr>\n",
       "    <tr>\n",
       "      <th>44</th>\n",
       "      <td>Mercedes-Maybach Exelero</td>\n",
       "      <td>Price: $8.0 Million</td>\n",
       "    </tr>\n",
       "    <tr>\n",
       "      <th>45</th>\n",
       "      <td>Bugatti Centodieci</td>\n",
       "      <td>Price: $9.0 Million</td>\n",
       "    </tr>\n",
       "    <tr>\n",
       "      <th>46</th>\n",
       "      <td>Bugatti Chiron Profilée</td>\n",
       "      <td>Price: $10.8 Million</td>\n",
       "    </tr>\n",
       "    <tr>\n",
       "      <th>47</th>\n",
       "      <td>Rolls-Royce Sweptail</td>\n",
       "      <td>Price: $12.8 Million</td>\n",
       "    </tr>\n",
       "    <tr>\n",
       "      <th>48</th>\n",
       "      <td>Bugatti La Voiture Noire</td>\n",
       "      <td>Price: $13.4 Million</td>\n",
       "    </tr>\n",
       "    <tr>\n",
       "      <th>49</th>\n",
       "      <td>Rolls-Royce Boat Tail*</td>\n",
       "      <td>Price: $28.0 Million (est.)</td>\n",
       "    </tr>\n",
       "  </tbody>\n",
       "</table>\n",
       "</div>"
      ],
      "text/plain": [
       "                            Carname                        Price\n",
       "0                     De Tomaso P72          Price: $1.3 Million\n",
       "1                 Ferrari LaFerrari          Price: $1.4 Million\n",
       "2                     Pagani Huayra          Price: $1.4 Million\n",
       "3                      McLaren Elva          Price: $1.7 Million\n",
       "4                       Czinger 21C          Price: $1.7 Million\n",
       "5                     Ferrari Monza          Price: $1.7 Million\n",
       "6                Gordon Murray T.33          Price: $1.7 Million\n",
       "7                 Koenigsegg Gemera          Price: $1.7 Million\n",
       "8                       Zenvo TSR-S          Price: $1.7 Million\n",
       "9                Hennessey Venom F5          Price: $1.8 Million\n",
       "10                  Bentley Bacalar          Price: $1.9 Million\n",
       "11    Hispano Suiza Carmen Boulogne          Price: $1.9 Million\n",
       "12           Bentley Mulliner Batur          Price: $2.0 Million\n",
       "13                     Deus Vayanne          Price: $2.0 Million\n",
       "14                      SSC Tuatara         Price: $2.0 Million*\n",
       "15                      Lotus Evija          Price: $2.1 Million\n",
       "16              Aston Martin Vulcan          Price: $2.3 Million\n",
       "17                       Delage D12          Price: $2.3 Million\n",
       "18                McLaren Speedtail          Price: $2.3 Million\n",
       "19                     Rimac Nevera          Price: $2.4 Million\n",
       "20                    Pagani Utopia          Price: $2.5 Million\n",
       "21             Pininfarina Battista          Price: $2.5 Million\n",
       "22                Ferrari FXX K Evo          Price: $2.6 Million\n",
       "23               Gordon Murray T.50          Price: $2.6 Million\n",
       "24             Lamborghini Countach          Price: $2.6 Million\n",
       "25         Mercedes-AMG Project One          Price: $2.7 Million\n",
       "26              Aston Martin Victor          Price: $3.0 Million\n",
       "27      Hennessey Venom F5 Roadster                 $3.0 Million\n",
       "28                 Koenigsegg Jesko          Price: $3.0 Million\n",
       "29            Aston Martin Valkyrie          Price: $3.2 Million\n",
       "30        W Motors Lykan Hypersport          Price: $3.4 Million\n",
       "31                    McLaren Solus                 $3.5 Million\n",
       "32        Pagani Huayra Roadster BC          Price: $3.5 Million\n",
       "33         Bugatti Chiron Pur Sport          Price: $3.6 Million\n",
       "34                 Lamborghini Sian          Price: $3.6 million\n",
       "35                 Koenigsegg CC850          Price: $3.7 Million\n",
       "36  Bugatti Chiron Super Sport 300+          Price: $3.9 Million\n",
       "37               Lamborghini Veneno          Price: $4.5 Million\n",
       "38                   Bugatti Bolide          Price: $4.7 Million\n",
       "39                  Bugatti Mistral          Price: $5.0 Million\n",
       "40              Pagani Huayra Imola          Price: $5.4 Million\n",
       "41                     Bugatti Divo          Price: $5.8 Million\n",
       "42              SP Automotive Chaos          Price: $6.4 Million\n",
       "43                 Pagani Codalunga          Price: $7.4 Million\n",
       "44         Mercedes-Maybach Exelero          Price: $8.0 Million\n",
       "45               Bugatti Centodieci          Price: $9.0 Million\n",
       "46          Bugatti Chiron Profilée         Price: $10.8 Million\n",
       "47             Rolls-Royce Sweptail         Price: $12.8 Million\n",
       "48         Bugatti La Voiture Noire         Price: $13.4 Million\n",
       "49           Rolls-Royce Boat Tail*  Price: $28.0 Million (est.)"
      ]
     },
     "execution_count": 173,
     "metadata": {},
     "output_type": "execute_result"
    }
   ],
   "source": [
    "top_4_cars"
   ]
  },
  {
   "cell_type": "code",
   "execution_count": 175,
   "id": "e2ac3a86",
   "metadata": {},
   "outputs": [],
   "source": [
    "top_4_cars.to_csv(\"top_50_cars\")"
   ]
  },
  {
   "cell_type": "code",
   "execution_count": null,
   "id": "4e9c68f3",
   "metadata": {},
   "outputs": [],
   "source": []
  }
 ],
 "metadata": {
  "kernelspec": {
   "display_name": "Python 3 (ipykernel)",
   "language": "python",
   "name": "python3"
  },
  "language_info": {
   "codemirror_mode": {
    "name": "ipython",
    "version": 3
   },
   "file_extension": ".py",
   "mimetype": "text/x-python",
   "name": "python",
   "nbconvert_exporter": "python",
   "pygments_lexer": "ipython3",
   "version": "3.10.4"
  }
 },
 "nbformat": 4,
 "nbformat_minor": 5
}
