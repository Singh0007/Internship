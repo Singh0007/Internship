{
 "cells": [
  {
   "cell_type": "code",
   "execution_count": 1,
   "id": "48dd36fa",
   "metadata": {},
   "outputs": [],
   "source": [
    "import pandas as pd\n",
    "import selenium\n",
    "from selenium import webdriver\n",
    "import warnings\n",
    "warnings.filterwarnings(\"ignore\")\n",
    "from selenium.webdriver.common.keys import Keys\n",
    "from selenium.common.exceptions import StaleElementReferenceException,NoSuchElementException\n",
    "from selenium.webdriver.common.by import By\n",
    "import time\n",
    "from bs4 import BeautifulSoup\n",
    "import requests \n",
    "import re"
   ]
  },
  {
   "cell_type": "code",
   "execution_count": 2,
   "id": "71afd5f4",
   "metadata": {},
   "outputs": [],
   "source": [
    "driver=webdriver.Chrome(r\"C:\\Users\\GauRav SingH\\Desktop\\Internship\\Selenium\\chromedriver.exe\")"
   ]
  },
  {
   "cell_type": "code",
   "execution_count": 20,
   "id": "bba6fca6",
   "metadata": {},
   "outputs": [],
   "source": [
    "driver.get(\"https://www.amazon.in/\")"
   ]
  },
  {
   "cell_type": "code",
   "execution_count": 21,
   "id": "2735a9c0",
   "metadata": {},
   "outputs": [
    {
     "name": "stdout",
     "output_type": "stream",
     "text": [
      "please enter product here--->guitar\n"
     ]
    }
   ],
   "source": [
    "inputU = input('please enter product here--->')"
   ]
  },
  {
   "cell_type": "code",
   "execution_count": 22,
   "id": "5b9cc42e",
   "metadata": {},
   "outputs": [],
   "source": [
    "search_bar = driver.find_element(By.XPATH,'//*[@id=\"twotabsearchtextbox\"]')    # Finding the search bar using it's xpath\n",
    "search_bar.send_keys(inputU)       # Inputing keyword to search \n"
   ]
  },
  {
   "cell_type": "code",
   "execution_count": 23,
   "id": "3cab8561",
   "metadata": {},
   "outputs": [],
   "source": [
    "search_button = driver.find_element(By.XPATH,'//*[@id=\"nav-search-submit-button\"]')    # Finding the xpath of search button\n",
    "search_button.click()        # Clicking the search button"
   ]
  },
  {
   "cell_type": "code",
   "execution_count": 24,
   "id": "22127331",
   "metadata": {},
   "outputs": [],
   "source": [
    "productName=[]"
   ]
  },
  {
   "cell_type": "code",
   "execution_count": 25,
   "id": "80b5936b",
   "metadata": {},
   "outputs": [
    {
     "name": "stdout",
     "output_type": "stream",
     "text": [
      "71 ['Kadence Slowhand Premium Jumbo Semi Acoustic Guitar with Heavy Padded Bag, guitar cable, Pro Capo (Black Spruce Wood)', 'Kadence Frontier guitar with Online Guitar learning course , Wine Red Acoustic Guitar with Die Cast Keys, Set of Strings, Strap, Picks and Bag (Wine Red, Acoustic)', 'Vault Traveller 34 Inch Acoustic Guitar With Truss Rod, Gig-Bag, Strap, Strings, Polishing Cloth, String Winder, Picks & E-Book - Natural Gloss', 'Ketostics® Givson Venus Special KS-vs-BLK, Acoustic Guitar Combo with Cover/Bag, String Set, Belt and Picks (BLACK)', 'Juârez Acoustic Guitar, 38 Inch Cutaway, 038C with Bag, Strings, Pick and Strap, Black', 'Yamaha F280 Acoustic Rosewood Guitar (Natural, Beige)', 'Intern INT-38C Natural Linden Wood Acoustic Guitar Kit with Carry Bag & Picks', 'Juarez Lindenwood Acoustic Guitar Kit, 38 Inches Cutaway, 38C With Bag, Strings, Pick And Strap, 3TS Sunburst', 'Henrix 38C 38 Inch Cutaway Acoustic Guitar With Dual Action Truss Rod, Gigbag, Picks, String Set, String Winder, Strap, Polishing Cloth & Ebook - Black', 'Juarez Lindenwood Acoustic Guitar Kit, 38 Inches Cutaway, 38C With Bag, Strings, Pick And Strap, TBS Transparent (Blue Sunburst)', 'JUAREZ JRZ38C 38 Inches Lindenwood Right Handed Acoustic Guitar With Bag, Strings, Pick And Strap (Natural, Brown, 6 Strings)', 'Yamaha FS100C Acoustic Guitar, Black', 'Kadence rosewood Guitar Frontier Series, Electric Acoustic Black Guitar With EQ, Die Cast Keys, Set Of Strings, Strap, Picks And Bag (Black EQ, Electric Acoustic)', 'Kadence Frontier guitar with Online Guitar learning course , Wine Red Acoustic Guitar with Die Cast Keys, Set of Strings, Strap, Picks and Bag (Wine Red, Acoustic)', 'Fender Acoustic Guitar Dreadnought CD60 V3 970110506 Black Right-Handed One of The Most reputed Guitar Brands in the World', 'Yamaha FS100C Acoustic Guitar, Natural', '', '', 'Juarez Lindenwood Acoustic Guitar, 38 Inches Curved Body Cutaway, 38CUR With Bag, Strings, Pick And Strap (Black)', 'Tagima Junior 30 Inch Acoustic Guitar for Kids', 'YAMAHA FS80C NATURAL CONCERT CUTAWAY GUITAR', 'JUAREZ Jrz-St01 6-String Linden Wood Electric Guitar, Right Handed, Black, With Case/Bag And Picks', 'Kadence Slowhand Premium Jumbo Semi Acoustic Guitar with Heavy Padded Bag, guitar cable, Pro Capo (Black Spruce Wood)', 'Kadence Guitar Acoustica Series A05, Electric Acoustic Guitar, Zebra Wood with Pickup, Inbuilt tuner and Bag (Zebra Wood, Electro Acoustic)', 'Givson Venus Special Cutaway Rosewood 41 Inch Acoustic Guitar Kit with Bag, Rhythm String Set, Strap and 5 Plectrums, (sunbrust)', 'Ketostics™ Venus Special Cutaway Rosewood 41 Inch Givson Venus Special Acoustic Guitar Kit with Bag, Rhythm String Set, Strap and 5 Plectrums, (Black)', 'Ketostics™ Venus Special Cutaway Rosewood 41 Inch Givson Acoustic Guitar Kit with Bag, Rhythm String Set, Strap and 5 Plectrums, (Sunburst)', 'Ketostics™ Venus Special Cutaway Rosewood 41 Inch Givson Venus Special Acoustic Guitar Kit with Bag, Rhythm String Set, Strap and 5 Plectrums, (Red)', 'YAMAHA FX280 Natural Electro Acoustic Guitar', 'YAMAHA F310-TBS Right Handed Spruce, Back/Side/Rib, Meranti Acoustic Guitar (Tobacco Sunburst, 6-Strings)', 'Juârez JRZ38C/MAH 6 Strings Acoustic Guitar 38 Inch Cutaway, Right Handed, Mahogany with Bag, Strings, Picks and Strap', 'Kadence 40 Incheses Frontier Series, rosewood Semi Acoustic Guitar With Die Cast Keys (Bag,Strap,Strings And 3 Picks) (own)', 'JUAREZ Wood Acoustic Guitar, [Left Handed] 96.52 Cm (38 Inch) Cutaway, 38Cl/Tbls With Bag, Strings, Pick And Strap, Blue Sunburst', 'Juarez Acoustic Guitar, 38 Inch Cutaway with Pick Guard, 38CPG with Bag, Strings, Pick and Strap, Black', 'Juarez Acoustic Guitar, [ LEFT HANDED] 38 Inch Cutaway, 38CL/BK with Bag, Strings, Pick and Strap, Black', 'Juârez Acoustic Guitar, 38 Inch Cutaway, JRZ38CT, Hippie Funky Design, with Bag, Picks, Strap & Extra String set', 'Juârez Lindenwood Acoustic Guitar, 38 Inches Cutaway, JRZ38C With Bag, Strings, Pick And Strap, Blue', 'JUAREZ JRZ-ST01, 6 Strings Linden Wood Electric Guitar, Right Handed with Bag/Case, 2 x Picks (3TS Sunburst)', 'Yamaha FS100C Acoustic Guitar, Natural', 'Vault Traveller 34 Inch Acoustic Guitar With Truss Rod, Gig-Bag, Strap, Strings, Polishing Cloth, String Winder, Picks & E-Book - Natural Gloss', 'Medellin 38\" Acoustic Guitar Carbon Fiber body+(Free Online Learning Course) - Durable Matt finish with handrest, strings, strap, bag, 3 Picks, capo, stand. (sun brust)', 'Fender Acoustic Guitar with Cutaway Electronics CD60SCE Black 970113006 Right-Handed One of The Most reputed Guitar Brands in the World', 'Yamaha F-600 6-Strings Acoustic Guitar (Natural)', \"Gibz's guitars G-39 Matt Acoustic Guitar With Truss Rod (Matt, Natural)\", 'Fender Acoustic Guitar Dreadnought Cd60 V3 Natural 970110521 Right-Hand One Of The Most Reputed Guitar Brands In The World', 'Medellin 38\" Acoustic Guitar premium wood with adjustable Truss-rod, free online learning course, Set Of Strings, Strap, Bag and 3 Picks (Sunburst Truss Rod)…… (white)', 'Blueberry 38C, 38\" Acoustic Guitar Kit with Bag, Strap, One Pack Strings And Picks (Black)', 'Swan7 40C Semi Acoustic Guitar Natural Matt Maven Series with Equalizer', 'Yamaha F280 Acoustic Guitar, Natural With Bajaao Gig Bag', 'DOMENICO Guitar 4-String plastic Acoustic Guitar Musical Instrument For Learning (23 Inches)', 'Fender Acoustic Guitar with Cutaway Electronics CD60SCE Natural 970113021', 'YAMAHA F310, 6-Strings Rose Wood Acoustic Guitar, Natural', 'INTERN 40 inches Acoustic Guitar with Pick-up & truss rod, carry bag, strings pack, strap & picks. Premium Wooden durable built, Best tonal stability with professional sound amplificaiton. (ASH).', 'Yamaha F280 Acoustic Guitar, Tobacco Brown Sunburst', 'Kadence Frontier Jumbo Semi Acoustic Guitar With Die Cast Keys, Super Combo (Bag, 1 pack Strings, Strap, Picks, Capo (Black)', 'JUAREZ Acoustic Guitar 3xE 1st String & 2 Pick Set JRGSE32', 'Kadence Frontier Series,Black Acoustic Guitar With Die Cast Keys Combo (Bag,strap,strings and 3 picks)', 'Kadence Guitar Acoustica Series, 41” Jumbo Size 6-strings Acoustic Guitar, Spruce body with Pick Guard A311 with bag… B07JKYWGJN (KAD-A-311)', 'Kadence Frontier Series 40 Incheses wood Semi Acoustic Guitar With Die Cast Keys (Bag,Strap,Strings And 3 Picks) (Sunburst)', 'Juârez JRZ38C/VTS 6 Strings Acoustic Guitar 38 Inch Cutaway, Right Handed, Violet/Purple with Bag, Strings, Picks and Strap', 'Ketostics™ Venus Special Cutaway Rosewood 41 Inch Givson Acoustic Guitar Kit with Bag, Rhythm String Set, Strap and 5 Plectrums, (Blue)', 'Techblaze Digital Guitar Tuner with Three Picks, Digital Calibration Tuner with LCD Display for Guitar Easy to Use Highly Accurate Clip-on Electronic Tuner Specialized for Acoustic and Electric Guitar', 'Cort AD810 Dreadnought Acoustic Guitar with Gig Bag,Tuner,Picks and Strap (Natural Bundle)', '', '', '', '', '', '', '', '']\n"
     ]
    }
   ],
   "source": [
    "#scraping the Product_Name \n",
    "PName=driver.find_elements(By.XPATH,'//span[@class=\"a-size-base-plus a-color-base a-text-normal\"]')\n",
    "for i in PName:\n",
    "    if i.text is None :\n",
    "        productName.append(\"--\") \n",
    "    else:\n",
    "        productName.append(i.text)\n",
    "print(len(productName),productName)"
   ]
  },
  {
   "cell_type": "markdown",
   "id": "77b0ad13",
   "metadata": {},
   "source": [
    "### 2. In the above question, now scrape the following details of each product listed in first 3 pages of your search\n",
    "results and save it in a data frame and csv. In case if any product has less than 3 pages in search results then\n",
    "scrape all the products available under that product name. Details to be scraped are: \"Brand\n",
    "Name\", \"Name of the Product\", \"Price\", \"Return/Exchange\", \"Expected Delivery\", \"Availability\" and\n",
    "“Product URL”. In case, if any of the details are missing for any of the product then replace it by “-“. \n"
   ]
  },
  {
   "cell_type": "code",
   "execution_count": 17,
   "id": "254af412",
   "metadata": {},
   "outputs": [],
   "source": [
    "page_urls = driver.find_elements(By.XPATH,'//a[@class=\"a-link-normal s-no-outline\"]')"
   ]
  },
  {
   "cell_type": "code",
   "execution_count": 18,
   "id": "fadb3af3",
   "metadata": {},
   "outputs": [
    {
     "ename": "NoSuchElementException",
     "evalue": "Message: no such element: Unable to locate element: {\"method\":\"xpath\",\"selector\":\"//a[@class=\"s-pagination-item s-pagination-next s-pagination-button s-pagination-separator\"]\"}\n  (Session info: chrome=111.0.5563.65)\nStacktrace:\nBacktrace:\n\t(No symbol) [0x003337D3]\n\t(No symbol) [0x002C8B81]\n\t(No symbol) [0x001CB36D]\n\t(No symbol) [0x001FD382]\n\t(No symbol) [0x001FD4BB]\n\t(No symbol) [0x00233302]\n\t(No symbol) [0x0021B464]\n\t(No symbol) [0x00231215]\n\t(No symbol) [0x0021B216]\n\t(No symbol) [0x001F0D97]\n\t(No symbol) [0x001F253D]\n\tGetHandleVerifier [0x005AABF2+2510930]\n\tGetHandleVerifier [0x005D8EC1+2700065]\n\tGetHandleVerifier [0x005DC86C+2714828]\n\tGetHandleVerifier [0x003E3480+645344]\n\t(No symbol) [0x002D0FD2]\n\t(No symbol) [0x002D6C68]\n\t(No symbol) [0x002D6D4B]\n\t(No symbol) [0x002E0D6B]\n\tBaseThreadInitThunk [0x75CC00F9+25]\n\tRtlGetAppContainerNamedObjectPath [0x771D7BBE+286]\n\tRtlGetAppContainerNamedObjectPath [0x771D7B8E+238]\n",
     "output_type": "error",
     "traceback": [
      "\u001b[1;31m---------------------------------------------------------------------------\u001b[0m",
      "\u001b[1;31mNoSuchElementException\u001b[0m                    Traceback (most recent call last)",
      "Input \u001b[1;32mIn [18]\u001b[0m, in \u001b[0;36m<cell line: 1>\u001b[1;34m()\u001b[0m\n\u001b[1;32m----> 1\u001b[0m nxt_button \u001b[38;5;241m=\u001b[39m \u001b[43mdriver\u001b[49m\u001b[38;5;241;43m.\u001b[39;49m\u001b[43mfind_element\u001b[49m\u001b[43m(\u001b[49m\u001b[43mBy\u001b[49m\u001b[38;5;241;43m.\u001b[39;49m\u001b[43mXPATH\u001b[49m\u001b[43m,\u001b[49m\u001b[38;5;124;43m'\u001b[39;49m\u001b[38;5;124;43m//a[@class=\u001b[39;49m\u001b[38;5;124;43m\"\u001b[39;49m\u001b[38;5;124;43ms-pagination-item s-pagination-next s-pagination-button s-pagination-separator\u001b[39;49m\u001b[38;5;124;43m\"\u001b[39;49m\u001b[38;5;124;43m]\u001b[39;49m\u001b[38;5;124;43m'\u001b[39;49m\u001b[43m)\u001b[49m\n\u001b[0;32m      2\u001b[0m nxt_button\u001b[38;5;241m.\u001b[39mclick()\n",
      "File \u001b[1;32m~\\AppData\\Local\\Programs\\Python\\Python310\\lib\\site-packages\\selenium\\webdriver\\remote\\webdriver.py:830\u001b[0m, in \u001b[0;36mWebDriver.find_element\u001b[1;34m(self, by, value)\u001b[0m\n\u001b[0;32m    827\u001b[0m     by \u001b[38;5;241m=\u001b[39m By\u001b[38;5;241m.\u001b[39mCSS_SELECTOR\n\u001b[0;32m    828\u001b[0m     value \u001b[38;5;241m=\u001b[39m \u001b[38;5;124mf\u001b[39m\u001b[38;5;124m'\u001b[39m\u001b[38;5;124m[name=\u001b[39m\u001b[38;5;124m\"\u001b[39m\u001b[38;5;132;01m{\u001b[39;00mvalue\u001b[38;5;132;01m}\u001b[39;00m\u001b[38;5;124m\"\u001b[39m\u001b[38;5;124m]\u001b[39m\u001b[38;5;124m'\u001b[39m\n\u001b[1;32m--> 830\u001b[0m \u001b[38;5;28;01mreturn\u001b[39;00m \u001b[38;5;28;43mself\u001b[39;49m\u001b[38;5;241;43m.\u001b[39;49m\u001b[43mexecute\u001b[49m\u001b[43m(\u001b[49m\u001b[43mCommand\u001b[49m\u001b[38;5;241;43m.\u001b[39;49m\u001b[43mFIND_ELEMENT\u001b[49m\u001b[43m,\u001b[49m\u001b[43m \u001b[49m\u001b[43m{\u001b[49m\u001b[38;5;124;43m\"\u001b[39;49m\u001b[38;5;124;43musing\u001b[39;49m\u001b[38;5;124;43m\"\u001b[39;49m\u001b[43m:\u001b[49m\u001b[43m \u001b[49m\u001b[43mby\u001b[49m\u001b[43m,\u001b[49m\u001b[43m \u001b[49m\u001b[38;5;124;43m\"\u001b[39;49m\u001b[38;5;124;43mvalue\u001b[39;49m\u001b[38;5;124;43m\"\u001b[39;49m\u001b[43m:\u001b[49m\u001b[43m \u001b[49m\u001b[43mvalue\u001b[49m\u001b[43m}\u001b[49m\u001b[43m)\u001b[49m[\u001b[38;5;124m\"\u001b[39m\u001b[38;5;124mvalue\u001b[39m\u001b[38;5;124m\"\u001b[39m]\n",
      "File \u001b[1;32m~\\AppData\\Local\\Programs\\Python\\Python310\\lib\\site-packages\\selenium\\webdriver\\remote\\webdriver.py:440\u001b[0m, in \u001b[0;36mWebDriver.execute\u001b[1;34m(self, driver_command, params)\u001b[0m\n\u001b[0;32m    438\u001b[0m response \u001b[38;5;241m=\u001b[39m \u001b[38;5;28mself\u001b[39m\u001b[38;5;241m.\u001b[39mcommand_executor\u001b[38;5;241m.\u001b[39mexecute(driver_command, params)\n\u001b[0;32m    439\u001b[0m \u001b[38;5;28;01mif\u001b[39;00m response:\n\u001b[1;32m--> 440\u001b[0m     \u001b[38;5;28;43mself\u001b[39;49m\u001b[38;5;241;43m.\u001b[39;49m\u001b[43merror_handler\u001b[49m\u001b[38;5;241;43m.\u001b[39;49m\u001b[43mcheck_response\u001b[49m\u001b[43m(\u001b[49m\u001b[43mresponse\u001b[49m\u001b[43m)\u001b[49m\n\u001b[0;32m    441\u001b[0m     response[\u001b[38;5;124m\"\u001b[39m\u001b[38;5;124mvalue\u001b[39m\u001b[38;5;124m\"\u001b[39m] \u001b[38;5;241m=\u001b[39m \u001b[38;5;28mself\u001b[39m\u001b[38;5;241m.\u001b[39m_unwrap_value(response\u001b[38;5;241m.\u001b[39mget(\u001b[38;5;124m\"\u001b[39m\u001b[38;5;124mvalue\u001b[39m\u001b[38;5;124m\"\u001b[39m, \u001b[38;5;28;01mNone\u001b[39;00m))\n\u001b[0;32m    442\u001b[0m     \u001b[38;5;28;01mreturn\u001b[39;00m response\n",
      "File \u001b[1;32m~\\AppData\\Local\\Programs\\Python\\Python310\\lib\\site-packages\\selenium\\webdriver\\remote\\errorhandler.py:245\u001b[0m, in \u001b[0;36mErrorHandler.check_response\u001b[1;34m(self, response)\u001b[0m\n\u001b[0;32m    243\u001b[0m         alert_text \u001b[38;5;241m=\u001b[39m value[\u001b[38;5;124m\"\u001b[39m\u001b[38;5;124malert\u001b[39m\u001b[38;5;124m\"\u001b[39m]\u001b[38;5;241m.\u001b[39mget(\u001b[38;5;124m\"\u001b[39m\u001b[38;5;124mtext\u001b[39m\u001b[38;5;124m\"\u001b[39m)\n\u001b[0;32m    244\u001b[0m     \u001b[38;5;28;01mraise\u001b[39;00m exception_class(message, screen, stacktrace, alert_text)  \u001b[38;5;66;03m# type: ignore[call-arg]  # mypy is not smart enough here\u001b[39;00m\n\u001b[1;32m--> 245\u001b[0m \u001b[38;5;28;01mraise\u001b[39;00m exception_class(message, screen, stacktrace)\n",
      "\u001b[1;31mNoSuchElementException\u001b[0m: Message: no such element: Unable to locate element: {\"method\":\"xpath\",\"selector\":\"//a[@class=\"s-pagination-item s-pagination-next s-pagination-button s-pagination-separator\"]\"}\n  (Session info: chrome=111.0.5563.65)\nStacktrace:\nBacktrace:\n\t(No symbol) [0x003337D3]\n\t(No symbol) [0x002C8B81]\n\t(No symbol) [0x001CB36D]\n\t(No symbol) [0x001FD382]\n\t(No symbol) [0x001FD4BB]\n\t(No symbol) [0x00233302]\n\t(No symbol) [0x0021B464]\n\t(No symbol) [0x00231215]\n\t(No symbol) [0x0021B216]\n\t(No symbol) [0x001F0D97]\n\t(No symbol) [0x001F253D]\n\tGetHandleVerifier [0x005AABF2+2510930]\n\tGetHandleVerifier [0x005D8EC1+2700065]\n\tGetHandleVerifier [0x005DC86C+2714828]\n\tGetHandleVerifier [0x003E3480+645344]\n\t(No symbol) [0x002D0FD2]\n\t(No symbol) [0x002D6C68]\n\t(No symbol) [0x002D6D4B]\n\t(No symbol) [0x002E0D6B]\n\tBaseThreadInitThunk [0x75CC00F9+25]\n\tRtlGetAppContainerNamedObjectPath [0x771D7BBE+286]\n\tRtlGetAppContainerNamedObjectPath [0x771D7B8E+238]\n"
     ]
    }
   ],
   "source": [
    "nxt_button = driver.find_element(By.XPATH,'//a[@class=\"s-pagination-item s-pagination-next s-pagination-button s-pagination-separator\"]')\n",
    "nxt_button.click()\n",
    "#except StaleElementReferenceException as e:             # Handling StaleElement Exception   \n",
    "#        print(\"Stale Exception\")"
   ]
  },
  {
   "cell_type": "code",
   "execution_count": 19,
   "id": "984d808f",
   "metadata": {},
   "outputs": [
    {
     "name": "stdout",
     "output_type": "stream",
     "text": [
      "Product urls of page 1 has been scraped.\n"
     ]
    },
    {
     "ename": "NoSuchElementException",
     "evalue": "Message: no such element: Unable to locate element: {\"method\":\"xpath\",\"selector\":\"//a[@class=\"s-pagination-item s-pagination-next s-pagination-button s-pagination-separator\"]\"}\n  (Session info: chrome=111.0.5563.65)\nStacktrace:\nBacktrace:\n\t(No symbol) [0x003337D3]\n\t(No symbol) [0x002C8B81]\n\t(No symbol) [0x001CB36D]\n\t(No symbol) [0x001FD382]\n\t(No symbol) [0x001FD4BB]\n\t(No symbol) [0x00233302]\n\t(No symbol) [0x0021B464]\n\t(No symbol) [0x00231215]\n\t(No symbol) [0x0021B216]\n\t(No symbol) [0x001F0D97]\n\t(No symbol) [0x001F253D]\n\tGetHandleVerifier [0x005AABF2+2510930]\n\tGetHandleVerifier [0x005D8EC1+2700065]\n\tGetHandleVerifier [0x005DC86C+2714828]\n\tGetHandleVerifier [0x003E3480+645344]\n\t(No symbol) [0x002D0FD2]\n\t(No symbol) [0x002D6C68]\n\t(No symbol) [0x002D6D4B]\n\t(No symbol) [0x002E0D6B]\n\tBaseThreadInitThunk [0x75CC00F9+25]\n\tRtlGetAppContainerNamedObjectPath [0x771D7BBE+286]\n\tRtlGetAppContainerNamedObjectPath [0x771D7B8E+238]\n",
     "output_type": "error",
     "traceback": [
      "\u001b[1;31m---------------------------------------------------------------------------\u001b[0m",
      "\u001b[1;31mNoSuchElementException\u001b[0m                    Traceback (most recent call last)",
      "Input \u001b[1;32mIn [19]\u001b[0m, in \u001b[0;36m<cell line: 4>\u001b[1;34m()\u001b[0m\n\u001b[0;32m     12\u001b[0m         urls\u001b[38;5;241m.\u001b[39mappend(url)                \u001b[38;5;66;03m# Appending the url to urls list\u001b[39;00m\n\u001b[0;32m     13\u001b[0m \u001b[38;5;28mprint\u001b[39m(\u001b[38;5;124m\"\u001b[39m\u001b[38;5;124mProduct urls of page \u001b[39m\u001b[38;5;132;01m{}\u001b[39;00m\u001b[38;5;124m has been scraped.\u001b[39m\u001b[38;5;124m\"\u001b[39m\u001b[38;5;241m.\u001b[39mformat(page\u001b[38;5;241m+\u001b[39m\u001b[38;5;241m1\u001b[39m))\n\u001b[1;32m---> 15\u001b[0m nxt_button \u001b[38;5;241m=\u001b[39m \u001b[43mdriver\u001b[49m\u001b[38;5;241;43m.\u001b[39;49m\u001b[43mfind_element\u001b[49m\u001b[43m(\u001b[49m\u001b[43mBy\u001b[49m\u001b[38;5;241;43m.\u001b[39;49m\u001b[43mXPATH\u001b[49m\u001b[43m,\u001b[49m\u001b[38;5;124;43m'\u001b[39;49m\u001b[38;5;124;43m//a[@class=\u001b[39;49m\u001b[38;5;124;43m\"\u001b[39;49m\u001b[38;5;124;43ms-pagination-item s-pagination-next s-pagination-button s-pagination-separator\u001b[39;49m\u001b[38;5;124;43m\"\u001b[39;49m\u001b[38;5;124;43m]\u001b[39;49m\u001b[38;5;124;43m'\u001b[39;49m\u001b[43m)\u001b[49m\n\u001b[0;32m     16\u001b[0m nxt_button\u001b[38;5;241m.\u001b[39mclick()\n\u001b[0;32m     17\u001b[0m time\u001b[38;5;241m.\u001b[39msleep(\u001b[38;5;241m5\u001b[39m) \n",
      "File \u001b[1;32m~\\AppData\\Local\\Programs\\Python\\Python310\\lib\\site-packages\\selenium\\webdriver\\remote\\webdriver.py:830\u001b[0m, in \u001b[0;36mWebDriver.find_element\u001b[1;34m(self, by, value)\u001b[0m\n\u001b[0;32m    827\u001b[0m     by \u001b[38;5;241m=\u001b[39m By\u001b[38;5;241m.\u001b[39mCSS_SELECTOR\n\u001b[0;32m    828\u001b[0m     value \u001b[38;5;241m=\u001b[39m \u001b[38;5;124mf\u001b[39m\u001b[38;5;124m'\u001b[39m\u001b[38;5;124m[name=\u001b[39m\u001b[38;5;124m\"\u001b[39m\u001b[38;5;132;01m{\u001b[39;00mvalue\u001b[38;5;132;01m}\u001b[39;00m\u001b[38;5;124m\"\u001b[39m\u001b[38;5;124m]\u001b[39m\u001b[38;5;124m'\u001b[39m\n\u001b[1;32m--> 830\u001b[0m \u001b[38;5;28;01mreturn\u001b[39;00m \u001b[38;5;28;43mself\u001b[39;49m\u001b[38;5;241;43m.\u001b[39;49m\u001b[43mexecute\u001b[49m\u001b[43m(\u001b[49m\u001b[43mCommand\u001b[49m\u001b[38;5;241;43m.\u001b[39;49m\u001b[43mFIND_ELEMENT\u001b[49m\u001b[43m,\u001b[49m\u001b[43m \u001b[49m\u001b[43m{\u001b[49m\u001b[38;5;124;43m\"\u001b[39;49m\u001b[38;5;124;43musing\u001b[39;49m\u001b[38;5;124;43m\"\u001b[39;49m\u001b[43m:\u001b[49m\u001b[43m \u001b[49m\u001b[43mby\u001b[49m\u001b[43m,\u001b[49m\u001b[43m \u001b[49m\u001b[38;5;124;43m\"\u001b[39;49m\u001b[38;5;124;43mvalue\u001b[39;49m\u001b[38;5;124;43m\"\u001b[39;49m\u001b[43m:\u001b[49m\u001b[43m \u001b[49m\u001b[43mvalue\u001b[49m\u001b[43m}\u001b[49m\u001b[43m)\u001b[49m[\u001b[38;5;124m\"\u001b[39m\u001b[38;5;124mvalue\u001b[39m\u001b[38;5;124m\"\u001b[39m]\n",
      "File \u001b[1;32m~\\AppData\\Local\\Programs\\Python\\Python310\\lib\\site-packages\\selenium\\webdriver\\remote\\webdriver.py:440\u001b[0m, in \u001b[0;36mWebDriver.execute\u001b[1;34m(self, driver_command, params)\u001b[0m\n\u001b[0;32m    438\u001b[0m response \u001b[38;5;241m=\u001b[39m \u001b[38;5;28mself\u001b[39m\u001b[38;5;241m.\u001b[39mcommand_executor\u001b[38;5;241m.\u001b[39mexecute(driver_command, params)\n\u001b[0;32m    439\u001b[0m \u001b[38;5;28;01mif\u001b[39;00m response:\n\u001b[1;32m--> 440\u001b[0m     \u001b[38;5;28;43mself\u001b[39;49m\u001b[38;5;241;43m.\u001b[39;49m\u001b[43merror_handler\u001b[49m\u001b[38;5;241;43m.\u001b[39;49m\u001b[43mcheck_response\u001b[49m\u001b[43m(\u001b[49m\u001b[43mresponse\u001b[49m\u001b[43m)\u001b[49m\n\u001b[0;32m    441\u001b[0m     response[\u001b[38;5;124m\"\u001b[39m\u001b[38;5;124mvalue\u001b[39m\u001b[38;5;124m\"\u001b[39m] \u001b[38;5;241m=\u001b[39m \u001b[38;5;28mself\u001b[39m\u001b[38;5;241m.\u001b[39m_unwrap_value(response\u001b[38;5;241m.\u001b[39mget(\u001b[38;5;124m\"\u001b[39m\u001b[38;5;124mvalue\u001b[39m\u001b[38;5;124m\"\u001b[39m, \u001b[38;5;28;01mNone\u001b[39;00m))\n\u001b[0;32m    442\u001b[0m     \u001b[38;5;28;01mreturn\u001b[39;00m response\n",
      "File \u001b[1;32m~\\AppData\\Local\\Programs\\Python\\Python310\\lib\\site-packages\\selenium\\webdriver\\remote\\errorhandler.py:245\u001b[0m, in \u001b[0;36mErrorHandler.check_response\u001b[1;34m(self, response)\u001b[0m\n\u001b[0;32m    243\u001b[0m         alert_text \u001b[38;5;241m=\u001b[39m value[\u001b[38;5;124m\"\u001b[39m\u001b[38;5;124malert\u001b[39m\u001b[38;5;124m\"\u001b[39m]\u001b[38;5;241m.\u001b[39mget(\u001b[38;5;124m\"\u001b[39m\u001b[38;5;124mtext\u001b[39m\u001b[38;5;124m\"\u001b[39m)\n\u001b[0;32m    244\u001b[0m     \u001b[38;5;28;01mraise\u001b[39;00m exception_class(message, screen, stacktrace, alert_text)  \u001b[38;5;66;03m# type: ignore[call-arg]  # mypy is not smart enough here\u001b[39;00m\n\u001b[1;32m--> 245\u001b[0m \u001b[38;5;28;01mraise\u001b[39;00m exception_class(message, screen, stacktrace)\n",
      "\u001b[1;31mNoSuchElementException\u001b[0m: Message: no such element: Unable to locate element: {\"method\":\"xpath\",\"selector\":\"//a[@class=\"s-pagination-item s-pagination-next s-pagination-button s-pagination-separator\"]\"}\n  (Session info: chrome=111.0.5563.65)\nStacktrace:\nBacktrace:\n\t(No symbol) [0x003337D3]\n\t(No symbol) [0x002C8B81]\n\t(No symbol) [0x001CB36D]\n\t(No symbol) [0x001FD382]\n\t(No symbol) [0x001FD4BB]\n\t(No symbol) [0x00233302]\n\t(No symbol) [0x0021B464]\n\t(No symbol) [0x00231215]\n\t(No symbol) [0x0021B216]\n\t(No symbol) [0x001F0D97]\n\t(No symbol) [0x001F253D]\n\tGetHandleVerifier [0x005AABF2+2510930]\n\tGetHandleVerifier [0x005D8EC1+2700065]\n\tGetHandleVerifier [0x005DC86C+2714828]\n\tGetHandleVerifier [0x003E3480+645344]\n\t(No symbol) [0x002D0FD2]\n\t(No symbol) [0x002D6C68]\n\t(No symbol) [0x002D6D4B]\n\t(No symbol) [0x002E0D6B]\n\tBaseThreadInitThunk [0x75CC00F9+25]\n\tRtlGetAppContainerNamedObjectPath [0x771D7BBE+286]\n\tRtlGetAppContainerNamedObjectPath [0x771D7B8E+238]\n"
     ]
    }
   ],
   "source": [
    "start_page = 0\n",
    "end_page = 3\n",
    "urls = []\n",
    "for page in range(start_page,end_page):\n",
    "    try:\n",
    "        page_urls = driver.find_elements(By.XPATH,'//a[@class=\"a-link-normal s-no-outline\"]')\n",
    "        \n",
    "        # appending all the urls on current page to urls list\n",
    "        for url in page_urls:\n",
    "            url = url.get_attribute('href')     # Scraping the url from webelement\n",
    "            if url[0:4]=='http':                # Checking if the scraped data is a valid url or not\n",
    "                urls.append(url)                # Appending the url to urls list\n",
    "        print(\"Product urls of page {} has been scraped.\".format(page+1))\n",
    "        \n",
    "        nxt_button = driver.find_element(By.XPATH,'//a[@class=\"s-pagination-item s-pagination-next s-pagination-button s-pagination-separator\"]')\n",
    "        nxt_button.click()\n",
    "        time.sleep(5) \n",
    "\n",
    "        \n",
    "    except StaleElementReferenceException as e:             # Handling StaleElement Exception   \n",
    "        print(\"Stale Exception\")\n",
    "        #next_page = nxt_button.get_attribute('href')        # Extracting the url of next page\n",
    "        #driver.get(next_page)"
   ]
  },
  {
   "cell_type": "code",
   "execution_count": 12,
   "id": "5faf89a8",
   "metadata": {},
   "outputs": [],
   "source": [
    "prod_dict = {}\n",
    "prod_dict['Brand']=[]\n",
    "prod_dict['Name']=[]\n",
    "prod_dict['Rating']=[]\n",
    "prod_dict['No. of ratings']=[]\n",
    "prod_dict['Price']=[]\n",
    "prod_dict['Return/Exchange']=[]\n",
    "prod_dict['Expected Delivery']=[] \n",
    "prod_dict['Availability']=[]\n",
    "prod_dict['Other Details']=[]\n",
    "prod_dict['URL']=[]"
   ]
  },
  {
   "cell_type": "code",
   "execution_count": 13,
   "id": "663c6cd6",
   "metadata": {},
   "outputs": [
    {
     "name": "stdout",
     "output_type": "stream",
     "text": [
      "Scraping URL =  https://www.amazon.in/sspa/click?ie=UTF8&spc=MTo0OTU0OTk2Mjc1NTc4MzYzOjE2Nzk1MDA4MDQ6c3BfYXRmX25leHQ6MjAwMzE2ODgyMjYzMDE6OjA6Og&url=%2FGUITAR-BRO-Acoustic-Beginner-Accessories%2Fdp%2FB07TC7TWCR%2Fref%3Dsr_1_49_sspa%3Fcrid%3D1ESWBUWGYK5RK%26keywords%3Dguitar%26qid%3D1679500804%26sprefix%3Dguitar%252Caps%252C432%26sr%3D8-49-spons%26sp_csd%3Dd2lkZ2V0TmFtZT1zcF9hdGZfbmV4dA%26psc%3D1\n",
      "Scraping URL =  https://www.amazon.in/sspa/click?ie=UTF8&spc=MTo0OTU0OTk2Mjc1NTc4MzYzOjE2Nzk1MDA4MDQ6c3BfYXRmX25leHQ6MjAxMzEyNjEyNTI1OTg6OjA6Og&url=%2FKetostics-Special-Acoustic-Set-Plectrums%2Fdp%2FB0BCL96X5P%2Fref%3Dsr_1_50_sspa%3Fcrid%3D1ESWBUWGYK5RK%26keywords%3Dguitar%26qid%3D1679500804%26sprefix%3Dguitar%252Caps%252C432%26sr%3D8-50-spons%26sp_csd%3Dd2lkZ2V0TmFtZT1zcF9hdGZfbmV4dA%26psc%3D1\n",
      "Scraping URL =  https://www.amazon.in/sspa/click?ie=UTF8&spc=MTo0OTU0OTk2Mjc1NTc4MzYzOjE2Nzk1MDA4MDQ6c3BfYXRmX25leHQ6MjAwODYzMzIxNjI5MDE6OjA6Og&url=%2FUniversal-Acoustic-Classical-Mandolins-Instruments%2Fdp%2FB08XBRNC7T%2Fref%3Dsr_1_51_sspa%3Fcrid%3D1ESWBUWGYK5RK%26keywords%3Dguitar%26qid%3D1679500804%26sprefix%3Dguitar%252Caps%252C432%26sr%3D8-51-spons%26sp_csd%3Dd2lkZ2V0TmFtZT1zcF9hdGZfbmV4dA%26psc%3D1\n",
      "Scraping URL =  https://www.amazon.in/Acoustic-Cutaway-RDS-Strings-Sunburst/dp/B076QGY91P/ref=sr_1_52?crid=1ESWBUWGYK5RK&keywords=guitar&qid=1679500804&sprefix=guitar%2Caps%2C432&sr=8-52\n"
     ]
    }
   ],
   "source": [
    "for url in urls[:4]:\n",
    "    driver.get(url)                                                        # Loading the webpage by url\n",
    "    print(\"Scraping URL = \", url)\n",
    "    #time.sleep(2)\n",
    "    \n",
    "    try:\n",
    "        brand = driver.find_element(By.XPATH,'//a[@id=\"bylineInfo\"]')      # Extracting Brand from xpath\n",
    "        prod_dict['Brand'].append(brand.text)\n",
    "    except NoSuchElementException:\n",
    "        prod_dict['Brand'].append('-')"
   ]
  },
  {
   "cell_type": "code",
   "execution_count": null,
   "id": "e8d968c3",
   "metadata": {},
   "outputs": [],
   "source": []
  },
  {
   "cell_type": "code",
   "execution_count": null,
   "id": "eb9e6c83",
   "metadata": {},
   "outputs": [],
   "source": [
    "for url in urls[:4]:\n",
    "    driver.get(url)                                                        # Loading the webpage by url\n",
    "    print(\"Scraping URL = \", url)\n",
    "    #time.sleep(2)\n",
    "    \n",
    "    try:\n",
    "        brand = driver.find_element(By.XPATH,'//a[@id=\"bylineInfo\"]')      # Extracting Brand from xpath\n",
    "        prod_dict['Brand'].append(brand.text)\n",
    "    except NoSuchElementException:\n",
    "        prod_dict['Brand'].append('-')\n",
    "    \n",
    "    try:\n",
    "        name = driver.find_element(By.XPATH,'//h1[@id=\"title\"]/span')      # Extracting Name from xpath\n",
    "        prod_dict['Name'].append(name.text)\n",
    "    except NoSuchElementException:\n",
    "        prod_dict['Name'].append('-')\n",
    "    \n",
    "    try:\n",
    "        rating = driver.find_element(By.XPATH,'//span[@id=\"acrPopover\"]')  # Extracting Ratings from xpath\n",
    "        prod_dict['Rating'].append(rating.get_attribute(\"title\"))\n",
    "    except NoSuchElementException:\n",
    "        prod_dict['Rating'].append('-')\n",
    "    \n",
    "    try:\n",
    "        n_rating = driver.find_element(By.XPATH,'//a[@id=\"acrCustomerReviewLink\"]/span')     # Extracting no. of Ratings from xpath\n",
    "        prod_dict['No. of ratings'].append(n_rating.text)\n",
    "    except NoSuchElementException:\n",
    "        prod_dict['No. of ratings'].append('-')\n",
    "    \n",
    "    try:\n",
    "        price = driver.find_element(By.XPATH,'//span[@id=\"priceblock_ourprice\"]')            # Extracting Price from xpath\n",
    "        prod_dict['Price'].append(price.text)\n",
    "    except NoSuchElementException:\n",
    "        prod_dict['Price'].append('-')\n",
    "    try:                                                                                     # Extracting Return/Exchange policy from xpath\n",
    "        ret = driver.find_element(By.XPATH,'//div[@data-name=\"RETURNS_POLICY\"]/span/div[2]/a')\n",
    "        prod_dict['Return/Exchange'].append(ret.text)\n",
    "    except NoSuchElementException:\n",
    "        prod_dict['Return/Exchange'].append('-')\n",
    "    try:\n",
    "        delivry = driver.find_element(By.XPATH,'//div[@id=\"ddmDeliveryMessage\"]/b')         # Extracting Expected Delivery from xpath\n",
    "        prod_dict['Expected Delivery'].append(delivry.text)\n",
    "    except NoSuchElementException:\n",
    "        prod_dict['Expected Delivery'].append('-')\n",
    "    \n",
    "    try:\n",
    "        avl = driver.find_element(By.XPATH,'//div[@id=\"availability\"]/span')                # Extracting Availability from xpath\n",
    "        prod_dict['Availability'].append(avl.text)\n",
    "    except NoSuchElementException:\n",
    "        prod_dict['Availability'].append('-')\n",
    "    \n",
    "    try:                                                                                    # Extracting Other Details from xpath\n",
    "        dtls = driver.find_element(By.XPATH,'//ul[@class=\"a-unordered-list a-vertical a-spacing-mini\"]')\n",
    "        prod_dict['Other Details'].append('  ||  '.join(dtls.text.split('\\n')))\n",
    "    except NoSuchElementException:\n",
    "        prod_dict['Other Details'].append('-')\n",
    "    \n",
    "    prod_dict['URL'].append(url)                                                            # Saving url\n",
    "    time.sleep(2)"
   ]
  },
  {
   "cell_type": "code",
   "execution_count": null,
   "id": "13545f9c",
   "metadata": {},
   "outputs": [],
   "source": []
  },
  {
   "cell_type": "code",
   "execution_count": null,
   "id": "6fc5e7eb",
   "metadata": {},
   "outputs": [],
   "source": []
  },
  {
   "cell_type": "code",
   "execution_count": null,
   "id": "dc0a7c2c",
   "metadata": {},
   "outputs": [],
   "source": []
  },
  {
   "cell_type": "code",
   "execution_count": null,
   "id": "9ad6cf7d",
   "metadata": {},
   "outputs": [],
   "source": [
    "start_page = 0\n",
    "end_page = 3\n",
    "urls = []\n",
    "for page in range(start_page,end_page+1):\n",
    "    try:\n",
    "        page_urls = driver.find_elements(By.XPATH'//a[@class=\"a-link-normal s-no-outline\"]')\n",
    "        \n",
    "        # appending all the urls on current page to urls list\n",
    "        for url in page_urls:\n",
    "            url = url.get_attribute('href')     # Scraping the url from webelement\n",
    "            if url[0:4]=='http':                # Checking if the scraped data is a valid url or not\n",
    "                urls.append(url)                # Appending the url to urls list\n",
    "        print(\"Product urls of page {} has been scraped.\".format(page+1))\n",
    "        \n",
    "        # Moving to next page\n",
    "        nxt_button = driver.find_element(By.XPATH,'//li[@class=\"a-last\"]/a')      # Locating the next_button which is active\n",
    "        if nxt_button.text == 'Next→':                                            # Checking if the button located is next button\n",
    "            nxt_button.click()                                                    # Clicking the next button\n",
    "            time.sleep(5)                                                         # time delay of 5 seconds\n",
    "        # If the current active button is not next button, the we will check if the next button is inactive or not    \n",
    "        elif driver.find_element(By.XPATH'//li[@class=\"a-disabled a-last\"]/a').text == 'Next→':    \n",
    "            print(\"No new pages exist. Breaking the loop\")  # Printing message and breakinf loop if we have reached the last page\n",
    "            break\n",
    "            \n",
    "    except StaleElementReferenceException as e:             # Handling StaleElement Exception   \n",
    "        print(\"Stale Exception\")\n",
    "        next_page = nxt_button.get_attribute('href')        # Extracting the url of next page\n",
    "        driver.get(next_page)                               # ReLoading the next page"
   ]
  },
  {
   "cell_type": "code",
   "execution_count": null,
   "id": "fea373d9",
   "metadata": {},
   "outputs": [],
   "source": []
  },
  {
   "cell_type": "code",
   "execution_count": null,
   "id": "cd3138f2",
   "metadata": {},
   "outputs": [],
   "source": []
  },
  {
   "cell_type": "code",
   "execution_count": null,
   "id": "ddbc715b",
   "metadata": {},
   "outputs": [],
   "source": []
  },
  {
   "cell_type": "code",
   "execution_count": null,
   "id": "857054ea",
   "metadata": {},
   "outputs": [],
   "source": []
  },
  {
   "cell_type": "code",
   "execution_count": null,
   "id": "b1877c9a",
   "metadata": {},
   "outputs": [],
   "source": []
  },
  {
   "cell_type": "code",
   "execution_count": null,
   "id": "0013eef7",
   "metadata": {},
   "outputs": [],
   "source": []
  },
  {
   "cell_type": "code",
   "execution_count": null,
   "id": "23c337b0",
   "metadata": {},
   "outputs": [],
   "source": []
  },
  {
   "cell_type": "code",
   "execution_count": null,
   "id": "118ef756",
   "metadata": {},
   "outputs": [],
   "source": []
  },
  {
   "cell_type": "code",
   "execution_count": null,
   "id": "aeb47a8b",
   "metadata": {},
   "outputs": [],
   "source": []
  },
  {
   "cell_type": "code",
   "execution_count": null,
   "id": "b8964b12",
   "metadata": {},
   "outputs": [],
   "source": []
  },
  {
   "cell_type": "code",
   "execution_count": null,
   "id": "5e7d67c4",
   "metadata": {},
   "outputs": [],
   "source": []
  },
  {
   "cell_type": "code",
   "execution_count": null,
   "id": "0efb9135",
   "metadata": {},
   "outputs": [],
   "source": []
  },
  {
   "cell_type": "code",
   "execution_count": null,
   "id": "65330e6e",
   "metadata": {},
   "outputs": [],
   "source": []
  },
  {
   "cell_type": "code",
   "execution_count": null,
   "id": "587d83a9",
   "metadata": {},
   "outputs": [],
   "source": []
  },
  {
   "cell_type": "code",
   "execution_count": null,
   "id": "f09ea009",
   "metadata": {},
   "outputs": [],
   "source": []
  },
  {
   "cell_type": "code",
   "execution_count": null,
   "id": "c389e975",
   "metadata": {},
   "outputs": [],
   "source": []
  },
  {
   "cell_type": "code",
   "execution_count": null,
   "id": "a5d2a679",
   "metadata": {},
   "outputs": [],
   "source": []
  },
  {
   "cell_type": "code",
   "execution_count": null,
   "id": "7ae6a3e0",
   "metadata": {},
   "outputs": [],
   "source": []
  },
  {
   "cell_type": "code",
   "execution_count": null,
   "id": "905df7d5",
   "metadata": {},
   "outputs": [],
   "source": []
  },
  {
   "cell_type": "code",
   "execution_count": null,
   "id": "75b07aeb",
   "metadata": {},
   "outputs": [],
   "source": []
  },
  {
   "cell_type": "code",
   "execution_count": null,
   "id": "9aab940a",
   "metadata": {},
   "outputs": [],
   "source": []
  },
  {
   "cell_type": "code",
   "execution_count": null,
   "id": "ac60a79a",
   "metadata": {},
   "outputs": [],
   "source": []
  },
  {
   "cell_type": "code",
   "execution_count": null,
   "id": "c1d33e21",
   "metadata": {},
   "outputs": [],
   "source": []
  },
  {
   "cell_type": "code",
   "execution_count": null,
   "id": "7af2769e",
   "metadata": {},
   "outputs": [],
   "source": []
  },
  {
   "cell_type": "code",
   "execution_count": null,
   "id": "dc5691f1",
   "metadata": {},
   "outputs": [],
   "source": []
  },
  {
   "cell_type": "code",
   "execution_count": null,
   "id": "26427029",
   "metadata": {},
   "outputs": [],
   "source": []
  },
  {
   "cell_type": "code",
   "execution_count": null,
   "id": "6ec531de",
   "metadata": {},
   "outputs": [],
   "source": []
  },
  {
   "cell_type": "code",
   "execution_count": null,
   "id": "c004c1e2",
   "metadata": {},
   "outputs": [],
   "source": []
  },
  {
   "cell_type": "code",
   "execution_count": null,
   "id": "efb8ee12",
   "metadata": {},
   "outputs": [],
   "source": []
  },
  {
   "cell_type": "code",
   "execution_count": null,
   "id": "6d26c1c1",
   "metadata": {},
   "outputs": [],
   "source": []
  },
  {
   "cell_type": "markdown",
   "id": "82514652",
   "metadata": {},
   "source": [
    "### 3. Write a python program to access the search bar and search button on images.google.com and scrape 10\n",
    "images each for keywords ‘fruits’, ‘cars’ and ‘Machine Learning’, ‘Guitar’, ‘Cakes’. "
   ]
  },
  {
   "cell_type": "code",
   "execution_count": 3,
   "id": "b06e322a",
   "metadata": {},
   "outputs": [],
   "source": [
    "driver.get('https://images.google.com/')"
   ]
  },
  {
   "cell_type": "code",
   "execution_count": null,
   "id": "9be16e21",
   "metadata": {},
   "outputs": [],
   "source": []
  },
  {
   "cell_type": "code",
   "execution_count": null,
   "id": "8e8a436c",
   "metadata": {},
   "outputs": [],
   "source": []
  },
  {
   "cell_type": "code",
   "execution_count": null,
   "id": "9f382b6a",
   "metadata": {},
   "outputs": [],
   "source": []
  },
  {
   "cell_type": "code",
   "execution_count": null,
   "id": "b88a8831",
   "metadata": {},
   "outputs": [],
   "source": []
  },
  {
   "cell_type": "code",
   "execution_count": null,
   "id": "b1596d81",
   "metadata": {},
   "outputs": [],
   "source": []
  },
  {
   "cell_type": "code",
   "execution_count": null,
   "id": "5a1eeb77",
   "metadata": {},
   "outputs": [],
   "source": []
  },
  {
   "cell_type": "code",
   "execution_count": null,
   "id": "445deff9",
   "metadata": {},
   "outputs": [],
   "source": []
  },
  {
   "cell_type": "code",
   "execution_count": null,
   "id": "583acfa5",
   "metadata": {},
   "outputs": [],
   "source": []
  },
  {
   "cell_type": "code",
   "execution_count": null,
   "id": "64d80fde",
   "metadata": {},
   "outputs": [],
   "source": []
  },
  {
   "cell_type": "code",
   "execution_count": null,
   "id": "d67bd914",
   "metadata": {},
   "outputs": [],
   "source": []
  },
  {
   "cell_type": "markdown",
   "id": "70169681",
   "metadata": {},
   "source": [
    "### 4. Write a python program to search for a smartphone(e.g.: Oneplus Nord, pixel 4A, etc.) on www.flipkart.com\n",
    "and scrape following details for all the search results displayed on 1st page. Details to be scraped: “Brand\n",
    "Name”, “Smartphone name”, “Colour”, “RAM”, “Storage(ROM)”, “Primary Camera”,\n",
    "“Secondary Camera”, “Display Size”, “Battery Capacity”, “Price”, “Product URL”. Incase if any of the\n",
    "details is missing then replace it by “- “. Save your results in a dataframe and CSV."
   ]
  },
  {
   "cell_type": "code",
   "execution_count": 238,
   "id": "a6aca137",
   "metadata": {},
   "outputs": [],
   "source": [
    "url4=(\"https://www.flipkart.com/search?q=smartphone&otracker=search&otracker1=search&marketplace=FLIPKART&as-show=on&as=off\")\n",
    "driver.get(url4)"
   ]
  },
  {
   "cell_type": "code",
   "execution_count": 269,
   "id": "65af6516",
   "metadata": {},
   "outputs": [],
   "source": [
    "brand_name=[]\n",
    "color=[]\n",
    "storage_ram_rom=[]\n",
    "p_f_camera=[]\n",
    "display_size=[]\n",
    "battery=[]\n",
    "price=[]\n",
    "product_urls=[]"
   ]
  },
  {
   "cell_type": "code",
   "execution_count": 270,
   "id": "23bcafa0",
   "metadata": {},
   "outputs": [],
   "source": [
    "br=driver.find_elements(By.XPATH ,\"//div[@class='_4rR01T']\")"
   ]
  },
  {
   "cell_type": "code",
   "execution_count": 271,
   "id": "16d1a8b6",
   "metadata": {},
   "outputs": [
    {
     "name": "stdout",
     "output_type": "stream",
     "text": [
      "24 ['APPLE iPhone 14 ', 'SAMSUNG Galaxy F04 ', 'Infinix SMART 7 ', 'Infinix SMART 7 ', 'Infinix SMART 7 ', 'MOTOROLA e13 ', 'APPLE iPhone 14 Plus ', 'APPLE iPhone 14 ', 'APPLE iPhone 14 Plus ', 'POCO C50 ', 'MOTOROLA g52 ', 'REDMI 10 ', 'REDMI 10 ', 'MOTOROLA g52 ', 'APPLE iPhone 14 Plus ', 'POCO C50 ', 'REDMI 10 ', 'SAMSUNG Galaxy F23 5G ', 'MOTOROLA e13 ', 'Infinix HOT 20 Play ', 'Infinix HOT 20 Play ', 'Infinix HOT 20 Play ', 'SAMSUNG Galaxy F04 ', 'SAMSUNG Galaxy F13 ']\n"
     ]
    }
   ],
   "source": [
    "# scraping the brand name\n",
    "for i in br:\n",
    "    if i.text is None:\n",
    "        brand_name.append(\"--\")\n",
    "    else:\n",
    "        brand_name.append(i.text.split(\"(\")[0])\n",
    "        \n",
    "print(len(brand_name),brand_name)"
   ]
  },
  {
   "cell_type": "code",
   "execution_count": 272,
   "id": "e40ae231",
   "metadata": {},
   "outputs": [],
   "source": [
    "# scraping the storage ram_rom\n",
    "\n",
    "ram_rom=driver.find_elements(By.XPATH,'//ul[@class=\"_1xgFaf\"]//li[1]')\n",
    "for i in ram_rom:\n",
    "    if i.text is None:\n",
    "        storage_ram_rom.append(\"--\")\n",
    "    else:\n",
    "        storage_ram_rom.append(i.text)"
   ]
  },
  {
   "cell_type": "code",
   "execution_count": 273,
   "id": "082fbde5",
   "metadata": {},
   "outputs": [
    {
     "name": "stdout",
     "output_type": "stream",
     "text": [
      "24 ['12MP + 12MP | 12MP Front Camera', '13MP + 2MP | 5MP Front Camera', '13MP + AI Lens | 5MP Front Camera', '13MP + AI Lens | 5MP Front Camera', '13MP + AI Lens | 5MP Front Camera', '13MP Rear Camera | 5MP Front Camera', '12MP + 12MP | 12MP Front Camera', '12MP + 12MP | 12MP Front Camera', '12MP + 12MP | 12MP Front Camera', '8MP Dual Camera | 5MP Front Camera', '50MP + 8MP + 2MP | 16MP Front Camera', '50MP + 2MP | 5MP Front Camera', '50MP + 2MP | 5MP Front Camera', '50MP + 8MP + 2MP | 16MP Front Camera', '12MP + 12MP | 12MP Front Camera', '8MP Dual Camera | 5MP Front Camera', '50MP + 2MP | 5MP Front Camera', '50MP + 8MP + 2MP | 8MP Front Camera', '13MP Rear Camera | 5MP Front Camera', '13Mp + AI Lens | 8MP Front Camera', '13Mp + AI Lens | 8MP Front Camera', '13Mp + AI Lens | 8MP Front Camera', '13MP + 2MP | 5MP Front Camera', '50MP + 5MP + 2MP | 8MP Front Camera']\n"
     ]
    }
   ],
   "source": [
    "#scraping the camera front_rear\n",
    "\n",
    "camera_p_f=driver.find_elements(By.XPATH,\"//ul[@class='_1xgFaf']//li[3]\")\n",
    "for i in camera_p_f:\n",
    "    if i.text is None:\n",
    "        p_f_camera.append(\"--\")\n",
    "    else:\n",
    "        p_f_camera.append(i.text)\n",
    "print(len(p_f_camera),p_f_camera)\n",
    "        "
   ]
  },
  {
   "cell_type": "code",
   "execution_count": 274,
   "id": "db964cba",
   "metadata": {},
   "outputs": [
    {
     "name": "stdout",
     "output_type": "stream",
     "text": [
      "24 ['Starlight', 'Jade Purple', 'Azure Blue', 'Night Black', 'Emerald Green', 'Aurora Green', 'Midnight', 'Purple', 'Starlight', 'Royal Blue', 'Charcoal Grey', 'Pacific Blue', 'Shadow Black', 'Metallic White', 'Purple', 'Royal Blue', 'Midnight Black', 'Forest Green', 'Cosmic Black', 'Racing Black', 'Luna Blue', 'Aurora Green', 'Opal Green', 'Nightsky Green']\n"
     ]
    }
   ],
   "source": [
    "#scraping the color\n",
    "\n",
    "clr=driver.find_elements(By.XPATH ,\"//div[@class='_4rR01T']\")\n",
    "for i in clr:\n",
    "    if i.text is None:\n",
    "        color.append(\"--\")\n",
    "    else:\n",
    "        color.append(i.text.split(\"(\")[1].split(\",\")[0])\n",
    "print(len(color),color)"
   ]
  },
  {
   "cell_type": "code",
   "execution_count": 275,
   "id": "9836afe6",
   "metadata": {},
   "outputs": [
    {
     "name": "stdout",
     "output_type": "stream",
     "text": [
      "24 ['15.49 cm (6.1 inch) Super Retina XDR Display', '16.51 cm (6.5 inch) HD Display', '16.76 cm (6.6 inch) HD+ Display', '16.76 cm (6.6 inch) HD+ Display', '16.76 cm (6.6 inch) HD+ Display', '16.51 cm (6.5 inch) HD+ Display', '17.02 cm (6.7 inch) Super Retina XDR Display', '15.49 cm (6.1 inch) Super Retina XDR Display', '17.02 cm (6.7 inch) Super Retina XDR Display', '16.56 cm (6.52 inch) HD+ Display', '16.76 cm (6.6 inch) Full HD+ Display', '17.02 cm (6.7 inch) HD+ Display', '17.02 cm (6.7 inch) HD+ Display', '16.76 cm (6.6 inch) Full HD+ Display', '17.02 cm (6.7 inch) Super Retina XDR Display', '16.56 cm (6.52 inch) HD+ Display', '17.02 cm (6.7 inch) HD+ Display', '16.76 cm (6.6 inch) Full HD+ Display', '16.51 cm (6.5 inch) HD+ Display', '17.32 cm (6.82 inch) HD+ Display', '17.32 cm (6.82 inch) HD+ Display', '17.32 cm (6.82 inch) HD+ Display', '16.51 cm (6.5 inch) HD Display', '16.76 cm (6.6 inch) Full HD+ Display']\n"
     ]
    }
   ],
   "source": [
    "#scraping the display_size\n",
    "\n",
    "disp_size=driver.find_elements(By.XPATH,\"//ul[@class='_1xgFaf']//li[2]\")\n",
    "for i in disp_size:\n",
    "    if i.text is None:\n",
    "        display_size.append(\"--\")\n",
    "    else:\n",
    "        display_size.append(i.text)\n",
    "print(len(display_size),display_size)\n",
    "        "
   ]
  },
  {
   "cell_type": "code",
   "execution_count": 276,
   "id": "12bbec40",
   "metadata": {},
   "outputs": [
    {
     "name": "stdout",
     "output_type": "stream",
     "text": [
      "24 ['A15 Bionic Chip, 6 Core Processor Processor', '5000 mAh Lithium-Ion Battery', '6000 mAh Battery', '6000 mAh Battery', '6000 mAh Battery', '5000 mAh Battery', 'A15 Bionic Chip, 6 Core Processor Processor', 'A15 Bionic Chip, 6 Core Processor Processor', 'A15 Bionic Chip, 6 Core Processor Processor', '5000 mAh Lithium Polymer Battery', '5000 mAh Lithium Battery', '6000 mAh Lithium Polymer Battery', '6000 mAh Lithium Polymer Battery', '5000 mAh Lithium Battery', 'A15 Bionic Chip, 6 Core Processor Processor', '5000 mAh Lithium Polymer Battery', '6000 mAh Lithium Polymer Battery', '5000 mAh Lithium Ion Battery', '5000 mAh Battery', '6000 mAh Li-ion Polymer Battery', '6000 mAh Li-ion Polymer Battery', '6000 mAh Li-ion Polymer Battery', '5000 mAh Lithium-Ion Battery', '6000 mAh Lithium Ion Battery']\n"
     ]
    }
   ],
   "source": [
    "#scraping the battery \n",
    "\n",
    "batt=driver.find_elements(By.XPATH,\"//ul[@class='_1xgFaf']//li[4]\")\n",
    "for i in batt:\n",
    "    if i.text is None:\n",
    "        battery.append(\"--\")\n",
    "    else:\n",
    "        battery.append(i.text)\n",
    "print(len(battery),battery)"
   ]
  },
  {
   "cell_type": "code",
   "execution_count": 277,
   "id": "84d6ddde",
   "metadata": {},
   "outputs": [
    {
     "name": "stdout",
     "output_type": "stream",
     "text": [
      "24 ['₹71,999', '₹7,499', '₹7,499', '₹7,499', '₹7,499', '₹7,999', '₹80,999', '₹71,999', '₹80,999', '₹6,499', '₹10,999', '₹9,499', '₹9,499', '₹12,999', '₹80,999', '₹6,749', '₹9,499', '₹15,999', '₹7,999', '₹8,199', '₹8,199', '₹8,199', '₹7,499', '₹10,999']\n"
     ]
    }
   ],
   "source": [
    "#scraping the price\n",
    "\n",
    "prc=driver.find_elements(By.XPATH,\"//div[@class='_30jeq3 _1_WHN1']\")\n",
    "for i in prc:\n",
    "    if i.text is None:\n",
    "        price.append(\"--\")\n",
    "    else:\n",
    "        price.append(i.text)\n",
    "print(len(price),price)"
   ]
  },
  {
   "cell_type": "code",
   "execution_count": 280,
   "id": "1c9739d7",
   "metadata": {},
   "outputs": [],
   "source": [
    "product_urls=[]"
   ]
  },
  {
   "cell_type": "code",
   "execution_count": 281,
   "id": "911dd0b3",
   "metadata": {},
   "outputs": [
    {
     "name": "stdout",
     "output_type": "stream",
     "text": [
      "24 ['https://www.flipkart.com/apple-iphone-14-starlight-128-gb/p/itm3485a56f6e676?pid=MOBGHWFHABH3G73H&lid=LSTMOBGHWFHABH3G73HVXY5AV&marketplace=FLIPKART&q=smartphone&store=tyy%2F4io&srno=s_1_1&otracker=search&otracker1=search&iid=04d3f8f5-7ec3-407c-a538-3c916c69ec4f.MOBGHWFHABH3G73H.SEARCH&ssid=sma2zqk7000000001679314623840&qH=1036ba3c4ed2c021', 'https://www.flipkart.com/samsung-galaxy-f04-jade-purple-64-gb/p/itm0934dc56a1df7?pid=MOBGKY2VTP3XETBR&lid=LSTMOBGKY2VTP3XETBRJKXEIM&marketplace=FLIPKART&q=smartphone&store=tyy%2F4io&srno=s_1_2&otracker=search&otracker1=search&iid=04d3f8f5-7ec3-407c-a538-3c916c69ec4f.MOBGKY2VTP3XETBR.SEARCH&ssid=sma2zqk7000000001679314623840&qH=1036ba3c4ed2c021', 'https://www.flipkart.com/infinix-smart-7-azure-blue-64-gb/p/itm7b72b66485a59?pid=MOBGMTW2WYG2A2FM&lid=LSTMOBGMTW2WYG2A2FMAZGXKU&marketplace=FLIPKART&q=smartphone&store=tyy%2F4io&srno=s_1_3&otracker=search&otracker1=search&iid=04d3f8f5-7ec3-407c-a538-3c916c69ec4f.MOBGMTW2WYG2A2FM.SEARCH&ssid=sma2zqk7000000001679314623840&qH=1036ba3c4ed2c021', 'https://www.flipkart.com/infinix-smart-7-night-black-64-gb/p/itm7b72b66485a59?pid=MOBGMTW2T7W2UPB9&lid=LSTMOBGMTW2T7W2UPB99HTRS1&marketplace=FLIPKART&q=smartphone&store=tyy%2F4io&srno=s_1_4&otracker=search&otracker1=search&iid=04d3f8f5-7ec3-407c-a538-3c916c69ec4f.MOBGMTW2T7W2UPB9.SEARCH&ssid=sma2zqk7000000001679314623840&qH=1036ba3c4ed2c021', 'https://www.flipkart.com/infinix-smart-7-emerald-green-64-gb/p/itm7b72b66485a59?pid=MOBGMTW2HFCMQY35&lid=LSTMOBGMTW2HFCMQY35R7FJQZ&marketplace=FLIPKART&q=smartphone&store=tyy%2F4io&srno=s_1_5&otracker=search&otracker1=search&iid=04d3f8f5-7ec3-407c-a538-3c916c69ec4f.MOBGMTW2HFCMQY35.SEARCH&ssid=sma2zqk7000000001679314623840&qH=1036ba3c4ed2c021', 'https://www.flipkart.com/motorola-e13-aurora-green-64-gb/p/itm3042ad3770a18?pid=MOBGKHNBA55HDSZR&lid=LSTMOBGKHNBA55HDSZRHOAFME&marketplace=FLIPKART&q=smartphone&store=tyy%2F4io&srno=s_1_6&otracker=search&otracker1=search&iid=04d3f8f5-7ec3-407c-a538-3c916c69ec4f.MOBGKHNBA55HDSZR.SEARCH&ssid=sma2zqk7000000001679314623840&qH=1036ba3c4ed2c021', 'https://www.flipkart.com/apple-iphone-14-plus-midnight-128-gb/p/itm4199ea6bcd38b?pid=MOBGHWFH3JX6NWWY&lid=LSTMOBGHWFH3JX6NWWYRH38NG&marketplace=FLIPKART&q=smartphone&store=tyy%2F4io&srno=s_1_7&otracker=search&otracker1=search&iid=04d3f8f5-7ec3-407c-a538-3c916c69ec4f.MOBGHWFH3JX6NWWY.SEARCH&ssid=sma2zqk7000000001679314623840&qH=1036ba3c4ed2c021', 'https://www.flipkart.com/apple-iphone-14-purple-128-gb/p/itm0b581eba85e08?pid=MOBGHWFHQFSQYBFU&lid=LSTMOBGHWFHQFSQYBFU9AP8AR&marketplace=FLIPKART&q=smartphone&store=tyy%2F4io&srno=s_1_8&otracker=search&otracker1=search&iid=04d3f8f5-7ec3-407c-a538-3c916c69ec4f.MOBGHWFHQFSQYBFU.SEARCH&ssid=sma2zqk7000000001679314623840&qH=1036ba3c4ed2c021', 'https://www.flipkart.com/apple-iphone-14-plus-starlight-128-gb/p/itmc922ddc8af349?pid=MOBGHWFHVCB2YZYR&lid=LSTMOBGHWFHVCB2YZYR7XYF6W&marketplace=FLIPKART&q=smartphone&store=tyy%2F4io&srno=s_1_9&otracker=search&otracker1=search&iid=04d3f8f5-7ec3-407c-a538-3c916c69ec4f.MOBGHWFHVCB2YZYR.SEARCH&ssid=sma2zqk7000000001679314623840&qH=1036ba3c4ed2c021', 'https://www.flipkart.com/poco-c50-royal-blue-32-gb/p/itm29f5966074235?pid=MOBGK8WZUTGDEZFA&lid=LSTMOBGK8WZUTGDEZFAWKBDLT&marketplace=FLIPKART&q=smartphone&store=tyy%2F4io&spotlightTagId=BestsellerId_tyy%2F4io&srno=s_1_10&otracker=search&otracker1=search&iid=04d3f8f5-7ec3-407c-a538-3c916c69ec4f.MOBGK8WZUTGDEZFA.SEARCH&ssid=sma2zqk7000000001679314623840&qH=1036ba3c4ed2c021', 'https://www.flipkart.com/motorola-g52-charcoal-grey-64-gb/p/itm8a96aeaed01c9?pid=MOBGAKFYTDHBAVV3&lid=LSTMOBGAKFYTDHBAVV3SRNTLS&marketplace=FLIPKART&q=smartphone&store=tyy%2F4io&srno=s_1_11&otracker=search&otracker1=search&iid=04d3f8f5-7ec3-407c-a538-3c916c69ec4f.MOBGAKFYTDHBAVV3.SEARCH&ssid=sma2zqk7000000001679314623840&qH=1036ba3c4ed2c021', 'https://www.flipkart.com/redmi-10-pacific-blue-64-gb/p/itm0f2a6a2112b75?pid=MOBGC9GYCHQZK9GW&lid=LSTMOBGC9GYCHQZK9GWWQKKSO&marketplace=FLIPKART&q=smartphone&store=tyy%2F4io&srno=s_1_12&otracker=search&otracker1=search&iid=04d3f8f5-7ec3-407c-a538-3c916c69ec4f.MOBGC9GYCHQZK9GW.SEARCH&ssid=sma2zqk7000000001679314623840&qH=1036ba3c4ed2c021', 'https://www.flipkart.com/redmi-10-shadow-black-64-gb/p/itm0f35cd8b62294?pid=MOBGMPHFVU6NNDH5&lid=LSTMOBGMPHFVU6NNDH5AK0YVP&marketplace=FLIPKART&q=smartphone&store=tyy%2F4io&srno=s_1_13&otracker=search&otracker1=search&iid=04d3f8f5-7ec3-407c-a538-3c916c69ec4f.MOBGMPHFVU6NNDH5.SEARCH&ssid=sma2zqk7000000001679314623840&qH=1036ba3c4ed2c021', 'https://www.flipkart.com/motorola-g52-metallic-white-128-gb/p/itm469efad765b98?pid=MOBGAKFYDDSNZGR8&lid=LSTMOBGAKFYDDSNZGR8W6QBUV&marketplace=FLIPKART&q=smartphone&store=tyy%2F4io&srno=s_1_14&otracker=search&otracker1=search&iid=04d3f8f5-7ec3-407c-a538-3c916c69ec4f.MOBGAKFYDDSNZGR8.SEARCH&ssid=sma2zqk7000000001679314623840&qH=1036ba3c4ed2c021', 'https://www.flipkart.com/apple-iphone-14-plus-purple-128-gb/p/itm7a759a472d863?pid=MOBGHWFHYFJWRHAG&lid=LSTMOBGHWFHYFJWRHAGX1JLRZ&marketplace=FLIPKART&q=smartphone&store=tyy%2F4io&srno=s_1_15&otracker=search&otracker1=search&iid=04d3f8f5-7ec3-407c-a538-3c916c69ec4f.MOBGHWFHYFJWRHAG.SEARCH&ssid=sma2zqk7000000001679314623840&qH=1036ba3c4ed2c021', 'https://www.flipkart.com/poco-c50-royal-blue-32-gb/p/itm9c774a53205d1?pid=MOBGK8WZPS5BQRFA&lid=LSTMOBGK8WZPS5BQRFADVCYDI&marketplace=FLIPKART&q=smartphone&store=tyy%2F4io&srno=s_1_16&otracker=search&otracker1=search&iid=04d3f8f5-7ec3-407c-a538-3c916c69ec4f.MOBGK8WZPS5BQRFA.SEARCH&ssid=sma2zqk7000000001679314623840&qH=1036ba3c4ed2c021', 'https://www.flipkart.com/redmi-10-midnight-black-64-gb/p/itmd93641e4ebb47?pid=MOBGC9GYEBH3GZ4E&lid=LSTMOBGC9GYEBH3GZ4E44YY0L&marketplace=FLIPKART&q=smartphone&store=tyy%2F4io&srno=s_1_17&otracker=search&otracker1=search&iid=04d3f8f5-7ec3-407c-a538-3c916c69ec4f.MOBGC9GYEBH3GZ4E.SEARCH&ssid=sma2zqk7000000001679314623840&qH=1036ba3c4ed2c021', 'https://www.flipkart.com/samsung-galaxy-f23-5g-forest-green-128-gb/p/itm4001e68fda319?pid=MOBGBKQF3QM4GHWN&lid=LSTMOBGBKQF3QM4GHWNJ56YXY&marketplace=FLIPKART&q=smartphone&store=tyy%2F4io&srno=s_1_18&otracker=search&otracker1=search&iid=04d3f8f5-7ec3-407c-a538-3c916c69ec4f.MOBGBKQF3QM4GHWN.SEARCH&ssid=sma2zqk7000000001679314623840&qH=1036ba3c4ed2c021', 'https://www.flipkart.com/motorola-e13-cosmic-black-64-gb/p/itm6e3f9b274eef3?pid=MOBGKHNBBMSUE94W&lid=LSTMOBGKHNBBMSUE94WYZAYPS&marketplace=FLIPKART&q=smartphone&store=tyy%2F4io&srno=s_1_19&otracker=search&otracker1=search&iid=04d3f8f5-7ec3-407c-a538-3c916c69ec4f.MOBGKHNBBMSUE94W.SEARCH&ssid=sma2zqk7000000001679314623840&qH=1036ba3c4ed2c021', 'https://www.flipkart.com/infinix-hot-20-play-racing-black-64-gb/p/itm1e6903eb0203e?pid=MOBGK23WGFWJHRQD&lid=LSTMOBGK23WGFWJHRQD90DLPU&marketplace=FLIPKART&q=smartphone&store=tyy%2F4io&srno=s_1_20&otracker=search&otracker1=search&iid=04d3f8f5-7ec3-407c-a538-3c916c69ec4f.MOBGK23WGFWJHRQD.SEARCH&ssid=sma2zqk7000000001679314623840&qH=1036ba3c4ed2c021', 'https://www.flipkart.com/infinix-hot-20-play-luna-blue-64-gb/p/itm1e6903eb0203e?pid=MOBGK23WTVZZ3DDD&lid=LSTMOBGK23WTVZZ3DDDLYVBCR&marketplace=FLIPKART&q=smartphone&store=tyy%2F4io&srno=s_1_21&otracker=search&otracker1=search&iid=04d3f8f5-7ec3-407c-a538-3c916c69ec4f.MOBGK23WTVZZ3DDD.SEARCH&ssid=sma2zqk7000000001679314623840&qH=1036ba3c4ed2c021', 'https://www.flipkart.com/infinix-hot-20-play-aurora-green-64-gb/p/itm1e6903eb0203e?pid=MOBGK23WWFC8SUZZ&lid=LSTMOBGK23WWFC8SUZZTMFJG8&marketplace=FLIPKART&q=smartphone&store=tyy%2F4io&srno=s_1_22&otracker=search&otracker1=search&iid=04d3f8f5-7ec3-407c-a538-3c916c69ec4f.MOBGK23WWFC8SUZZ.SEARCH&ssid=sma2zqk7000000001679314623840&qH=1036ba3c4ed2c021', 'https://www.flipkart.com/samsung-galaxy-f04-opal-green-64-gb/p/itmd0c05f8b03876?pid=MOBGKY2V7QZ2QVFS&lid=LSTMOBGKY2V7QZ2QVFSGOGYVU&marketplace=FLIPKART&q=smartphone&store=tyy%2F4io&srno=s_1_23&otracker=search&otracker1=search&iid=04d3f8f5-7ec3-407c-a538-3c916c69ec4f.MOBGKY2V7QZ2QVFS.SEARCH&ssid=sma2zqk7000000001679314623840&qH=1036ba3c4ed2c021', 'https://www.flipkart.com/samsung-galaxy-f13-nightsky-green-64-gb/p/itmeadfda1bd23fa?pid=MOBGENJWF4KJTPEN&lid=LSTMOBGENJWF4KJTPENS2XJXA&marketplace=FLIPKART&q=smartphone&store=tyy%2F4io&srno=s_1_24&otracker=search&otracker1=search&iid=04d3f8f5-7ec3-407c-a538-3c916c69ec4f.MOBGENJWF4KJTPEN.SEARCH&ssid=sma2zqk7000000001679314623840&qH=1036ba3c4ed2c021']\n"
     ]
    }
   ],
   "source": [
    "#scraping the product_url\n",
    "\n",
    "prod_url=driver.find_elements(By.XPATH,\"//a[@class='_1fQZEK']\")\n",
    "for i in prod_url:\n",
    "    if i.get_attribute(\"href\") is None:\n",
    "        product_urls.append(\"--\")\n",
    "    else:\n",
    "        product_urls.append(i.get_attribute(\"href\"))\n",
    "print(len(product_urls),product_urls)"
   ]
  },
  {
   "cell_type": "code",
   "execution_count": 282,
   "id": "a40dedab",
   "metadata": {},
   "outputs": [],
   "source": [
    "flipkart=pd.DataFrame({\"Brand_Name\":brand_name,\"Storage_RAM_ROM\":storage_ram_rom,\"P_F_Camera\":p_f_camera,\"Color\":color,\"Display_size_Resolution\":display_size,\"Battery\":battery,\"Price\":price,\"Product_urls\":product_urls})"
   ]
  },
  {
   "cell_type": "code",
   "execution_count": 284,
   "id": "b486604e",
   "metadata": {},
   "outputs": [],
   "source": [
    "flipkart.to_csv(\"flipkart.csv\")"
   ]
  },
  {
   "cell_type": "markdown",
   "id": "758dfe9e",
   "metadata": {},
   "source": [
    "## 5. Write a program to scrap geospatial coordinates (latitude, longitude) of a city searched on google maps."
   ]
  },
  {
   "cell_type": "code",
   "execution_count": 4,
   "id": "27017791",
   "metadata": {},
   "outputs": [],
   "source": [
    "driver.get(\"https://www.google.co.in/maps\")\n",
    "time.sleep(3)"
   ]
  },
  {
   "cell_type": "code",
   "execution_count": 8,
   "id": "5b2160c1",
   "metadata": {},
   "outputs": [
    {
     "name": "stdout",
     "output_type": "stream",
     "text": [
      "Enter City Name : delhi\n"
     ]
    }
   ],
   "source": [
    "city = input('Enter City Name : ')                                         # Enter city to be searched\n",
    "search = driver.find_element(By.ID,'searchboxinput')                 # locating search bar\n",
    "search.clear()                                                             # clearing search bar\n",
    "time.sleep(2)\n",
    "search.send_keys(city)                                                     # entering values in search bar\n",
    "button = driver.find_element(By.ID,\"searchbox-searchbutton\")               # locating search button\n",
    "button.click()                                                             # clicking search button\n",
    "time.sleep(3)"
   ]
  },
  {
   "cell_type": "code",
   "execution_count": 9,
   "id": "0ebe7598",
   "metadata": {},
   "outputs": [
    {
     "name": "stdout",
     "output_type": "stream",
     "text": [
      "URL Extracted:  https://www.google.co.in/maps/place/Delhi/@28.6437954,76.8130374,10z/data=!3m1!4b1!4m6!3m5!1s0x390cfd5b347eb62d:0x37205b715389640!8m2!3d28.7040592!4d77.1024902!16zL20vMDlmMDc\n",
      "Latitude = 28.6437954, Longitude = 76.8130374\n"
     ]
    }
   ],
   "source": [
    "try:\n",
    "    url_string = driver.current_url\n",
    "    print(\"URL Extracted: \", url_string)\n",
    "    lat_lng = re.findall(r'@(.*)data',url_string)\n",
    "    if len(lat_lng):\n",
    "        lat_lng_list = lat_lng[0].split(\",\")\n",
    "        if len(lat_lng_list)>=2:\n",
    "            lat = lat_lng_list[0]\n",
    "            lng = lat_lng_list[1]\n",
    "        print(\"Latitude = {}, Longitude = {}\".format(lat, lng))\n",
    "\n",
    "except Exception as e:\n",
    "        print(\"Error: \", str(e))"
   ]
  },
  {
   "cell_type": "markdown",
   "id": "5fc44d38",
   "metadata": {},
   "source": [
    "### 6. Write a program to scrap all the available details of best gaming laptops from digit.in."
   ]
  },
  {
   "cell_type": "code",
   "execution_count": 12,
   "id": "3844eb77",
   "metadata": {},
   "outputs": [],
   "source": [
    "driver.get(\"https://digit.in\")"
   ]
  },
  {
   "cell_type": "code",
   "execution_count": 19,
   "id": "844ef5b5",
   "metadata": {},
   "outputs": [],
   "source": [
    "gaming=driver.find_element(By.XPATH,'/html/body/div[2]/div/ul/li[5]/a')\n"
   ]
  },
  {
   "cell_type": "code",
   "execution_count": 20,
   "id": "cf3acedd",
   "metadata": {},
   "outputs": [],
   "source": [
    "gaming.click()"
   ]
  },
  {
   "cell_type": "code",
   "execution_count": 21,
   "id": "da77b578",
   "metadata": {},
   "outputs": [],
   "source": [
    "Brands=[]\n",
    "Products_Description=[]\n",
    "Specification=[]\n",
    "Price=[]"
   ]
  },
  {
   "cell_type": "code",
   "execution_count": 22,
   "id": "ad253a9b",
   "metadata": {},
   "outputs": [],
   "source": [
    "br=driver.find_element(By.XPATH,\"/html/body/div[2]/div/ul/li[5]/div[3]/div/div[2]/div/ul[3]/li[4]/a\")\n",
    "br.click()"
   ]
  },
  {
   "cell_type": "code",
   "execution_count": 33,
   "id": "5abd6d00",
   "metadata": {},
   "outputs": [],
   "source": [
    "top_lap=driver.find_element(By.XPATH,'/html/body/div[3]/div/div[2]/div[2]/h2/a')\n"
   ]
  },
  {
   "cell_type": "code",
   "execution_count": 34,
   "id": "3e29fdd7",
   "metadata": {},
   "outputs": [],
   "source": [
    "top_lap.click()"
   ]
  },
  {
   "cell_type": "code",
   "execution_count": 40,
   "id": "9cc9f762",
   "metadata": {},
   "outputs": [
    {
     "data": {
      "text/plain": [
       "'01. Acer Aspire 5 Gaming'"
      ]
     },
     "execution_count": 40,
     "metadata": {},
     "output_type": "execute_result"
    }
   ],
   "source": [
    "lap=driver.find_elements(By.XPATH,'/html/body/div[3]/div/div[2]/div[2]/h3/a')\n",
    "lap[0].text"
   ]
  },
  {
   "cell_type": "code",
   "execution_count": null,
   "id": "48a0bce9",
   "metadata": {},
   "outputs": [],
   "source": []
  },
  {
   "cell_type": "code",
   "execution_count": 61,
   "id": "1d5be0bb",
   "metadata": {},
   "outputs": [],
   "source": [
    "lap_brand=[]"
   ]
  },
  {
   "cell_type": "code",
   "execution_count": 62,
   "id": "22a97c17",
   "metadata": {},
   "outputs": [
    {
     "data": {
      "text/plain": [
       "[' ASUS TUF Gaming',\n",
       " ' ASUS Zephyrus G14',\n",
       " ' ASUS Vivobook Pro 14 OLED',\n",
       " ' ASUS ROG Strix G15',\n",
       " ' ASUS TUF DASH F15',\n",
       " ' ASUS ROG Flow X13']"
      ]
     },
     "execution_count": 62,
     "metadata": {},
     "output_type": "execute_result"
    }
   ],
   "source": [
    "#SCRAP DATA FOR BRAND NAME\n",
    "for i in top_lap:\n",
    "   \n",
    "    lap_brand.append(i.text.strip(\"\").split(\"\\n\")[0].split(\".\")[1])\n",
    "lap_brand"
   ]
  },
  {
   "cell_type": "code",
   "execution_count": 74,
   "id": "7322ee6c",
   "metadata": {},
   "outputs": [],
   "source": [
    "lap_description=[]"
   ]
  },
  {
   "cell_type": "code",
   "execution_count": 75,
   "id": "0417d43c",
   "metadata": {},
   "outputs": [
    {
     "data": {
      "text/plain": [
       "['The ASUS TUF Gaming laptop is probably one of the most affordable laptops on the market featuring an Intel 10th Gen Core i5 CPU and an Nvidia GTX 1650ti GPU. The laptop also comes with 8GB RAM and a massive 1TB SSD. The laptop’s overall design has “gamer aesthetic” written all over it. The ASUS TUF Gaming also features a 15.6-inch FHD anti-glare display, which also supports up to 144Hz refresh rate. Suffice it to say, the TUF Gaming is one of the best ASUS gaming laptops you can buy on a budget.',\n",
       " 'The ASUS Zephyrus G14 comes in various configurations. I chose this one in particular because of its high price to performance ratio. The Zephyrus G14 we’re talking about is probably the most underlooked gem in its catalogue. It is a thin and light gaming laptop paired with an Octa Core processor which you can buy in around Rs 85,000. The ASUS Zephyrus G14 uses a Ryzen 7 5800HS octa core CPU in pairing with an Nvidia GTX 1650 GPU. The laptop also features an FHD 14-inch display with support for up to 120Hz for smooth gaming.',\n",
       " 'What’s a good gaming laptop without a good display? Someone at ASUS probably thought the same and which is why we got the Vivobook Pro 14 OLED creators laptop. The best part is that in addition to having an OLED display, the laptop also has a dedicated Nvidia GTX 1650 GPU. Meaning you can do your creative tasks like photo and video editing on this device and enjoy gaming in rich details. The 14-inch 2.8k OLED display also has a 90Hz refresh rate, making everything you see on it very smooth. Lastly, the ASUS Vivobook Pro 14 OLED is probably one of most affordable OLED gaming laptops in India.',\n",
       " 'If an ASUS gaming laptop with a powerful CPU and an equally capable GPU is what you’re looking for then the ROG Strix G15 should be on your list. It comes equipped with an AMD Ryzen 7 4800H octa core CPU and an Nvidia RTX 3050 GPU with 4GB GDDR6 VRAM. The laptop also features a 15.6-inch FHD display with 250 nits brightness and 16:9 aspect ratio. The FHD display also has a maximum refresh rate of 144Hz. In short, it is one of the best ASUS gaming laptops in India in its price segment.',\n",
       " 'If you want high graphical power from a gaming laptop then an ASUS machine with an Nvidia RTX 3060 should do the trick. The 15.6-inch gaming laptop pairs an Intel 11th Gen Core i5 CPU with an Nvidia RTX 3060 GPU with 6GB GDDR6 VRAM to give you a graphical powerhouse. The laptop also comes in a Moonlight white colour which looks really awesome as well. The ASUS TUF DASH F15 also packs in a FHD display with 144hz high refresh rate support and adaptive sync technology.',\n",
       " 'Can a gaming laptop also be a tablet? The answer is absolutely Yes! The ASUS ROG Flow X13 2-in-1 gaming laptop is probably the only device of its kind. It is powered by a powerful AMD Ryzen 7 5800HS octa core processor and an Nvidia GTX 1650 GPU. Additionally, the laptop also features a 13.4-inch WUXGA 120Hz refresh rate display with 16:10 aspect ratio. The screen is also touch enabled and covers 100% of the sRGB colour space. It is also PANTONE validated so you can ensure to enjoy rich HDR content on it.']"
      ]
     },
     "execution_count": 75,
     "metadata": {},
     "output_type": "execute_result"
    }
   ],
   "source": [
    "#SCRAPE DATA FOR PRODUCT DESCRIPTION\n",
    "for i in top_lap:\n",
    "    lap_description.append(str(i.text.strip(\"\").split(\"\\n\")[2]))\n",
    "lap_description"
   ]
  },
  {
   "cell_type": "code",
   "execution_count": 78,
   "id": "f94272a9",
   "metadata": {},
   "outputs": [
    {
     "data": {
      "text/plain": [
       "['03. ASUS Vivobook Pro 14 OLED',\n",
       " 'FULL SPECS',\n",
       " 'What’s a good gaming laptop without a good display? Someone at ASUS probably thought the same and which is why we got the Vivobook Pro 14 OLED creators laptop. The best part is that in addition to having an OLED display, the laptop also has a dedicated Nvidia GTX 1650 GPU. Meaning you can do your creative tasks like photo and video editing on this device and enjoy gaming in rich details. The 14-inch 2.8k OLED display also has a 90Hz refresh rate, making everything you see on it very smooth. Lastly, the ASUS Vivobook Pro 14 OLED is probably one of most affordable OLED gaming laptops in India.',\n",
       " 'Available',\n",
       " '₹ 88500',\n",
       " 'BUY NOW']"
      ]
     },
     "execution_count": 78,
     "metadata": {},
     "output_type": "execute_result"
    }
   ],
   "source": [
    "#scrape specification\n",
    "\n",
    "top_lap[2].text.strip(\"\").split(\"\\n\")\n"
   ]
  },
  {
   "cell_type": "markdown",
   "id": "bc0ae0f8",
   "metadata": {},
   "source": [
    "## 7. Write a python program to scrape the details for all billionaires from www.forbes.com. Details to be scrapped:\n",
    "“Rank”, “Name”, “Net worth”, “Age”, “Citizenship”, “Source”, “Industry”. "
   ]
  },
  {
   "cell_type": "code",
   "execution_count": 3,
   "id": "5767c94f",
   "metadata": {},
   "outputs": [],
   "source": [
    "url7='https://www.forbes.com/?sh=34a594d82254'"
   ]
  },
  {
   "cell_type": "code",
   "execution_count": 4,
   "id": "655297ad",
   "metadata": {},
   "outputs": [],
   "source": [
    "driver.get(url7)\n"
   ]
  },
  {
   "cell_type": "code",
   "execution_count": 16,
   "id": "b30ec64d",
   "metadata": {},
   "outputs": [],
   "source": [
    "drop_down=driver.find_element(By.XPATH,'/html/body/div[1]/header/nav/div[1]/div/div/div[2]/ul/li[1]/div[2]/div[3]/ul/li[1]/a')\n"
   ]
  },
  {
   "cell_type": "code",
   "execution_count": 17,
   "id": "97258153",
   "metadata": {},
   "outputs": [],
   "source": [
    "drop_down.click()"
   ]
  },
  {
   "cell_type": "code",
   "execution_count": 27,
   "id": "521a0379",
   "metadata": {},
   "outputs": [
    {
     "data": {
      "text/plain": [
       "'1'"
      ]
     },
     "execution_count": 27,
     "metadata": {},
     "output_type": "execute_result"
    }
   ],
   "source": [
    "#scraping the ranks\n",
    "\n",
    "rank=driver.find_elements(By.XPATH,'//div[@class=\"rank\"]')\n",
    "rank[0].text.split(\".\")[0]"
   ]
  },
  {
   "cell_type": "code",
   "execution_count": 30,
   "id": "afae185e",
   "metadata": {},
   "outputs": [],
   "source": [
    "# scraping the name \n",
    "\n",
    "person_name=driver.find_elements(By.XPATH,'//div[@class=\"personName\"]')"
   ]
  },
  {
   "cell_type": "code",
   "execution_count": 31,
   "id": "c041357b",
   "metadata": {},
   "outputs": [
    {
     "data": {
      "text/plain": [
       "'Yu Renrong'"
      ]
     },
     "execution_count": 31,
     "metadata": {},
     "output_type": "execute_result"
    }
   ],
   "source": [
    "person_name[199].text"
   ]
  },
  {
   "cell_type": "code",
   "execution_count": 32,
   "id": "7e1e4712",
   "metadata": {},
   "outputs": [
    {
     "data": {
      "text/plain": [
       "'$219 B'"
      ]
     },
     "execution_count": 32,
     "metadata": {},
     "output_type": "execute_result"
    }
   ],
   "source": [
    "#scraping the net worth\n",
    "\n",
    "n_worth=driver.find_elements(By.XPATH,'//div[@class=\"netWorth\"]')\n",
    "n_worth[0].text"
   ]
  },
  {
   "cell_type": "code",
   "execution_count": 33,
   "id": "5d1efb38",
   "metadata": {},
   "outputs": [
    {
     "data": {
      "text/plain": [
       "'United States'"
      ]
     },
     "execution_count": 33,
     "metadata": {},
     "output_type": "execute_result"
    }
   ],
   "source": [
    "#scraping the country details\n",
    "c_ountry=driver.find_elements(By.XPATH,'//div[@class=\"countryOfCitizenship\"]')\n",
    "c_ountry[0].text"
   ]
  },
  {
   "cell_type": "code",
   "execution_count": 34,
   "id": "e3e60b47",
   "metadata": {},
   "outputs": [
    {
     "data": {
      "text/plain": [
       "'Tesla, SpaceX'"
      ]
     },
     "execution_count": 34,
     "metadata": {},
     "output_type": "execute_result"
    }
   ],
   "source": [
    "# scraping the businees deatils\n",
    "\n",
    "s_ource=driver.find_elements(By.XPATH,'//div[@class=\"source\"]')\n",
    "s_ource[0].text"
   ]
  },
  {
   "cell_type": "code",
   "execution_count": 105,
   "id": "012d9dec",
   "metadata": {},
   "outputs": [],
   "source": [
    "#making the empty list to add all the details of the scraped data\n",
    "\n",
    "Ranks=[]\n",
    "Names=[]\n",
    "Net_worth=[]\n",
    "Country=[]\n",
    "Source=[]"
   ]
  },
  {
   "cell_type": "code",
   "execution_count": 106,
   "id": "fcb389f0",
   "metadata": {},
   "outputs": [],
   "source": [
    "for i in rank:\n",
    "    Ranks.append(i.text.split(\".\")[0])\n",
    "    \n",
    "for i in person_name:\n",
    "    Names.append(i.text)\n",
    "\n",
    "for i in n_worth:\n",
    "    Net_worth.append(i.text)\n",
    "\n",
    "for i in c_ountry:\n",
    "    Country.append(i.text)\n",
    "for i in s_ource:\n",
    "    Source.append(i.text)\n"
   ]
  },
  {
   "cell_type": "code",
   "execution_count": 108,
   "id": "c1429201",
   "metadata": {},
   "outputs": [
    {
     "data": {
      "text/plain": [
       "200"
      ]
     },
     "execution_count": 108,
     "metadata": {},
     "output_type": "execute_result"
    }
   ],
   "source": [
    "len(Net_worth)"
   ]
  },
  {
   "cell_type": "code",
   "execution_count": 109,
   "id": "adec3d86",
   "metadata": {},
   "outputs": [],
   "source": [
    "billioner=pd.DataFrame({'Ranks':Ranks,'Names':Names,'Net_worth':Net_worth,'Country':Country,'Source':Source})"
   ]
  },
  {
   "cell_type": "code",
   "execution_count": 110,
   "id": "3e0f91ca",
   "metadata": {},
   "outputs": [
    {
     "data": {
      "text/html": [
       "<div>\n",
       "<style scoped>\n",
       "    .dataframe tbody tr th:only-of-type {\n",
       "        vertical-align: middle;\n",
       "    }\n",
       "\n",
       "    .dataframe tbody tr th {\n",
       "        vertical-align: top;\n",
       "    }\n",
       "\n",
       "    .dataframe thead th {\n",
       "        text-align: right;\n",
       "    }\n",
       "</style>\n",
       "<table border=\"1\" class=\"dataframe\">\n",
       "  <thead>\n",
       "    <tr style=\"text-align: right;\">\n",
       "      <th></th>\n",
       "      <th>Ranks</th>\n",
       "      <th>Names</th>\n",
       "      <th>Net_worth</th>\n",
       "      <th>Country</th>\n",
       "      <th>Source</th>\n",
       "    </tr>\n",
       "  </thead>\n",
       "  <tbody>\n",
       "    <tr>\n",
       "      <th>0</th>\n",
       "      <td>1</td>\n",
       "      <td>Elon Musk</td>\n",
       "      <td>$219 B</td>\n",
       "      <td>United States</td>\n",
       "      <td>Tesla, SpaceX</td>\n",
       "    </tr>\n",
       "    <tr>\n",
       "      <th>1</th>\n",
       "      <td>2</td>\n",
       "      <td>Jeff Bezos</td>\n",
       "      <td>$171 B</td>\n",
       "      <td>United States</td>\n",
       "      <td>Amazon</td>\n",
       "    </tr>\n",
       "    <tr>\n",
       "      <th>2</th>\n",
       "      <td>3</td>\n",
       "      <td>Bernard Arnault &amp; family</td>\n",
       "      <td>$158 B</td>\n",
       "      <td>France</td>\n",
       "      <td>LVMH</td>\n",
       "    </tr>\n",
       "    <tr>\n",
       "      <th>3</th>\n",
       "      <td>4</td>\n",
       "      <td>Bill Gates</td>\n",
       "      <td>$129 B</td>\n",
       "      <td>United States</td>\n",
       "      <td>Microsoft</td>\n",
       "    </tr>\n",
       "    <tr>\n",
       "      <th>4</th>\n",
       "      <td>5</td>\n",
       "      <td>Warren Buffett</td>\n",
       "      <td>$118 B</td>\n",
       "      <td>United States</td>\n",
       "      <td>Berkshire Hathaway</td>\n",
       "    </tr>\n",
       "    <tr>\n",
       "      <th>...</th>\n",
       "      <td>...</td>\n",
       "      <td>...</td>\n",
       "      <td>...</td>\n",
       "      <td>...</td>\n",
       "      <td>...</td>\n",
       "    </tr>\n",
       "    <tr>\n",
       "      <th>195</th>\n",
       "      <td>192</td>\n",
       "      <td>Marcel Herrmann Telles</td>\n",
       "      <td>$10.3 B</td>\n",
       "      <td>Brazil</td>\n",
       "      <td>beer</td>\n",
       "    </tr>\n",
       "    <tr>\n",
       "      <th>196</th>\n",
       "      <td>197</td>\n",
       "      <td>Leon Black</td>\n",
       "      <td>$10 B</td>\n",
       "      <td>United States</td>\n",
       "      <td>private equity</td>\n",
       "    </tr>\n",
       "    <tr>\n",
       "      <th>197</th>\n",
       "      <td>197</td>\n",
       "      <td>Joe Gebbia</td>\n",
       "      <td>$10 B</td>\n",
       "      <td>United States</td>\n",
       "      <td>Airbnb</td>\n",
       "    </tr>\n",
       "    <tr>\n",
       "      <th>198</th>\n",
       "      <td>197</td>\n",
       "      <td>David Geffen</td>\n",
       "      <td>$10 B</td>\n",
       "      <td>United States</td>\n",
       "      <td>movies, record labels</td>\n",
       "    </tr>\n",
       "    <tr>\n",
       "      <th>199</th>\n",
       "      <td>197</td>\n",
       "      <td>Yu Renrong</td>\n",
       "      <td>$10 B</td>\n",
       "      <td>China</td>\n",
       "      <td>semiconductors</td>\n",
       "    </tr>\n",
       "  </tbody>\n",
       "</table>\n",
       "<p>200 rows × 5 columns</p>\n",
       "</div>"
      ],
      "text/plain": [
       "    Ranks                     Names Net_worth        Country  \\\n",
       "0       1                 Elon Musk    $219 B  United States   \n",
       "1       2                Jeff Bezos    $171 B  United States   \n",
       "2       3  Bernard Arnault & family    $158 B         France   \n",
       "3       4                Bill Gates    $129 B  United States   \n",
       "4       5            Warren Buffett    $118 B  United States   \n",
       "..    ...                       ...       ...            ...   \n",
       "195   192    Marcel Herrmann Telles   $10.3 B         Brazil   \n",
       "196   197                Leon Black     $10 B  United States   \n",
       "197   197                Joe Gebbia     $10 B  United States   \n",
       "198   197              David Geffen     $10 B  United States   \n",
       "199   197                Yu Renrong     $10 B          China   \n",
       "\n",
       "                    Source  \n",
       "0            Tesla, SpaceX  \n",
       "1                   Amazon  \n",
       "2                     LVMH  \n",
       "3                Microsoft  \n",
       "4       Berkshire Hathaway  \n",
       "..                     ...  \n",
       "195                   beer  \n",
       "196         private equity  \n",
       "197                 Airbnb  \n",
       "198  movies, record labels  \n",
       "199         semiconductors  \n",
       "\n",
       "[200 rows x 5 columns]"
      ]
     },
     "execution_count": 110,
     "metadata": {},
     "output_type": "execute_result"
    }
   ],
   "source": [
    "billioner"
   ]
  },
  {
   "cell_type": "markdown",
   "id": "c999d5cc",
   "metadata": {},
   "source": [
    "### 9. Write a python program to scrape a data for all available Hostels from https://www.hostelworld.com/ in\n",
    "“London” location. You have to scrape hostel name, distance from city centre, ratings, total reviews, overall\n",
    "reviews, privates from price, dorms from price, facilities and property description. \n"
   ]
  },
  {
   "cell_type": "code",
   "execution_count": 31,
   "id": "f2612e8e",
   "metadata": {},
   "outputs": [],
   "source": [
    "driver=webdriver.Chrome(r\"C:\\Users\\GauRav SingH\\Desktop\\Internship\\Selenium\\chromedriver.exe\")"
   ]
  },
  {
   "cell_type": "code",
   "execution_count": 32,
   "id": "101f6628",
   "metadata": {},
   "outputs": [],
   "source": [
    "url9='https://www.hostelworld.com/'"
   ]
  },
  {
   "cell_type": "code",
   "execution_count": 33,
   "id": "fa93574e",
   "metadata": {},
   "outputs": [],
   "source": [
    "driver.get(url9)"
   ]
  },
  {
   "cell_type": "code",
   "execution_count": 36,
   "id": "bf4118ae",
   "metadata": {},
   "outputs": [],
   "source": [
    "loc=driver.find_element(By.ID,\"search-input-field\")\n",
    "loc.send_keys(\"London\")"
   ]
  },
  {
   "cell_type": "code",
   "execution_count": 41,
   "id": "e6f96433",
   "metadata": {},
   "outputs": [],
   "source": [
    "search=driver.find_element(By.XPATH,'/html/body/div[3]/div/div/div[2]/div[2]/div/div/div[4]/div/div[2]/div/div[1]/div/div/div/span/i')\n",
    "search.click()"
   ]
  },
  {
   "cell_type": "code",
   "execution_count": null,
   "id": "cd80634b",
   "metadata": {},
   "outputs": [],
   "source": []
  }
 ],
 "metadata": {
  "kernelspec": {
   "display_name": "Python 3 (ipykernel)",
   "language": "python",
   "name": "python3"
  },
  "language_info": {
   "codemirror_mode": {
    "name": "ipython",
    "version": 3
   },
   "file_extension": ".py",
   "mimetype": "text/x-python",
   "name": "python",
   "nbconvert_exporter": "python",
   "pygments_lexer": "ipython3",
   "version": "3.10.4"
  }
 },
 "nbformat": 4,
 "nbformat_minor": 5
}
